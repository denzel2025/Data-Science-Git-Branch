{
  "nbformat": 4,
  "nbformat_minor": 0,
  "metadata": {
    "colab": {
      "provenance": [],
      "authorship_tag": "ABX9TyOjOV6Cf45Rky9gMuQx8s7v",
      "include_colab_link": true
    },
    "kernelspec": {
      "name": "python3",
      "display_name": "Python 3"
    },
    "language_info": {
      "name": "python"
    }
  },
  "cells": [
    {
      "cell_type": "markdown",
      "metadata": {
        "id": "view-in-github",
        "colab_type": "text"
      },
      "source": [
        "<a href=\"https://colab.research.google.com/github/denzel2025/Data-Science-Git-Branch/blob/main/Lec_14_Dictionaries.ipynb\" target=\"_parent\"><img src=\"https://colab.research.google.com/assets/colab-badge.svg\" alt=\"Open In Colab\"/></a>"
      ]
    },
    {
      "cell_type": "code",
      "execution_count": 1,
      "metadata": {
        "id": "h4dZc9TP2jmy"
      },
      "outputs": [],
      "source": [
        "#Dictionaries - it connects words(Keys) with definitions(values)\n"
      ]
    },
    {
      "cell_type": "code",
      "source": [
        "student = {'name': 'Denzel', 'age': 25, 'courses': ['Math', 'CompSci']}\n",
        "print(student[\"name\"])\n",
        "print(student[\"courses\"])"
      ],
      "metadata": {
        "colab": {
          "base_uri": "https://localhost:8080/"
        },
        "id": "DReTNVZh4sfG",
        "outputId": "869a64fd-de2d-4e21-e7d7-26fd1e3f78c6"
      },
      "execution_count": 7,
      "outputs": [
        {
          "output_type": "stream",
          "name": "stdout",
          "text": [
            "Denzel\n",
            "['Math', 'CompSci']\n"
          ]
        }
      ]
    },
    {
      "cell_type": "code",
      "source": [
        "#Modifying Dictionaries\n",
        "#Add/update Entry\n",
        "student[\"grade\"] = \"A\"\n",
        "print(student)"
      ],
      "metadata": {
        "colab": {
          "base_uri": "https://localhost:8080/"
        },
        "id": "3uhNn_Ke5Jpw",
        "outputId": "d2b2619e-31aa-449d-cdc9-a73555ebfc0c"
      },
      "execution_count": 9,
      "outputs": [
        {
          "output_type": "stream",
          "name": "stdout",
          "text": [
            "{'name': 'Denzel', 'age': 25, 'courses': ['Math', 'CompSci'], 'grade': 'A'}\n"
          ]
        }
      ]
    },
    {
      "cell_type": "code",
      "source": [
        "#Delete Entry\n",
        "del student[\"age\"]\n",
        "print(student)"
      ],
      "metadata": {
        "colab": {
          "base_uri": "https://localhost:8080/"
        },
        "id": "OJGPZdhc7Ha1",
        "outputId": "ec970a0c-c0fd-4e76-f8a0-d403767fdc19"
      },
      "execution_count": 10,
      "outputs": [
        {
          "output_type": "stream",
          "name": "stdout",
          "text": [
            "{'name': 'Denzel', 'courses': ['Math', 'CompSci'], 'grade': 'A'}\n"
          ]
        }
      ]
    },
    {
      "cell_type": "code",
      "source": [
        "#Check if Key Exists\n",
        "if \"name\" in student:\n",
        "    print(student[\"name\"])"
      ],
      "metadata": {
        "colab": {
          "base_uri": "https://localhost:8080/"
        },
        "id": "37LBvdTT7bjF",
        "outputId": "b8f3a5aa-bf59-48c4-bd50-f887b9d8e6fa"
      },
      "execution_count": 13,
      "outputs": [
        {
          "output_type": "stream",
          "name": "stdout",
          "text": [
            "Denzel\n"
          ]
        }
      ]
    },
    {
      "cell_type": "code",
      "source": [
        "\"name\" in student"
      ],
      "metadata": {
        "colab": {
          "base_uri": "https://localhost:8080/"
        },
        "id": "Azqg2bU-7pBk",
        "outputId": "6f09c262-2813-412a-b52d-8d1c6e54c5b0"
      },
      "execution_count": 15,
      "outputs": [
        {
          "output_type": "execute_result",
          "data": {
            "text/plain": [
              "True"
            ]
          },
          "metadata": {},
          "execution_count": 15
        }
      ]
    },
    {
      "cell_type": "code",
      "source": [
        "\"age\" in student"
      ],
      "metadata": {
        "colab": {
          "base_uri": "https://localhost:8080/"
        },
        "id": "Z7mUK0jZ7_qm",
        "outputId": "a9506291-57f0-4c1c-bec2-b2a5c11b30d5"
      },
      "execution_count": 16,
      "outputs": [
        {
          "output_type": "execute_result",
          "data": {
            "text/plain": [
              "False"
            ]
          },
          "metadata": {},
          "execution_count": 16
        }
      ]
    },
    {
      "cell_type": "code",
      "source": [
        "#Quick practice\n",
        "info = {\"city\": \"Nairobi\", \"country\": \"Kenya\"}\n",
        "info[\"population\"] = \"5 Million\"\n",
        "print(info)\n",
        "\"country\" in info"
      ],
      "metadata": {
        "colab": {
          "base_uri": "https://localhost:8080/"
        },
        "id": "i7ahx_0c8LPp",
        "outputId": "7322f643-ec8d-4c2b-ae55-a40e77f5647c"
      },
      "execution_count": 21,
      "outputs": [
        {
          "output_type": "stream",
          "name": "stdout",
          "text": [
            "{'city': 'Nairobi', 'country': 'Kenya', 'population': '5 Million'}\n"
          ]
        },
        {
          "output_type": "execute_result",
          "data": {
            "text/plain": [
              "True"
            ]
          },
          "metadata": {},
          "execution_count": 21
        }
      ]
    },
    {
      "cell_type": "code",
      "source": [
        "#Iterating Over Dictionaries\n",
        "car = {\"brand\": \"Ford\", \"model\": \"Mustang\", \"year\": 1964}\n",
        "#Loop through all and print\n",
        "for key, value in car.items():\n",
        "    print(key, \"=>\", value)"
      ],
      "metadata": {
        "colab": {
          "base_uri": "https://localhost:8080/"
        },
        "id": "L850H2Lx9Urs",
        "outputId": "2d2d9975-621f-4632-ab83-e99e63d7c055"
      },
      "execution_count": 24,
      "outputs": [
        {
          "output_type": "stream",
          "name": "stdout",
          "text": [
            "brand => Ford\n",
            "model => Mustang\n",
            "year => 1964\n"
          ]
        }
      ]
    },
    {
      "cell_type": "code",
      "source": [
        "#Dictionary Mutability\n",
        "car = {\"brand\": \"Ford\", \"model\": \"Mustang\", \"year\": 1964}\n",
        "x = car\n",
        "x[\"year\"] = 2020\n",
        "print(car)"
      ],
      "metadata": {
        "colab": {
          "base_uri": "https://localhost:8080/"
        },
        "id": "wcztJGYh_3xl",
        "outputId": "aad3d22f-d4d1-454c-8942-ecd0cfbb09de"
      },
      "execution_count": 25,
      "outputs": [
        {
          "output_type": "stream",
          "name": "stdout",
          "text": [
            "{'brand': 'Ford', 'model': 'Mustang', 'year': 2020}\n"
          ]
        }
      ]
    },
    {
      "cell_type": "code",
      "source": [
        "#Keys must be immutable\n",
        "#Values are mutable"
      ],
      "metadata": {
        "id": "F0EyUJhVAsNl"
      },
      "execution_count": 26,
      "outputs": []
    },
    {
      "cell_type": "code",
      "source": [
        "#Useful dictionaries Methods\n",
        "#.get(key, default) - Returns value or default\n",
        "#.setdefault(key, default) - set if key doesn't exist\n",
        "#.keys() - list of keys\n",
        "#.values() - list of values\n",
        "#.items() - List of(key, value)pairs"
      ],
      "metadata": {
        "id": "rfVZoH4WBp_L"
      },
      "execution_count": 27,
      "outputs": []
    },
    {
      "cell_type": "code",
      "source": [
        "#Hands-On Labs\n",
        "#Lab 1:Word Frequency Counter\n",
        "text = \"hello hello world\"\n",
        "word_count = {}\n",
        "for word in text.split():\n",
        "    word_count[word] = word_count.setdefault(word, 0) + 1\n",
        "print(word_count)"
      ],
      "metadata": {
        "colab": {
          "base_uri": "https://localhost:8080/"
        },
        "id": "Am1397arCitm",
        "outputId": "304f036a-03d7-4c9a-90fe-cee7f6741812"
      },
      "execution_count": 29,
      "outputs": [
        {
          "output_type": "stream",
          "name": "stdout",
          "text": [
            "{'hello': 2, 'world': 1}\n"
          ]
        }
      ]
    },
    {
      "cell_type": "code",
      "source": [
        "#Lab 2:\n",
        "\n",
        "grades = {\n",
        "    'Alice': \"A\",\n",
        "    'Bob': \"A-\",\n",
        "    'Charlie': \"B+\"\n",
        "}\n",
        "students = [\"Alice\", \"Charlie\", \"Bob\"]\n",
        "for s in students:\n",
        "  print(f\"{s} got grades {grades.get(s, 'N/A')}\")"
      ],
      "metadata": {
        "colab": {
          "base_uri": "https://localhost:8080/"
        },
        "id": "PkLmCh_WC-F2",
        "outputId": "ff87b074-95a8-48f5-f658-a1ea822e27ed"
      },
      "execution_count": 33,
      "outputs": [
        {
          "output_type": "stream",
          "name": "stdout",
          "text": [
            "Alice got grades A\n",
            "Charlie got grades B+\n",
            "Bob got grades A-\n"
          ]
        }
      ]
    },
    {
      "cell_type": "code",
      "source": [
        "#Lab 3:\n",
        "chess = {\"a1\": \"wR\", \"b1\": \"wN\", \"c1\": \"wB\", \"d1\": \"wQ\", \"e1\": \"wK\", \"f1\": \"wB\", \"g1\": \"wN\", \"h1\": \"wR\"}\n",
        "print(chess.get(\"h1\"))"
      ],
      "metadata": {
        "colab": {
          "base_uri": "https://localhost:8080/"
        },
        "id": "S9jTiKqWEENy",
        "outputId": "a150c54c-8f63-45d1-a87b-7fa641e5a4ef"
      },
      "execution_count": 34,
      "outputs": [
        {
          "output_type": "stream",
          "name": "stdout",
          "text": [
            "wR\n"
          ]
        }
      ]
    },
    {
      "cell_type": "code",
      "source": [
        "#Lab 4:\n",
        "#Track inventory\n",
        "inventory = {\"apple\": 2, \"banana\": 3}\n",
        "loot = [\"apple\", \"banana\", \"orange\"]\n",
        "for item in loot:\n",
        "    inventory[item] = inventory.setdefault(item, 0) + 1\n",
        "print(inventory)"
      ],
      "metadata": {
        "colab": {
          "base_uri": "https://localhost:8080/"
        },
        "id": "TXMyVkVvE2sj",
        "outputId": "b7836731-54c3-48a7-96b3-b6f80316fab1"
      },
      "execution_count": 35,
      "outputs": [
        {
          "output_type": "stream",
          "name": "stdout",
          "text": [
            "{'apple': 3, 'banana': 4, 'orange': 1}\n"
          ]
        }
      ]
    },
    {
      "cell_type": "code",
      "source": [],
      "metadata": {
        "id": "RIefX8JcFMpX"
      },
      "execution_count": null,
      "outputs": []
    }
  ]
}