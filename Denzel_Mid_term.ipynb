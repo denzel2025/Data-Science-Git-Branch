{
  "nbformat": 4,
  "nbformat_minor": 0,
  "metadata": {
    "colab": {
      "provenance": [],
      "authorship_tag": "ABX9TyP/LlTXi6F6vzsGr3kleiLp",
      "include_colab_link": true
    },
    "kernelspec": {
      "name": "python3",
      "display_name": "Python 3"
    },
    "language_info": {
      "name": "python"
    }
  },
  "cells": [
    {
      "cell_type": "markdown",
      "metadata": {
        "id": "view-in-github",
        "colab_type": "text"
      },
      "source": [
        "<a href=\"https://colab.research.google.com/github/denzel2025/Data-Science-Git-Branch/blob/main/Denzel_Mid_term.ipynb\" target=\"_parent\"><img src=\"https://colab.research.google.com/assets/colab-badge.svg\" alt=\"Open In Colab\"/></a>"
      ]
    },
    {
      "cell_type": "code",
      "execution_count": 27,
      "metadata": {
        "colab": {
          "base_uri": "https://localhost:8080/"
        },
        "id": "3iu1WTlndAXq",
        "outputId": "889a8f9d-734a-4e08-bb1e-741599a8dac2"
      },
      "outputs": [
        {
          "output_type": "stream",
          "name": "stdout",
          "text": [
            "Enter the exam score:101\n",
            "Invalid exam score: Percentage must be between 0 and 100.\n"
          ]
        }
      ],
      "source": [
        "#11.GRADE CONVERTER\n",
        "user_input = input(\"Enter the exam score:\")\n",
        "grade = int(user_input)\n",
        "if not (0 <= grade <= 100):\n",
        "    print(\"Invalid exam score: Percentage must be between 0 and 100.\")\n",
        "elif grade >= 90:\n",
        "    print(\"A\")\n",
        "elif grade >= 80:\n",
        "    print(\"B\")\n",
        "elif grade >= 70:\n",
        "    print(\"C\")\n",
        "elif grade >= 60:\n",
        "    print(\"D\")\n",
        "else:\n",
        "    print(\"F\")"
      ]
    },
    {
      "cell_type": "code",
      "source": [
        "#12.VOWEL COUNTER\n",
        "#Asks the user to enter a sentence\n",
        "sentence = input(\"Enter a sentence:\")\n",
        "\n",
        "def count_vowels(sentence):\n",
        "    #Makes the programm case insensitive\n",
        "    vowels = \"aeiouAEIOU\"\n",
        "    count = 0\n",
        "    # The following lines were not indented correctly\n",
        "    for ch in sentence:\n",
        "        if ch in vowels:\n",
        "            count += 1\n",
        "    return count\n",
        "\n",
        "#Gives a total count of the vowels.\n",
        "print (count_vowels(sentence))"
      ],
      "metadata": {
        "colab": {
          "base_uri": "https://localhost:8080/"
        },
        "id": "jEaTojZNdECn",
        "outputId": "7d6a8b43-49e6-4d51-c9fd-b1a4e9df5f63"
      },
      "execution_count": 28,
      "outputs": [
        {
          "output_type": "stream",
          "name": "stdout",
          "text": [
            "Enter a sentence:education is key\n",
            "7\n"
          ]
        }
      ]
    },
    {
      "cell_type": "code",
      "source": [
        "#13.DECIMAL TO BINARY CONVERTER\n",
        "n = input(\"Enter a decimal number:\")\n",
        "def decimal_to_binary(n):\n",
        "    if n == 0:\n",
        "        return \"0\"\n",
        "    binary = \"\"\n",
        "    while n > 0:\n",
        "        binary = str(n % 2) + binary\n",
        "        n = n // 2\n",
        "    return binary\n",
        "# Convert the input to a float first to handle decimal inputs, then to an integer\n",
        "print(decimal_to_binary(int(float(n))))"
      ],
      "metadata": {
        "colab": {
          "base_uri": "https://localhost:8080/"
        },
        "id": "ib07MhTwfKi8",
        "outputId": "266f8f0d-bd1d-4c3f-e5f6-c832936170b8"
      },
      "execution_count": 30,
      "outputs": [
        {
          "output_type": "stream",
          "name": "stdout",
          "text": [
            "Enter a decimal number:1000\n",
            "1111101000\n"
          ]
        }
      ]
    },
    {
      "cell_type": "code",
      "source": [
        "#14.Sum of digits code\n",
        "\n",
        "# Prompt the user to enter a positive integer\n",
        "num_str = input(\"Enter a positive integer: \")\n",
        "\n",
        "# Initialize a variable to store the sum of the digits\n",
        "digit_sum = 0\n",
        "\n",
        "# Iterate through each character (digit) in the input string\n",
        "for digit_char in num_str:\n",
        "  # Convert the character to an integer and add it to the sum\n",
        "  digit_sum += int(digit_char)\n",
        "\n",
        "# Print the final sum of the digits\n",
        "print(\"Sum of digits:\", digit_sum)"
      ],
      "metadata": {
        "colab": {
          "base_uri": "https://localhost:8080/"
        },
        "id": "vO-hAr7qhPHw",
        "outputId": "568b673f-8531-443f-bb42-adfea1fe04a7"
      },
      "execution_count": 23,
      "outputs": [
        {
          "output_type": "stream",
          "name": "stdout",
          "text": [
            "Enter a positive integer: 20\n",
            "Sum of digits: 2\n"
          ]
        }
      ]
    },
    {
      "cell_type": "code",
      "source": [],
      "metadata": {
        "id": "mALR74aKijKR"
      },
      "execution_count": 21,
      "outputs": []
    }
  ]
}