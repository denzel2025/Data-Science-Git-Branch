{
  "nbformat": 4,
  "nbformat_minor": 0,
  "metadata": {
    "colab": {
      "provenance": [],
      "authorship_tag": "ABX9TyPfh5qowAxOYXoMoUHVqTAR",
      "include_colab_link": true
    },
    "kernelspec": {
      "name": "python3",
      "display_name": "Python 3"
    },
    "language_info": {
      "name": "python"
    }
  },
  "cells": [
    {
      "cell_type": "markdown",
      "metadata": {
        "id": "view-in-github",
        "colab_type": "text"
      },
      "source": [
        "<a href=\"https://colab.research.google.com/github/denzel2025/Data-Science-Git-Branch/blob/main/Untitled23.ipynb\" target=\"_parent\"><img src=\"https://colab.research.google.com/assets/colab-badge.svg\" alt=\"Open In Colab\"/></a>"
      ]
    },
    {
      "cell_type": "code",
      "execution_count": 13,
      "metadata": {
        "colab": {
          "base_uri": "https://localhost:8080/"
        },
        "id": "iBtDxNYtMLTi",
        "outputId": "61088f90-9496-4861-ddef-eb8f16eadbb8"
      },
      "outputs": [
        {
          "output_type": "execute_result",
          "data": {
            "text/plain": [
              "5"
            ]
          },
          "metadata": {},
          "execution_count": 13
        }
      ],
      "source": [
        "class Vehicle:\n",
        "    def __init__(self, wheels, occupants, color='white'):\n",
        "        self.wheels = wheels\n",
        "        self.occupants = occupants\n",
        "        self.color = color\n",
        "        self.max_occupants = 5\n",
        "\n",
        "    def add_n_occupants(self, n):\n",
        "        if self.occupants + n > self.max_occupants:\n",
        "          raise ValueError('Too many occupants')\n",
        "        self.occupants += n\n",
        "        return self.occupants\n",
        "\n",
        "v = Vehicle(4, 2)\n",
        "v.add_n_occupants(3)"
      ]
    },
    {
      "cell_type": "code",
      "source": [
        "#The circle class\n",
        "class Circle:\n",
        "  def __init__(self, radius):\n",
        "    self.radius = radius\n",
        "  def get_radius(self):\n",
        "    return self.radius\n",
        "  def set_radius(self, radius):\n",
        "    self.radius = radius\n",
        "  def get_area(self):\n",
        "    return 3.14 * (self.radius ** 2)\n",
        "  def equal(self, other):\n",
        "    return self.radius == other.radius\n",
        "  def bigger(self, other):\n",
        "    return self if self.radius > other.radius else other # Corrected 'c' to 'other'\n",
        "\n",
        "c1=Circle(4)\n",
        "c2=Circle(5)\n",
        "\n",
        "print(c1.get_area())\n",
        "print(c1.equal(c2))\n",
        "print(c1.bigger(c2).radius)"
      ],
      "metadata": {
        "colab": {
          "base_uri": "https://localhost:8080/"
        },
        "id": "fOr37GUFM79E",
        "outputId": "eb5ad95d-a34c-4bd0-9ac3-00bdc8177f0c"
      },
      "execution_count": 11,
      "outputs": [
        {
          "output_type": "stream",
          "name": "stdout",
          "text": [
            "50.24\n",
            "False\n",
            "5\n"
          ]
        }
      ]
    },
    {
      "cell_type": "code",
      "source": [],
      "metadata": {
        "id": "U3Ysr7EeQUdd"
      },
      "execution_count": null,
      "outputs": []
    }
  ]
}