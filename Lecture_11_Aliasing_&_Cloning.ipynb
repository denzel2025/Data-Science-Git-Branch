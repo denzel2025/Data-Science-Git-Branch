{
  "nbformat": 4,
  "nbformat_minor": 0,
  "metadata": {
    "colab": {
      "provenance": [],
      "authorship_tag": "ABX9TyOMBWetMTKa7gCEqK6UYFW5",
      "include_colab_link": true
    },
    "kernelspec": {
      "name": "python3",
      "display_name": "Python 3"
    },
    "language_info": {
      "name": "python"
    }
  },
  "cells": [
    {
      "cell_type": "markdown",
      "metadata": {
        "id": "view-in-github",
        "colab_type": "text"
      },
      "source": [
        "<a href=\"https://colab.research.google.com/github/denzel2025/Data-Science-Git-Branch/blob/main/Lecture_11_Aliasing_%26_Cloning.ipynb\" target=\"_parent\"><img src=\"https://colab.research.google.com/assets/colab-badge.svg\" alt=\"Open In Colab\"/></a>"
      ]
    },
    {
      "cell_type": "code",
      "execution_count": 2,
      "metadata": {
        "colab": {
          "base_uri": "https://localhost:8080/"
        },
        "id": "XRfPElXRvk_V",
        "outputId": "65fdd84d-893a-4718-f00b-f4cf78eb3486"
      },
      "outputs": [
        {
          "output_type": "stream",
          "name": "stdout",
          "text": [
            "Original list: ['red', 'orange', 'yellow', 'green']\n",
            "Alias list: ['red', 'orange', 'yellow', 'green']\n"
          ]
        }
      ],
      "source": [
        "#Aliasing\n",
        "colors = [\"red\", \"orange\", \"yellow\"]\n",
        "alias_colors = colors\n",
        "alias_colors.append(\"green\")\n",
        "print(\"Original list:\", colors)\n",
        "print(\"Alias list:\", alias_colors)"
      ]
    },
    {
      "cell_type": "code",
      "source": [
        "#Shallow copy\n",
        "import copy\n",
        "nested = [[1, 2], [3, 4]]\n",
        "shallow_copy = copy.copy(nested)\n",
        "nested[0][0] = 99\n",
        "print(\"Shallow Copy:\", shallow_copy)\n",
        "print(\"Original Nested:\", nested)"
      ],
      "metadata": {
        "colab": {
          "base_uri": "https://localhost:8080/"
        },
        "id": "8q_YusHpx-N7",
        "outputId": "e8bf94e3-f89a-451b-e566-8b982d98cda8"
      },
      "execution_count": 3,
      "outputs": [
        {
          "output_type": "stream",
          "name": "stdout",
          "text": [
            "Shallow Copy: [[99, 2], [3, 4]]\n",
            "Original Nested: [[99, 2], [3, 4]]\n"
          ]
        }
      ]
    },
    {
      "cell_type": "code",
      "source": [
        "#Deep Demo\n",
        "import copy\n",
        "nested = [[1, 2], [3, 4]]\n",
        "deep_copy = copy.deepcopy(nested)\n",
        "nested[0][0] = 99\n",
        "print(\"Deep Copy:\", deep_copy)\n",
        "print(\"Original Nested:\", nested)"
      ],
      "metadata": {
        "colab": {
          "base_uri": "https://localhost:8080/"
        },
        "id": "5PMKhJ5nzHvg",
        "outputId": "bf820879-88b8-4e9f-dcf9-297df2c6dd54"
      },
      "execution_count": 4,
      "outputs": [
        {
          "output_type": "stream",
          "name": "stdout",
          "text": [
            "Deep Copy: [[1, 2], [3, 4]]\n",
            "Original Nested: [[99, 2], [3, 4]]\n"
          ]
        }
      ]
    },
    {
      "cell_type": "code",
      "source": [
        "#List coprehension\n",
        "#square numbers using a list comprehension\n",
        "nums = [1, 2, 3, 4, 5]\n",
        "squares = [num ** 2 for num in nums]\n",
        "print(\"Original List:\", nums)\n",
        "print(\"Squares:\", squares)"
      ],
      "metadata": {
        "colab": {
          "base_uri": "https://localhost:8080/"
        },
        "id": "4_O4riCzz2u5",
        "outputId": "d05d60e4-d7fd-4ba5-d46f-3209c424d717"
      },
      "execution_count": 5,
      "outputs": [
        {
          "output_type": "stream",
          "name": "stdout",
          "text": [
            "Original List: [1, 2, 3, 4, 5]\n",
            "Squares: [1, 4, 9, 16, 25]\n"
          ]
        }
      ]
    },
    {
      "cell_type": "code",
      "source": [
        "#List coprehension\n",
        "#square numbers using a list comprehension\n",
        "nums = [1, 2, 3, 4, 5]\n",
        "squares = [num ** 3 for num in nums]\n",
        "print(\"Original List:\", nums)\n",
        "print(\"Squares:\", squares)"
      ],
      "metadata": {
        "colab": {
          "base_uri": "https://localhost:8080/"
        },
        "id": "SPMhcF0l0W39",
        "outputId": "59a54209-1e67-4f1d-f728-77f259f913fb"
      },
      "execution_count": 6,
      "outputs": [
        {
          "output_type": "stream",
          "name": "stdout",
          "text": [
            "Original List: [1, 2, 3, 4, 5]\n",
            "Squares: [1, 8, 27, 64, 125]\n"
          ]
        }
      ]
    },
    {
      "cell_type": "code",
      "source": [],
      "metadata": {
        "id": "5wTT4ab20qsa"
      },
      "execution_count": null,
      "outputs": []
    }
  ]
}