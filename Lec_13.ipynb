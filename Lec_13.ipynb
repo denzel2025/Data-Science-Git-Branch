{
  "nbformat": 4,
  "nbformat_minor": 0,
  "metadata": {
    "colab": {
      "provenance": [],
      "authorship_tag": "ABX9TyM3sSWjw+Li/hwoyzDTcMES",
      "include_colab_link": true
    },
    "kernelspec": {
      "name": "python3",
      "display_name": "Python 3"
    },
    "language_info": {
      "name": "python"
    }
  },
  "cells": [
    {
      "cell_type": "markdown",
      "metadata": {
        "id": "view-in-github",
        "colab_type": "text"
      },
      "source": [
        "<a href=\"https://colab.research.google.com/github/denzel2025/Data-Science-Git-Branch/blob/main/Lec_13.ipynb\" target=\"_parent\"><img src=\"https://colab.research.google.com/assets/colab-badge.svg\" alt=\"Open In Colab\"/></a>"
      ]
    },
    {
      "cell_type": "code",
      "execution_count": 1,
      "metadata": {
        "id": "Ko6zd-Q-uleL"
      },
      "outputs": [],
      "source": [
        "#Handling Exceptions with Try/Except - so our program does not break when unexpected stuff happens.\n"
      ]
    },
    {
      "cell_type": "code",
      "source": [
        "def divide(a, b):\n",
        "  try:\n",
        "    return a / b\n",
        "  except:\n",
        "    return \"Oops! Something went wrong.\"\n",
        "print(divide(10, 0))"
      ],
      "metadata": {
        "colab": {
          "base_uri": "https://localhost:8080/"
        },
        "id": "KgmyW6lSvvMJ",
        "outputId": "6b5b7f89-cdd7-40dd-d745-2436d8ae2e33"
      },
      "execution_count": 3,
      "outputs": [
        {
          "output_type": "stream",
          "name": "stdout",
          "text": [
            "Oops! Something went wrong.\n"
          ]
        }
      ]
    },
    {
      "cell_type": "code",
      "source": [
        "def safe_divide(a, b):\n",
        "  try:\n",
        "    return a / b\n",
        "  except ZeroDivisionError:\n",
        "    return \"Can't divide by zero.\"\n",
        "  except TypeError:\n",
        "    return \"Inputs must be numbers.\"\n",
        "print(safe_divide(10, 0))\n",
        "print(safe_divide(\"10\", 0))\n",
        "print(safe_divide(10, 'a'))"
      ],
      "metadata": {
        "colab": {
          "base_uri": "https://localhost:8080/"
        },
        "id": "8ivnDDJqv7oV",
        "outputId": "7ed0e108-25e2-4dbb-b157-f2c4ff8e140d"
      },
      "execution_count": 6,
      "outputs": [
        {
          "output_type": "stream",
          "name": "stdout",
          "text": [
            "Can't divide by zero.\n",
            "Inputs must be numbers.\n",
            "Inputs must be numbers.\n"
          ]
        }
      ]
    },
    {
      "cell_type": "code",
      "source": [
        "#Handling Specific Exceptions\n",
        "try:\n",
        "  num = int(input(\"Enter a number: \"))\n",
        "  print(10 / 0)\n",
        "except ValueError:\n",
        "  print(\"That's not a number!\")\n",
        "except ZeroDivisionError:\n",
        "  print(\"You can't divide by zero!\")\n",
        "except Exception as e:\n",
        "  print(\"Something went wrong:\", e)"
      ],
      "metadata": {
        "colab": {
          "base_uri": "https://localhost:8080/"
        },
        "id": "VjNQv3jTwiZ_",
        "outputId": "a51173ba-d180-4050-c3aa-807f174fbc04"
      },
      "execution_count": 7,
      "outputs": [
        {
          "output_type": "stream",
          "name": "stdout",
          "text": [
            "Enter a number: 21\n",
            "You can't divide by zero!\n"
          ]
        }
      ]
    },
    {
      "cell_type": "code",
      "source": [
        "#function that asks for two numbers and divides them safely\n",
        "\n",
        "def ask_and_divide():\n",
        "  try:\n",
        "    num1 = float(input(\"Enter the first number: \"))\n",
        "    num2 = float(input(\"Enter the second number: \"))\n",
        "    return safe_divide(num1, num2)\n",
        "  except ValueError:\n",
        "    return \"Invalid input. Please enter numbers only.\"\n",
        "\n",
        "print(ask_and_divide())"
      ],
      "metadata": {
        "colab": {
          "base_uri": "https://localhost:8080/"
        },
        "id": "LyQDhvKMx6Rw",
        "outputId": "2056acb1-e8b7-4218-d487-cd30b513d472"
      },
      "execution_count": 8,
      "outputs": [
        {
          "output_type": "stream",
          "name": "stdout",
          "text": [
            "Enter the first number: 10\n",
            "Enter the second number: 46\n",
            "0.21739130434782608\n"
          ]
        }
      ]
    },
    {
      "cell_type": "code",
      "source": [
        "#Rising Errors Yourself\n",
        "\n",
        "def validate_age(age):\n",
        "  if age < 0:\n",
        "    raise ValueError(\"Age cannot be negative.\")\n",
        "  return age\n",
        "\n",
        "try:\n",
        "  age = int(input(\"Enter your age: \"))\n",
        "  validate_age(age)\n",
        "except ValueError as e:\n",
        "  print(e)\n"
      ],
      "metadata": {
        "colab": {
          "base_uri": "https://localhost:8080/"
        },
        "id": "9j2dHr04ySS_",
        "outputId": "7f7fac76-241b-4352-e185-4776f21eaf10"
      },
      "execution_count": 12,
      "outputs": [
        {
          "name": "stdout",
          "output_type": "stream",
          "text": [
            "Enter your age: 34\n"
          ]
        }
      ]
    },
    {
      "cell_type": "code",
      "source": [
        "#Handling potential errors in calculating average\n",
        "\n",
        "def average(grades):\n",
        "  try:\n",
        "    return sum(grades) / len(grades)\n",
        "  except ZeroDivisionError:\n",
        "    return \"No grades provided! Cannot calculate average.\"\n",
        "\n",
        "print(average([1, 2, 3]))\n",
        "print(average([]))"
      ],
      "metadata": {
        "colab": {
          "base_uri": "https://localhost:8080/"
        },
        "id": "qiP4w2Rrz0kN",
        "outputId": "529ec2b6-15d3-4f16-8ed7-85c77e941b39"
      },
      "execution_count": 14,
      "outputs": [
        {
          "output_type": "stream",
          "name": "stdout",
          "text": [
            "2.0\n",
            "No grades provided! Cannot calculate average.\n"
          ]
        }
      ]
    },
    {
      "cell_type": "code",
      "source": [
        "#Assertion\n",
        "def average(grades):\n",
        "  assert len(grades) != 0, \"No grades provided! Cannot calculate average.\"\n",
        "  return sum(grades) / len(grades)\n",
        "\n",
        "print(average([1, 2, 3]))\n",
        "#print(average([])) # Commented out to prevent AssertionError"
      ],
      "metadata": {
        "colab": {
          "base_uri": "https://localhost:8080/"
        },
        "id": "bo_omsx60hoV",
        "outputId": "dd33b56c-4d44-4d75-92b2-95c069b1cd99"
      },
      "execution_count": 21,
      "outputs": [
        {
          "output_type": "stream",
          "name": "stdout",
          "text": [
            "2.0\n"
          ]
        }
      ]
    },
    {
      "cell_type": "code",
      "source": [
        "#Student grading system\n",
        "def get_stats(grds):\n",
        "  assert len(grds) != 0, \"There are no grades\"\n",
        "  try:\n",
        "    return sum (grds)/ len(grds)\n",
        "  except TypeError:\n",
        "    return \"Invalid Grade\"\n",
        "  except ZeroDivisionError:\n",
        "    print(\"No Grades found\")\n",
        "    return 0\n",
        "\n",
        "grds = [[\"John\", [100, 90]], [\"Mary\"], [\"Bob\", [90, 80, 70]], [[]]]\n",
        "gdrs3 = [35, 45, 50, 55, 65]\n",
        "stats = grds\n",
        "print(get_stats(grds))\n",
        "print(get_stats(gdrs3))\n"
      ],
      "metadata": {
        "colab": {
          "base_uri": "https://localhost:8080/"
        },
        "id": "CItGW29y6W0E",
        "outputId": "834ba9cb-a267-41d0-8af1-527ff9af297c"
      },
      "execution_count": 23,
      "outputs": [
        {
          "output_type": "stream",
          "name": "stdout",
          "text": [
            "Invalid Grade\n",
            "50.0\n"
          ]
        }
      ]
    },
    {
      "cell_type": "code",
      "source": [],
      "metadata": {
        "id": "z5j8AkVNBJPc"
      },
      "execution_count": null,
      "outputs": []
    }
  ]
}