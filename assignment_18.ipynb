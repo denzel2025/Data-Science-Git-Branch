{
  "nbformat": 4,
  "nbformat_minor": 0,
  "metadata": {
    "colab": {
      "provenance": [],
      "authorship_tag": "ABX9TyPwFzJFLm6YLmckE0vG7BHc",
      "include_colab_link": true
    },
    "kernelspec": {
      "name": "python3",
      "display_name": "Python 3"
    },
    "language_info": {
      "name": "python"
    }
  },
  "cells": [
    {
      "cell_type": "markdown",
      "metadata": {
        "id": "view-in-github",
        "colab_type": "text"
      },
      "source": [
        "<a href=\"https://colab.research.google.com/github/denzel2025/Data-Science-Git-Branch/blob/main/assignment_18.ipynb\" target=\"_parent\"><img src=\"https://colab.research.google.com/assets/colab-badge.svg\" alt=\"Open In Colab\"/></a>"
      ]
    },
    {
      "cell_type": "code",
      "execution_count": 3,
      "metadata": {
        "colab": {
          "base_uri": "https://localhost:8080/"
        },
        "id": "gd4yEQL3rS7z",
        "outputId": "71528e61-4e10-4291-cc0b-2c8830867f8b"
      },
      "outputs": [
        {
          "output_type": "stream",
          "name": "stdout",
          "text": [
            "2\n",
            "True\n",
            "Python Basics by Dennis Omboga (2024) - Copies: 2\n",
            "Python Basics by Dennis Omboga (2024) - Copies: 2\n",
            "True\n"
          ]
        }
      ],
      "source": [
        "class Book:\n",
        "    def __init__(self, title, author, year, copies_available):\n",
        "        self.title = title\n",
        "        self.author = author\n",
        "        self.year = year\n",
        "        self.copies_available = copies_available\n",
        "\n",
        "    def borrow(self):\n",
        "        if self.copies_available > 0:\n",
        "            self.copies_available -= 1\n",
        "        else:\n",
        "            print(\"Not available.\")\n",
        "\n",
        "    def return_book(self):\n",
        "        self.copies_available += 1\n",
        "\n",
        "    def is_same_book(self, other):\n",
        "        return self.title == other.title and self.author == other.author\n",
        "\n",
        "    def __str__(self):\n",
        "        return f\"{self.title} by {self.author} ({self.year}) - Copies: {self.copies_available}\"\n",
        "\n",
        "b1 = Book(\"Python Basics\", \"Dennis Omboga\", 2024, 3)\n",
        "b2 = Book(\"Python Basics\", \"Dennis Omboga\", 2024, 2)\n",
        "\n",
        "b1.borrow()          # 3 → 2\n",
        "b1.borrow()          # 2 → 1\n",
        "b1.return_book()     # 1 → 2\n",
        "\n",
        "print(b1.copies_available)   # Output: 2\n",
        "print(b1.is_same_book(b2))   # Output: True\n",
        "\n",
        "print(b1)\n",
        "print(b2)\n",
        "print(b1.is_same_book(b2))"
      ]
    },
    {
      "cell_type": "code",
      "source": [
        "from math import gcd\n",
        "\n",
        "class Fraction:\n",
        "    def __init__(self, num, denom):\n",
        "        if denom == 0:\n",
        "            raise ValueError(\"Denominator cannot be zero.\")\n",
        "        self.num = num\n",
        "        self.denom = denom\n",
        "        self.simplify()\n",
        "\n",
        "    def simplify(self):\n",
        "        common = gcd(self.num, self.denom)\n",
        "        self.num //= common\n",
        "        self.denom //= common\n",
        "        # Ensure denominator is positive\n",
        "        if self.denom < 0:\n",
        "            self.num *= -1\n",
        "            self.denom *= -1\n",
        "\n",
        "    def __add__(self, other):\n",
        "        new_num = self.num * other.denom + other.num * self.denom\n",
        "        new_denom = self.denom * other.denom\n",
        "        return Fraction(new_num, new_denom)\n",
        "\n",
        "    def __eq__(self, other):\n",
        "        return self.num * other.denom == self.denom * other.num\n",
        "\n",
        "    def __str__(self):\n",
        "        return f\"{self.num}/{self.denom}\"\n",
        "\n",
        "f1 = Fraction(1, 2)\n",
        "f2 = Fraction(1, 4)\n",
        "f3 = f1 + f2\n",
        "\n",
        "print(f3)                      # Output: 3/4 (simplified from 6/8)\n",
        "print(f1 == f2)                # Output: False\n",
        "print(f1 == Fraction(2, 4))    # Output: True\n",
        "\n"
      ],
      "metadata": {
        "colab": {
          "base_uri": "https://localhost:8080/"
        },
        "id": "brcmEFq2vvtV",
        "outputId": "b83d46ac-f9aa-4263-e5db-629c90aaff0b"
      },
      "execution_count": 6,
      "outputs": [
        {
          "output_type": "stream",
          "name": "stdout",
          "text": [
            "3/4\n",
            "False\n",
            "True\n"
          ]
        }
      ]
    },
    {
      "cell_type": "code",
      "source": [],
      "metadata": {
        "id": "xTFQ5hFUx6fI"
      },
      "execution_count": 5,
      "outputs": []
    }
  ]
}