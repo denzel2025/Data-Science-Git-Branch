{
  "nbformat": 4,
  "nbformat_minor": 0,
  "metadata": {
    "colab": {
      "provenance": [],
      "authorship_tag": "ABX9TyMImd9yU4jO47g92mJFrVGL",
      "include_colab_link": true
    },
    "kernelspec": {
      "name": "python3",
      "display_name": "Python 3"
    },
    "language_info": {
      "name": "python"
    }
  },
  "cells": [
    {
      "cell_type": "markdown",
      "metadata": {
        "id": "view-in-github",
        "colab_type": "text"
      },
      "source": [
        "<a href=\"https://colab.research.google.com/github/denzel2025/Data-Science-Git-Branch/blob/main/Lecture_12.ipynb\" target=\"_parent\"><img src=\"https://colab.research.google.com/assets/colab-badge.svg\" alt=\"Open In Colab\"/></a>"
      ]
    },
    {
      "cell_type": "code",
      "execution_count": 2,
      "metadata": {
        "colab": {
          "base_uri": "https://localhost:8080/"
        },
        "id": "OVonb6RBR3KO",
        "outputId": "620500c7-450e-42ff-82bf-24cd34ed8df9"
      },
      "outputs": [
        {
          "output_type": "stream",
          "name": "stdout",
          "text": [
            "[0, 1, 4, 9, 16]\n",
            "[0, 1, 4, 9, 16]\n"
          ]
        }
      ],
      "source": [
        "#Part 1:List Comprehension - a shorter and cleaner way to create a new list from an existing ones\n",
        "#Traditional way\n",
        "squares = []\n",
        "for x in range(5):\n",
        "    squares.append(x**2)\n",
        "print(squares)\n",
        "\n",
        "\n",
        "#List coprehension\n",
        "squares = [x**2 for x in range(5)]\n",
        "print(squares)"
      ]
    },
    {
      "cell_type": "code",
      "source": [
        "#Add conditions(Filtering)\n",
        "even_squares = [x**2 for x in range(10) if x % 2 == 0]\n",
        "print(even_squares)"
      ],
      "metadata": {
        "colab": {
          "base_uri": "https://localhost:8080/"
        },
        "id": "7ymzmFsqStRG",
        "outputId": "4d494afb-8e5e-4840-e546-ebe9d431b96a"
      },
      "execution_count": 4,
      "outputs": [
        {
          "output_type": "stream",
          "name": "stdout",
          "text": [
            "[0, 4, 16, 36, 64]\n"
          ]
        }
      ]
    },
    {
      "cell_type": "code",
      "source": [
        "#Nested loops in list comprehension\n",
        "pairs = [(x,y) for x in range(3) for y in range(2)]\n",
        "print(pairs)"
      ],
      "metadata": {
        "colab": {
          "base_uri": "https://localhost:8080/"
        },
        "id": "mKoo6-QzTmoO",
        "outputId": "207194d6-040c-4c98-9694-1cc40196cb33"
      },
      "execution_count": 5,
      "outputs": [
        {
          "output_type": "stream",
          "name": "stdout",
          "text": [
            "[(0, 0), (0, 1), (1, 0), (1, 1), (2, 0), (2, 1)]\n"
          ]
        }
      ]
    },
    {
      "cell_type": "code",
      "source": [
        "evens = [x for x in range(1, 21) if x % 2 == 0]\n",
        "print(evens)"
      ],
      "metadata": {
        "colab": {
          "base_uri": "https://localhost:8080/"
        },
        "id": "dPVrAOf2UIsn",
        "outputId": "a7ed08a6-9c74-4676-fd64-747a2c2963b6"
      },
      "execution_count": 7,
      "outputs": [
        {
          "output_type": "stream",
          "name": "stdout",
          "text": [
            "[2, 4, 6, 8, 10, 12, 14, 16, 18, 20]\n"
          ]
        }
      ]
    },
    {
      "cell_type": "code",
      "source": [
        "#Part 2:Functions as objects\n",
        "#Functions Inside functions\n",
        "def greet(name):\n",
        "  def message():\n",
        "    return f\"Hello {name}!\"\n",
        "  return message\n",
        "\n",
        "welcome = greet(\"Denzel\")\n",
        "print(welcome())"
      ],
      "metadata": {
        "colab": {
          "base_uri": "https://localhost:8080/"
        },
        "id": "bVZ-4Rk5W5nX",
        "outputId": "c79ab5fd-436e-45d1-a3ae-53ed1918268e"
      },
      "execution_count": 8,
      "outputs": [
        {
          "output_type": "stream",
          "name": "stdout",
          "text": [
            "Hello Denzel!\n"
          ]
        }
      ]
    },
    {
      "cell_type": "code",
      "source": [
        "#Return a Function\n",
        "def multiplier(factor):\n",
        "  def multiply(number):\n",
        "    return number * factor\n",
        "  return multiply\n",
        "\n",
        "double = multiplier(2)\n",
        "print(double(5))"
      ],
      "metadata": {
        "colab": {
          "base_uri": "https://localhost:8080/"
        },
        "id": "uVChFYwGXsrk",
        "outputId": "d73cad5a-d49b-4c20-f7da-05337da6c630"
      },
      "execution_count": 9,
      "outputs": [
        {
          "output_type": "stream",
          "name": "stdout",
          "text": [
            "10\n"
          ]
        }
      ]
    },
    {
      "cell_type": "code",
      "source": [
        "#Part 3:Keyword and Default Arguments\n",
        "#Default Arguments\n",
        "def greet(name, message=\"Hello\"):\n",
        "  return f\"Hello {name}, {message}!\"\n",
        "\n",
        "print(greet(\"Denzel\"))\n",
        "print(greet(\"Denzel\", \"How are you?\"))"
      ],
      "metadata": {
        "colab": {
          "base_uri": "https://localhost:8080/"
        },
        "id": "Dun5n0P6X6Nk",
        "outputId": "f175a64c-3195-4daa-cb60-63942036b765"
      },
      "execution_count": 11,
      "outputs": [
        {
          "output_type": "stream",
          "name": "stdout",
          "text": [
            "Hello Denzel, Hello!\n",
            "Hello Denzel, How are you?!\n"
          ]
        }
      ]
    },
    {
      "cell_type": "code",
      "source": [
        "#Keyword Arguments\n",
        "def profile(name, age, city):\n",
        "  print(f\"Name: {name}, Age: {age}, City: {city}\")\n",
        "\n",
        "profile(age=25, city=\"New York\", name=\"Denzel\")"
      ],
      "metadata": {
        "colab": {
          "base_uri": "https://localhost:8080/"
        },
        "id": "aXOzUn0uaLKd",
        "outputId": "8035f35d-24e5-4b19-eaca-76282acdb061"
      },
      "execution_count": 14,
      "outputs": [
        {
          "output_type": "stream",
          "name": "stdout",
          "text": [
            "Name: Denzel, Age: 25, City: New York\n"
          ]
        }
      ]
    },
    {
      "cell_type": "code",
      "source": [
        "#Debbuging Like a Pro\n",
        "#Debbuging - Finding and fixing errors (bugs) in your code.\n",
        "#Glass Box vs. Black Box Testing\n"
      ],
      "metadata": {
        "id": "yPu0XV7hbgMi"
      },
      "execution_count": 15,
      "outputs": []
    },
    {
      "cell_type": "code",
      "source": [
        "#Buggy\n",
        "def is_palindrome(s):\n",
        "  temp = s\n",
        "  #temp.reverse()\n",
        "  return temp == s\n",
        "\n",
        "print(is_palindrome(\"racecar\"))"
      ],
      "metadata": {
        "colab": {
          "base_uri": "https://localhost:8080/"
        },
        "id": "V-Yt1vUWgz_Y",
        "outputId": "015334ee-1fad-4f21-bd0d-49d8e674dcfa"
      },
      "execution_count": 23,
      "outputs": [
        {
          "output_type": "stream",
          "name": "stdout",
          "text": [
            "True\n"
          ]
        }
      ]
    },
    {
      "cell_type": "code",
      "source": [
        "#Fix\n",
        "def is_palindrome(s):\n",
        "  return s == s[::-1]\n",
        "\n",
        "print(is_palindrome(\"racecar\"))"
      ],
      "metadata": {
        "colab": {
          "base_uri": "https://localhost:8080/"
        },
        "id": "vSy-2ONuhOI1",
        "outputId": "90dd36bb-092f-42f2-c8fb-ba72dcf22735"
      },
      "execution_count": 22,
      "outputs": [
        {
          "output_type": "stream",
          "name": "stdout",
          "text": [
            "True\n"
          ]
        }
      ]
    },
    {
      "cell_type": "code",
      "source": [
        "#Mutability Trap\n",
        "def reverse_list(lst):\n",
        "  temp = lst\n",
        "  temp.reverse()\n",
        "  return temp\n",
        "\n",
        "nums = [1, 2, 3, 4, 5]\n",
        "print(reverse_list(nums))\n",
        "print(nums) #Wrong output"
      ],
      "metadata": {
        "colab": {
          "base_uri": "https://localhost:8080/"
        },
        "id": "sJf_NUnCcfcK",
        "outputId": "a7ec1981-13b2-465f-fcef-1fecdbd356ba"
      },
      "execution_count": 19,
      "outputs": [
        {
          "output_type": "stream",
          "name": "stdout",
          "text": [
            "[5, 4, 3, 2, 1]\n",
            "[5, 4, 3, 2, 1]\n"
          ]
        }
      ]
    },
    {
      "cell_type": "code",
      "source": [
        "#Fix\n",
        "def reverse_list(lst):\n",
        "  temp = lst[:]\n",
        "  temp.reverse()\n",
        "  return temp\n",
        "\n",
        "nums = [1, 2, 3, 4, 5]\n",
        "print(reverse_list(nums))\n",
        "print(nums)"
      ],
      "metadata": {
        "colab": {
          "base_uri": "https://localhost:8080/"
        },
        "id": "Cd7C0QyNd9r2",
        "outputId": "95bde692-fcb2-4ea4-c723-6ce78bb15fcd"
      },
      "execution_count": 18,
      "outputs": [
        {
          "output_type": "stream",
          "name": "stdout",
          "text": [
            "[5, 4, 3, 2, 1]\n",
            "[1, 2, 3, 4, 5]\n"
          ]
        }
      ]
    },
    {
      "cell_type": "code",
      "source": [],
      "metadata": {
        "id": "4iCu4NZaevi5"
      },
      "execution_count": null,
      "outputs": []
    }
  ]
}