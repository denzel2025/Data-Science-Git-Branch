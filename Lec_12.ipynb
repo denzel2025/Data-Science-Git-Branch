{
  "nbformat": 4,
  "nbformat_minor": 0,
  "metadata": {
    "colab": {
      "provenance": [],
      "authorship_tag": "ABX9TyMhirUPZjYFLJ8ZoAwjo4+f",
      "include_colab_link": true
    },
    "kernelspec": {
      "name": "python3",
      "display_name": "Python 3"
    },
    "language_info": {
      "name": "python"
    }
  },
  "cells": [
    {
      "cell_type": "markdown",
      "metadata": {
        "id": "view-in-github",
        "colab_type": "text"
      },
      "source": [
        "<a href=\"https://colab.research.google.com/github/denzel2025/Data-Science-Git-Branch/blob/main/Lec_12.ipynb\" target=\"_parent\"><img src=\"https://colab.research.google.com/assets/colab-badge.svg\" alt=\"Open In Colab\"/></a>"
      ]
    },
    {
      "cell_type": "code",
      "execution_count": 1,
      "metadata": {
        "colab": {
          "base_uri": "https://localhost:8080/"
        },
        "id": "T6Fmz7K9lStl",
        "outputId": "1c7bcf5f-b6b7-47c1-8708-a2c54dce6d75"
      },
      "outputs": [
        {
          "output_type": "stream",
          "name": "stdout",
          "text": [
            "[1, 4, 9, 16, 25]\n"
          ]
        }
      ],
      "source": [
        "# A Function\n",
        "def square_numbers(numbers):\n",
        "  new_list = []\n",
        "  for item in numbers:\n",
        "    if item != numbers:\n",
        "     new_list.append(item**2)\n",
        "  return new_list\n",
        "\n",
        "print(square_numbers([1, 2, 3, 4, 5]))\n"
      ]
    },
    {
      "cell_type": "code",
      "source": [
        "#List Comprehension\n",
        "#Squares of numbers\n",
        "squares = [x**2 for x in range(1, 11)]\n",
        "print(squares)"
      ],
      "metadata": {
        "colab": {
          "base_uri": "https://localhost:8080/"
        },
        "id": "jtvuciVLpfIo",
        "outputId": "c6a7703f-a1f9-4811-ae52-542acef85e9b"
      },
      "execution_count": 2,
      "outputs": [
        {
          "output_type": "stream",
          "name": "stdout",
          "text": [
            "[1, 4, 9, 16, 25, 36, 49, 64, 81, 100]\n"
          ]
        }
      ]
    },
    {
      "cell_type": "code",
      "source": [
        "#Filter Even Numbers\n",
        "evens = [x for x in range(1, 11) if x % 2 == 0]\n",
        "print(evens)"
      ],
      "metadata": {
        "colab": {
          "base_uri": "https://localhost:8080/"
        },
        "id": "Px60NvjAp76E",
        "outputId": "47dd19d1-1a1d-486b-8062-54b4a41161fb"
      },
      "execution_count": 3,
      "outputs": [
        {
          "output_type": "stream",
          "name": "stdout",
          "text": [
            "[2, 4, 6, 8, 10]\n"
          ]
        }
      ]
    },
    {
      "cell_type": "code",
      "source": [
        "#Real-world situation\n",
        "emails = [\"ken@gmail.com\", \"Linda@yahoo.com\", \"Bob@gmail.com\"]\n",
        "gmail_users = [email.split(\"@\")[0] for email in emails if email.split(\"@\")[1] == \"gmail.com\"]\n",
        "print(gmail_users)"
      ],
      "metadata": {
        "colab": {
          "base_uri": "https://localhost:8080/"
        },
        "id": "nSAdsW5RqIep",
        "outputId": "449d0bf6-e49d-4867-bffe-9852498e2dcb"
      },
      "execution_count": 4,
      "outputs": [
        {
          "output_type": "stream",
          "name": "stdout",
          "text": [
            "['ken', 'Bob']\n"
          ]
        }
      ]
    },
    {
      "cell_type": "code",
      "source": [
        "emails = [\"ken@gmail.com\", \"Linda@yahoo.com\", \"Bob@gmail.com\"]\n",
        "gmail_users = [email for email in emails if \"@gmail.com\" in email]\n",
        "print(gmail_users)"
      ],
      "metadata": {
        "colab": {
          "base_uri": "https://localhost:8080/"
        },
        "id": "BZkmzFg9qxkm",
        "outputId": "d6f80e6b-1bbc-44e1-c677-0802c8de7888"
      },
      "execution_count": 5,
      "outputs": [
        {
          "output_type": "stream",
          "name": "stdout",
          "text": [
            "['ken@gmail.com', 'Bob@gmail.com']\n"
          ]
        }
      ]
    },
    {
      "cell_type": "code",
      "source": [
        "#Extracting numbers divisible by 3\n",
        "div3 = [x for x in range(1, 21) if x % 3 == 0]\n",
        "print(div3)"
      ],
      "metadata": {
        "colab": {
          "base_uri": "https://localhost:8080/"
        },
        "id": "czPl3qQ5rD5a",
        "outputId": "f1003dfe-c179-4d7e-90de-729a27bbcc55"
      },
      "execution_count": 6,
      "outputs": [
        {
          "output_type": "stream",
          "name": "stdout",
          "text": [
            "[3, 6, 9, 12, 15, 18]\n"
          ]
        }
      ]
    },
    {
      "cell_type": "code",
      "source": [
        "#Functions as Objects\n",
        "def greet(name):\n",
        "  return(f\"Hello, {name}!\")\n",
        "\n",
        "say_hello = greet\n",
        "print(say_hello(\"Bob\"))"
      ],
      "metadata": {
        "colab": {
          "base_uri": "https://localhost:8080/"
        },
        "id": "HkGCbeAPrTuq",
        "outputId": "9addbf78-5650-4a79-d5f4-690eead27f7c"
      },
      "execution_count": 8,
      "outputs": [
        {
          "output_type": "stream",
          "name": "stdout",
          "text": [
            "Hello, Bob!\n"
          ]
        }
      ]
    },
    {
      "cell_type": "code",
      "source": [
        "#Return a function from a function\n",
        "def make_multipier(x):\n",
        "  def multiplier(y):\n",
        "    return x * y\n",
        "  return multiplier\n",
        "\n",
        "multiply_by_3 = make_multipier(3)\n",
        "print(multiply_by_3(5))"
      ],
      "metadata": {
        "colab": {
          "base_uri": "https://localhost:8080/"
        },
        "id": "dmC4_l_rr8ZV",
        "outputId": "d63834e4-6b69-4efe-a6d9-bbfddac1d172"
      },
      "execution_count": 9,
      "outputs": [
        {
          "output_type": "stream",
          "name": "stdout",
          "text": [
            "15\n"
          ]
        }
      ]
    },
    {
      "cell_type": "code",
      "source": [
        "def make_multiplier(x):\n",
        "  def multiply(y):\n",
        "    return x * y\n",
        "  return multiply\n",
        "\n",
        "doubler = make_multiplier(2)\n",
        "print(doubler(5))"
      ],
      "metadata": {
        "colab": {
          "base_uri": "https://localhost:8080/"
        },
        "id": "QEbDJRUqsbw1",
        "outputId": "b92a611b-4d57-419f-f058-364f201cbe62"
      },
      "execution_count": 10,
      "outputs": [
        {
          "output_type": "stream",
          "name": "stdout",
          "text": [
            "10\n"
          ]
        }
      ]
    },
    {
      "cell_type": "code",
      "source": [
        "#Keyword and Default Arguments\n",
        "#Default arguments\n",
        "def greet(name, message=\"Hello\"):\n",
        "  return f\"{message}, {name}!\"\n",
        "\n",
        "print(greet(\"Bob\"))\n",
        "print(greet(\"Bob\", \"Hi\"))"
      ],
      "metadata": {
        "colab": {
          "base_uri": "https://localhost:8080/"
        },
        "id": "DvLKVwGPs39r",
        "outputId": "3d2acac6-7def-471f-ce78-8a20a9150ede"
      },
      "execution_count": 11,
      "outputs": [
        {
          "output_type": "stream",
          "name": "stdout",
          "text": [
            "Hello, Bob!\n",
            "Hi, Bob!\n"
          ]
        }
      ]
    },
    {
      "cell_type": "code",
      "source": [
        "#Keyword arguments\n",
        "def greet(name, message=\"Hello\"):\n",
        "  return f\"{message}, {name}!\"\n",
        "\n",
        "print(greet(message=\"Hi\", name=\"Bob\"))"
      ],
      "metadata": {
        "colab": {
          "base_uri": "https://localhost:8080/"
        },
        "id": "xI3Xv-vwt1rq",
        "outputId": "46c00fd1-e64d-4f7a-d568-cbb1ec4571d1"
      },
      "execution_count": 12,
      "outputs": [
        {
          "output_type": "stream",
          "name": "stdout",
          "text": [
            "Hi, Bob!\n"
          ]
        }
      ]
    },
    {
      "cell_type": "code",
      "source": [
        "#Default country\n",
        "def say_location(city, country=\"Kenya\"):\n",
        "  print(f\"{city} is in {country}\")\n",
        "\n",
        "say_location(\"Nairobi\")\n",
        "say_location(\"Kampala\", \"Uganda\")"
      ],
      "metadata": {
        "colab": {
          "base_uri": "https://localhost:8080/"
        },
        "id": "_Lovd7ULuNJX",
        "outputId": "9a0e94d7-4ba2-4b03-d259-df7d910bdff8"
      },
      "execution_count": 13,
      "outputs": [
        {
          "output_type": "stream",
          "name": "stdout",
          "text": [
            "Nairobi is in Kenya\n",
            "Kampala is in Uganda\n"
          ]
        }
      ]
    },
    {
      "cell_type": "code",
      "source": [
        "#Adding numbers with a default value\n",
        "def add(a, b=10):\n",
        "  return a + b\n",
        "\n",
        "print(add(5))\n",
        "print(add(5, 3))"
      ],
      "metadata": {
        "colab": {
          "base_uri": "https://localhost:8080/"
        },
        "id": "t-AUaB5-vl7y",
        "outputId": "3ac0f9b8-77d5-46c8-ebd0-1c28ecd5edd9"
      },
      "execution_count": 15,
      "outputs": [
        {
          "output_type": "stream",
          "name": "stdout",
          "text": [
            "15\n",
            "8\n"
          ]
        }
      ]
    },
    {
      "cell_type": "code",
      "source": [
        "#Keyword arguments\n",
        "def introduce(name, age):\n",
        "  print(f\"My name is {name} and I am {age} years old.\")\n",
        "\n",
        "introduce(name=\"Bob\", age=25)\n",
        "introduce(age=30, name=\"Alice\")"
      ],
      "metadata": {
        "colab": {
          "base_uri": "https://localhost:8080/"
        },
        "id": "c09Oa7URv5rO",
        "outputId": "9fd79fda-78cd-45b1-9018-b3a6a5ffcdd0"
      },
      "execution_count": 16,
      "outputs": [
        {
          "output_type": "stream",
          "name": "stdout",
          "text": [
            "My name is Bob and I am 25 years old.\n",
            "My name is Alice and I am 30 years old.\n"
          ]
        }
      ]
    },
    {
      "cell_type": "code",
      "source": [
        "#Debugging in Python\n",
        "print(\"Enter first number\")\n",
        "x = input()\n",
        "print(\"Enter second number\")\n",
        "y = input()\n",
        "print(\"Sum is:\", x + y)\n",
        "\n",
        "#fix\n",
        "print(\"Enter first number\")\n",
        "x = int(input())\n",
        "print(\"Enter second number\")\n",
        "y = int(input())\n",
        "print(\"Sum is:\", x + y)"
      ],
      "metadata": {
        "colab": {
          "base_uri": "https://localhost:8080/"
        },
        "id": "Zb2Glw24yPTY",
        "outputId": "c96c834e-7adf-4c80-fec4-9ac2c51f15dc"
      },
      "execution_count": 19,
      "outputs": [
        {
          "output_type": "stream",
          "name": "stdout",
          "text": [
            "Enter first number\n",
            "1\n",
            "Enter second number\n",
            "2\n",
            "Sum is: 12\n",
            "Enter first number\n",
            "1\n",
            "Enter second number\n",
            "2\n",
            "Sum is: 3\n"
          ]
        }
      ]
    },
    {
      "cell_type": "code",
      "source": [
        "#Debugging Tools & Techniques\n",
        "#Glass and Black box Testing\n",
        "def calculating_area(length, width):\n",
        "  print(\"Length:\", length)\n",
        "  print(\"Width:\", width)\n",
        "  return length * width\n",
        "\n",
        "area = calculating_area(5, 3)\n",
        "print(\"Area:\", area)"
      ],
      "metadata": {
        "colab": {
          "base_uri": "https://localhost:8080/"
        },
        "id": "PlvvioQNzNFp",
        "outputId": "332f2e94-93eb-40ef-d19d-6536a8c576de"
      },
      "execution_count": 21,
      "outputs": [
        {
          "output_type": "stream",
          "name": "stdout",
          "text": [
            "Length: 5\n",
            "Width: 3\n",
            "Area: 15\n"
          ]
        }
      ]
    },
    {
      "cell_type": "code",
      "source": [
        "#Black box testing\n",
        "def hidden_addition(x,y):\n",
        "    return x + y\n",
        "\n",
        "print(hidden_addition(5, 5))\n",
        "print(hidden_addition(0, -2))\n",
        "print(hidden_addition(\"a\", \"b\"))"
      ],
      "metadata": {
        "colab": {
          "base_uri": "https://localhost:8080/"
        },
        "id": "H6Aj1K092TFM",
        "outputId": "45d001f5-1103-4371-d56d-f241e3b1ba63"
      },
      "execution_count": 22,
      "outputs": [
        {
          "output_type": "stream",
          "name": "stdout",
          "text": [
            "10\n",
            "-2\n",
            "ab\n"
          ]
        }
      ]
    },
    {
      "cell_type": "code",
      "source": [
        "#Using assert for Sanity checks\n",
        "#Assert - it is a checkpoint in your code.if a condition is false, the program stops and shows an error.\n",
        "\n",
        "ages = [12, 15, 19]\n",
        "assert ages[0] < ages[-1]\n",
        "print(ages)\n"
      ],
      "metadata": {
        "colab": {
          "base_uri": "https://localhost:8080/"
        },
        "id": "1QfFgfYJ3BKc",
        "outputId": "4d3fff0b-2a1b-4308-a762-8e46a83ce365"
      },
      "execution_count": 24,
      "outputs": [
        {
          "output_type": "stream",
          "name": "stdout",
          "text": [
            "[12, 15, 19]\n"
          ]
        }
      ]
    },
    {
      "cell_type": "code",
      "source": [
        "#Example:\n",
        "def get_grade(score):\n",
        "  assert 0 <= score <= 100, \"Score must be between 0 and 100\"\n",
        "  if score >= 70:\n",
        "    return \"A\"\n",
        "  return \"F\"\n",
        "\n",
        "print(get_grade(85))\n",
        "print(get_grade(26))"
      ],
      "metadata": {
        "colab": {
          "base_uri": "https://localhost:8080/"
        },
        "id": "rWNQd6zd4GiF",
        "outputId": "6c33000d-80fd-4215-f7df-701d7b35432f"
      },
      "execution_count": 27,
      "outputs": [
        {
          "output_type": "stream",
          "name": "stdout",
          "text": [
            "A\n",
            "F\n"
          ]
        }
      ]
    },
    {
      "cell_type": "code",
      "source": [
        "#Logging\n",
        "import logging\n",
        "logging.basicConfig(level=logging.DEBUG)\n",
        "\n",
        "def factorial(n):\n",
        "  logging.debug(f\"Calculating factorial of {n}\")\n",
        "  result = 1\n",
        "  for i in range(1, n + 1):\n",
        "    result *= i\n",
        "    logging.debug(f\"i = {i}, result = {result}\")\n",
        "  return result\n",
        "\n",
        "factorial(5)"
      ],
      "metadata": {
        "colab": {
          "base_uri": "https://localhost:8080/"
        },
        "id": "UJ0rQv5v4yXV",
        "outputId": "a2749a39-fde7-4d44-cddc-245a4d13b45b"
      },
      "execution_count": 30,
      "outputs": [
        {
          "output_type": "execute_result",
          "data": {
            "text/plain": [
              "120"
            ]
          },
          "metadata": {},
          "execution_count": 30
        }
      ]
    },
    {
      "cell_type": "code",
      "source": [
        "import logging\n",
        "logging.basicConfig(level=logging.DEBUG)\n",
        "\n",
        "def multiply(a, b):\n",
        "  logging.debug(f\"Multiplying {a} and {b}\")\n",
        "  return a * b\n",
        "\n",
        "multiply(5, 5)\n"
      ],
      "metadata": {
        "colab": {
          "base_uri": "https://localhost:8080/"
        },
        "id": "PxDAX6Yi65ov",
        "outputId": "dffa8696-0300-4320-d23d-8ae4d1e6ea1d"
      },
      "execution_count": 31,
      "outputs": [
        {
          "output_type": "execute_result",
          "data": {
            "text/plain": [
              "25"
            ]
          },
          "metadata": {},
          "execution_count": 31
        }
      ]
    },
    {
      "cell_type": "code",
      "source": [],
      "metadata": {
        "id": "r-dKsVvx8O03"
      },
      "execution_count": null,
      "outputs": []
    }
  ]
}