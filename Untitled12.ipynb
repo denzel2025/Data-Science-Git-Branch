{
  "nbformat": 4,
  "nbformat_minor": 0,
  "metadata": {
    "colab": {
      "provenance": [],
      "authorship_tag": "ABX9TyMZgLURU7LtzHYMCvCQ/p2X",
      "include_colab_link": true
    },
    "kernelspec": {
      "name": "python3",
      "display_name": "Python 3"
    },
    "language_info": {
      "name": "python"
    }
  },
  "cells": [
    {
      "cell_type": "markdown",
      "metadata": {
        "id": "view-in-github",
        "colab_type": "text"
      },
      "source": [
        "<a href=\"https://colab.research.google.com/github/denzel2025/Data-Science-Git-Branch/blob/main/Untitled12.ipynb\" target=\"_parent\"><img src=\"https://colab.research.google.com/assets/colab-badge.svg\" alt=\"Open In Colab\"/></a>"
      ]
    },
    {
      "cell_type": "code",
      "execution_count": null,
      "metadata": {
        "id": "SYJ9Q2RQHZVH"
      },
      "outputs": [],
      "source": [
        "#loops over strings\n",
        "#strings as iterables\n",
        "#index-based iteration - for i in range(len(s)):\n",
        "#direct-based - for char in s:"
      ]
    },
    {
      "cell_type": "code",
      "source": [
        "# Index-based\n",
        "s = \"demo loops - fruit loops\"\n",
        "for i in range(len(s)):\n",
        " if s[i] == 'i' or s[i] == 'u':\n",
        "  print(\"Found i or u at index\", i)"
      ],
      "metadata": {
        "colab": {
          "base_uri": "https://localhost:8080/"
        },
        "id": "TfSuPyQRPjTl",
        "outputId": "ce04de12-dc55-43a2-8132-0697772332cd"
      },
      "execution_count": null,
      "outputs": [
        {
          "output_type": "stream",
          "name": "stdout",
          "text": [
            "Found i or u at index 9\n",
            "Found i or u at index 10\n"
          ]
        }
      ]
    },
    {
      "cell_type": "code",
      "source": [
        "# Direct\n",
        "s = \"demo loops - fruit loops\"\n",
        "for char in s:\n",
        " if char == 'i' or char == 'u':\n",
        "  print(\"Found i or u:\" , char)"
      ],
      "metadata": {
        "colab": {
          "base_uri": "https://localhost:8080/"
        },
        "id": "lWfjg-RLQQOc",
        "outputId": "96591a40-bb83-4e2d-9a5a-fd0d25fa6937"
      },
      "execution_count": null,
      "outputs": [
        {
          "output_type": "stream",
          "name": "stdout",
          "text": [
            "Found i or u: u\n",
            "Found i or u: i\n"
          ]
        }
      ]
    },
    {
      "cell_type": "code",
      "source": [
        "s = \"demo loops - fruit loops\"\n",
        "for char in s:\n",
        " if char in 'iu':\n",
        "  print(\"Found i or u:\" , char)"
      ],
      "metadata": {
        "colab": {
          "base_uri": "https://localhost:8080/"
        },
        "id": "PFRZBB45Qgi5",
        "outputId": "878a7bcc-0d58-4e3d-887a-032a2c6ce29b"
      },
      "execution_count": null,
      "outputs": [
        {
          "output_type": "stream",
          "name": "stdout",
          "text": [
            "Found i or u: u\n",
            "Found i or u: i\n"
          ]
        }
      ]
    },
    {
      "cell_type": "code",
      "source": [
        "#robt cheerleaders\n",
        "an_letters = \"aeiouAEIOU\"\n",
        "word = input(\"I will cheer for you! Enter a word: \")\n",
        "times = int(input(\"Enthusiasm level (1-10): \"))\n",
        "\n",
        "for c in word:\n",
        "  article = \"an\" if c in an_letters else \"a\"\n",
        "  print(f\"Give me {article} {c.upper()}: {c.upper()}\")\n",
        "print(\"What does that spell?\")\n",
        "for i in range(times):\n",
        "  print(word.upper(), \"!!!\")"
      ],
      "metadata": {
        "colab": {
          "base_uri": "https://localhost:8080/"
        },
        "id": "W7AUxxXeQ1dR",
        "outputId": "edf807ea-cfaf-4462-c586-247f82aef75c"
      },
      "execution_count": null,
      "outputs": [
        {
          "output_type": "stream",
          "name": "stdout",
          "text": [
            "I will cheer for you! Enter a word: eagles\n",
            "Enthusiasm level (1-10): 2\n",
            "Give me an E: E\n",
            "Give me an A: A\n",
            "Give me a G: G\n",
            "Give me a L: L\n",
            "Give me an E: E\n",
            "Give me a S: S\n",
            "What does that spell?\n",
            "EAGLES !!!\n",
            "EAGLES !!!\n"
          ]
        }
      ]
    },
    {
      "cell_type": "code",
      "source": [],
      "metadata": {
        "id": "0x3uzxajUxio"
      },
      "execution_count": null,
      "outputs": []
    }
  ]
}