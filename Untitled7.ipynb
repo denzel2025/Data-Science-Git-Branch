{
  "nbformat": 4,
  "nbformat_minor": 0,
  "metadata": {
    "colab": {
      "provenance": [],
      "authorship_tag": "ABX9TyOdN5PvJi7VLQE/l2uHr1hH",
      "include_colab_link": true
    },
    "kernelspec": {
      "name": "python3",
      "display_name": "Python 3"
    },
    "language_info": {
      "name": "python"
    }
  },
  "cells": [
    {
      "cell_type": "markdown",
      "metadata": {
        "id": "view-in-github",
        "colab_type": "text"
      },
      "source": [
        "<a href=\"https://colab.research.google.com/github/denzel2025/Data-Science-Git-Branch/blob/main/Untitled7.ipynb\" target=\"_parent\"><img src=\"https://colab.research.google.com/assets/colab-badge.svg\" alt=\"Open In Colab\"/></a>"
      ]
    },
    {
      "cell_type": "code",
      "execution_count": null,
      "metadata": {
        "id": "AKu4myYfRvIp"
      },
      "outputs": [],
      "source": [
        "#Identation and code structure\n",
        "#Proper identation is crucial as it defines the scope and blocks of code."
      ]
    },
    {
      "cell_type": "code",
      "source": [
        "# 1.Boolean Values and Comparison Operators\n",
        "#Comparison operators are used to compare values and return a boolean value (True or False).\n",
        "#Comparison operators like ==, !=, >, <, >=, <= are used to compare values.\n",
        "\n",
        "a=10\n",
        "b=20\n",
        "\n",
        "#Equal to (==)\n",
        "print(a==b)\n",
        "\n",
        "#Not equal (!=)\n",
        "print(a!=b)\n",
        "\n",
        "#Less than (<)\n",
        "print(a<b)\n",
        "\n",
        "#Greater than (>)\n",
        "print(a>b)\n",
        "\n",
        "#Less than or equal (<=)\n",
        "print(a<=10)\n",
        "\n",
        "#Greater than or equal (>=)\n",
        "print(b>=25)"
      ],
      "metadata": {
        "colab": {
          "base_uri": "https://localhost:8080/"
        },
        "id": "i-dmm3OiTZdE",
        "outputId": "48183ae7-f2dd-44c0-a4d4-7bc1194f7658"
      },
      "execution_count": 1,
      "outputs": [
        {
          "output_type": "stream",
          "name": "stdout",
          "text": [
            "False\n",
            "True\n",
            "True\n",
            "False\n",
            "True\n",
            "False\n"
          ]
        }
      ]
    },
    {
      "cell_type": "code",
      "source": [
        "#Using Boolean in Conditional Statements\n",
        "#Boolean values are often used in conditional statements to control the flow of a program.\n",
        "\n",
        "temperature = 12  #degrees in Celsius\n",
        "\n",
        "#Check if the temperature is above a threshold\n",
        "if temperature > 25:\n",
        "    print(\"It's a warm day!\")\n",
        "else:\n",
        "    print(\"It's not too warm.\")"
      ],
      "metadata": {
        "colab": {
          "base_uri": "https://localhost:8080/"
        },
        "id": "j8_rsEOoValg",
        "outputId": "3ecad6c5-ad1c-4c35-87ce-3063f410e9a4"
      },
      "execution_count": 3,
      "outputs": [
        {
          "output_type": "stream",
          "name": "stdout",
          "text": [
            "It's not too warm.\n"
          ]
        }
      ]
    },
    {
      "cell_type": "code",
      "source": [
        "#Converting to Boolean with the bool() Function\n",
        "#Many values in Python inherently equate to True and False\n",
        "\n",
        "#Numbers: 0 is False; any non-zero number is True\n",
        "print(bool(0))   # Output: False\n",
        "print(bool(10))  # Output: True\n",
        "\n",
        "#Strings: Empty string is False; any non-empty string is True\n",
        "print(bool(\"\"))  # Output: False\n",
        "print(bool(\"Python\"))  # Output: True\n",
        "\n",
        "#lists: Empty list is False; any non-empty list is True\n",
        "print(bool([]))  # Output: False\n",
        "print(bool([1, 2, 3]))  # Output: True\n",
        "\n"
      ],
      "metadata": {
        "colab": {
          "base_uri": "https://localhost:8080/"
        },
        "id": "Tu6kXfztXcrv",
        "outputId": "8ab06422-94a7-4ae4-e229-a5e2fa6199aa"
      },
      "execution_count": 5,
      "outputs": [
        {
          "output_type": "stream",
          "name": "stdout",
          "text": [
            "False\n",
            "True\n",
            "False\n",
            "True\n",
            "False\n",
            "True\n"
          ]
        }
      ]
    },
    {
      "cell_type": "code",
      "source": [
        "#Logic operators with Boolean\n",
        "#Logic operators are used to combine or modify boolean values.\n",
        "#Logic operators such as and, or, and not are used to combine Boolean expressions.\n",
        "x = 5\n",
        "y = 10\n",
        "\n",
        "# 'and' operator: returns True if both expressions are True\n",
        "print(x < y and x > 0)  # Output: True\n",
        "\n",
        "# 'or' operator: returns True if at least one expression is True\n",
        "print(x > y or x > 0)  # Output: True\n",
        "\n",
        "# 'not' operator: returns the opposite of the expression\n",
        "print(not (x == y))  # Output: False"
      ],
      "metadata": {
        "colab": {
          "base_uri": "https://localhost:8080/"
        },
        "id": "Zfp7sOkJZZ41",
        "outputId": "3a0125ec-e6ba-46c0-aee3-8d10cd5249f1"
      },
      "execution_count": 4,
      "outputs": [
        {
          "output_type": "stream",
          "name": "stdout",
          "text": [
            "True\n",
            "True\n",
            "True\n"
          ]
        }
      ]
    },
    {
      "cell_type": "code",
      "source": [
        "#Write a program that:\n",
        "#1.Asks the user's name and age.\n",
        "#2.Prints a formatted greeting using an f-string.\n",
        "#3.Asks the user to input a number.\n",
        "#4.Uses conditional statements to output whether the number is positive,negative,or zero.\n",
        "\n",
        "# 1. Ask the user's name and age\n",
        "name = input(\"What is your name? \")\n",
        "age = input(\"How old are you? \")\n",
        "\n",
        "# 2. Print a formatted greeting using an f-string\n",
        "print(f\"Hello, {name}! You are {age} years old.\")\n",
        "\n",
        "# 3. Ask the user to input a number\n",
        "number = float(input(\"Enter a number: \"))  # Convert input to float to handle decimal values\n",
        "\n",
        "# 4. Use conditional statements to determine if the number is positive, negative, or zero\n",
        "if number > 0:\n",
        "    print(\"The number is positive.\")\n",
        "elif number < 0:\n",
        "    print(\"The number is negative.\")\n",
        "else:\n",
        "    print(\"The number is zero.\")\n"
      ],
      "metadata": {
        "colab": {
          "base_uri": "https://localhost:8080/"
        },
        "id": "113_xcQfbJ3o",
        "outputId": "f53c9345-721a-4794-f806-c9bb57cc1b45"
      },
      "execution_count": 11,
      "outputs": [
        {
          "output_type": "stream",
          "name": "stdout",
          "text": [
            "What is your name? Denzel\n",
            "How old are you? 18\n",
            "Hello, Denzel! You are 18 years old.\n",
            "Enter a number: -62\n",
            "The number is negative.\n"
          ]
        }
      ]
    },
    {
      "cell_type": "code",
      "source": [],
      "metadata": {
        "id": "nbZxHNoEdePx"
      },
      "execution_count": 10,
      "outputs": []
    }
  ]
}