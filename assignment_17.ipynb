{
  "nbformat": 4,
  "nbformat_minor": 0,
  "metadata": {
    "colab": {
      "provenance": [],
      "authorship_tag": "ABX9TyOELUsnTp39jI+vT3iJzSBS",
      "include_colab_link": true
    },
    "kernelspec": {
      "name": "python3",
      "display_name": "Python 3"
    },
    "language_info": {
      "name": "python"
    }
  },
  "cells": [
    {
      "cell_type": "markdown",
      "metadata": {
        "id": "view-in-github",
        "colab_type": "text"
      },
      "source": [
        "<a href=\"https://colab.research.google.com/github/denzel2025/Data-Science-Git-Branch/blob/main/assignment_17.ipynb\" target=\"_parent\"><img src=\"https://colab.research.google.com/assets/colab-badge.svg\" alt=\"Open In Colab\"/></a>"
      ]
    },
    {
      "cell_type": "code",
      "source": [
        "class Box:\n",
        "    def __init__(self, length, width, height):\n",
        "        self.length = length\n",
        "        self.width = width\n",
        "        self.height = height\n",
        "\n",
        "    def get_volume(self):\n",
        "        return self.length * self.width * self.height\n",
        "\n",
        "    def is_cube(self):\n",
        "        return self.length == self.width == self.height\n",
        "\n",
        "    def bigger(self, other):\n",
        "        if self.get_volume() >= other.get_volume():\n",
        "            return self\n",
        "        else:\n",
        "            return other\n",
        "\n",
        "box1 = Box(3, 3, 3)\n",
        "box2 = Box(2, 4, 5)\n",
        "\n",
        "print(box1.get_volume())\n",
        "print(box1.is_cube())\n",
        "print(box2.is_cube())"
      ],
      "metadata": {
        "colab": {
          "base_uri": "https://localhost:8080/"
        },
        "id": "iMT_Of-yp-g2",
        "outputId": "fffbefee-986c-4899-a0aa-07096d74d815"
      },
      "execution_count": 4,
      "outputs": [
        {
          "output_type": "stream",
          "name": "stdout",
          "text": [
            "27\n",
            "True\n",
            "False\n"
          ]
        }
      ]
    },
    {
      "cell_type": "code",
      "source": [
        "class Song:\n",
        "    def __init__(self, title, artist, duration):\n",
        "        self.title = title\n",
        "        self.artist = artist\n",
        "        self.duration = duration  # in seconds\n",
        "\n",
        "    def is_long(self):\n",
        "        return self.duration > 300\n",
        "\n",
        "    def same_artist(self, other):\n",
        "        return self.artist == other.artist\n",
        "\n",
        "    def longer_song(self, other):\n",
        "        if self.duration >= other.duration:\n",
        "            return self\n",
        "        else:\n",
        "            return other\n",
        "\n",
        "song1 = Song(\"Imagine\", \"John Lennon\", 183)\n",
        "song2 = Song(\"Hey Jude\", \"The Beatles\", 431)\n",
        "\n",
        "print(song1.is_long())\n",
        "print(song2.is_long())\n",
        "print(song1.same_artist(song2))"
      ],
      "metadata": {
        "colab": {
          "base_uri": "https://localhost:8080/"
        },
        "id": "MMmYOPVtqCsw",
        "outputId": "6dc90fd3-9ad8-4789-bf89-145dbc4051cc"
      },
      "execution_count": 6,
      "outputs": [
        {
          "output_type": "stream",
          "name": "stdout",
          "text": [
            "False\n",
            "True\n",
            "False\n"
          ]
        }
      ]
    },
    {
      "cell_type": "code",
      "source": [],
      "metadata": {
        "id": "KY8YwbmFqmfW"
      },
      "execution_count": 6,
      "outputs": []
    }
  ]
}