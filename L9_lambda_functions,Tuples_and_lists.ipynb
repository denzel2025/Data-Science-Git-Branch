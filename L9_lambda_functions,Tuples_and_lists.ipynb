{
  "nbformat": 4,
  "nbformat_minor": 0,
  "metadata": {
    "colab": {
      "provenance": [],
      "authorship_tag": "ABX9TyN/tsdSR86acgEdtKeCSoQc",
      "include_colab_link": true
    },
    "kernelspec": {
      "name": "python3",
      "display_name": "Python 3"
    },
    "language_info": {
      "name": "python"
    }
  },
  "cells": [
    {
      "cell_type": "markdown",
      "metadata": {
        "id": "view-in-github",
        "colab_type": "text"
      },
      "source": [
        "<a href=\"https://colab.research.google.com/github/denzel2025/Data-Science-Git-Branch/blob/main/L9_lambda_functions%2CTuples_and_lists.ipynb\" target=\"_parent\"><img src=\"https://colab.research.google.com/assets/colab-badge.svg\" alt=\"Open In Colab\"/></a>"
      ]
    },
    {
      "cell_type": "code",
      "execution_count": 6,
      "metadata": {
        "colab": {
          "base_uri": "https://localhost:8080/"
        },
        "id": "DTx-0-SalO-k",
        "outputId": "54ba447f-3572-4f05-fbc2-19be96a57696"
      },
      "outputs": [
        {
          "output_type": "stream",
          "name": "stdout",
          "text": [
            "9\n"
          ]
        }
      ],
      "source": [
        "print((lambda x: x + 5)(4))"
      ]
    },
    {
      "cell_type": "code",
      "source": [
        "print((lambda x: x * 2)(8))"
      ],
      "metadata": {
        "colab": {
          "base_uri": "https://localhost:8080/"
        },
        "id": "E_Za6Hfmm573",
        "outputId": "7e3bb6e1-1aad-484c-8a0f-2037da37e124"
      },
      "execution_count": 3,
      "outputs": [
        {
          "output_type": "stream",
          "name": "stdout",
          "text": [
            "16\n"
          ]
        }
      ]
    },
    {
      "cell_type": "code",
      "source": [
        "print((lambda x: x ** 2)(8))"
      ],
      "metadata": {
        "colab": {
          "base_uri": "https://localhost:8080/"
        },
        "id": "cajbwXJHnCoH",
        "outputId": "e458aff5-8667-40d0-9b48-80556f10c76a"
      },
      "execution_count": 5,
      "outputs": [
        {
          "output_type": "stream",
          "name": "stdout",
          "text": [
            "64\n"
          ]
        }
      ]
    },
    {
      "cell_type": "code",
      "source": [
        "# Apply Lambda in Real use\n",
        "\n",
        "def apply(criteria, n):\n",
        "  count = 0\n",
        "  for i in range (n + 1):\n",
        "    if criteria (i):\n",
        "      count += 1\n",
        "  return count\n",
        "\n",
        "print(apply(lambda x: x % 2 == 0, 10)) #Counting even numbers from 1-10\n"
      ],
      "metadata": {
        "colab": {
          "base_uri": "https://localhost:8080/"
        },
        "id": "JtCUkP99nxIw",
        "outputId": "6e3f89b1-dc2d-4fba-a00d-b2080264e5da"
      },
      "execution_count": 8,
      "outputs": [
        {
          "output_type": "stream",
          "name": "stdout",
          "text": [
            "6\n"
          ]
        }
      ]
    },
    {
      "cell_type": "code",
      "source": [
        "#Counts numbers divisible by 5 from 0-100\n",
        "print(apply(lambda x: x % 5 == 0, 100))"
      ],
      "metadata": {
        "colab": {
          "base_uri": "https://localhost:8080/"
        },
        "id": "lRLPOGwgotnu",
        "outputId": "11a7d360-ff2f-48d9-f72e-2545f04ee025"
      },
      "execution_count": 9,
      "outputs": [
        {
          "output_type": "stream",
          "name": "stdout",
          "text": [
            "21\n"
          ]
        }
      ]
    },
    {
      "cell_type": "code",
      "source": [
        "t = (2, 4, 6, 15, 41, 62, 32, 57)\n",
        "print(t[6])"
      ],
      "metadata": {
        "colab": {
          "base_uri": "https://localhost:8080/"
        },
        "id": "xmkTcI5OqAtE",
        "outputId": "eb807c11-d258-4dd5-8a20-3db3aa2fcc39"
      },
      "execution_count": 12,
      "outputs": [
        {
          "output_type": "stream",
          "name": "stdout",
          "text": [
            "32\n"
          ]
        }
      ]
    },
    {
      "cell_type": "code",
      "source": [
        "# Tuples are immutable\n",
        "#t[1] = 10"
      ],
      "metadata": {
        "id": "HbVaDYzOtPc4"
      },
      "execution_count": 16,
      "outputs": []
    },
    {
      "cell_type": "code",
      "source": [
        "# Why use Tuples?\n",
        "#They keep data safe and unchanged\n",
        "#You can return multiple values in one go"
      ],
      "metadata": {
        "id": "9FhKwFB4udnT"
      },
      "execution_count": null,
      "outputs": []
    },
    {
      "cell_type": "code",
      "source": [
        "def divide(x, y):\n",
        "  return (x // y, x % y)\n",
        "\n",
        "result = divide(10, 3)\n",
        "print(result)"
      ],
      "metadata": {
        "colab": {
          "base_uri": "https://localhost:8080/"
        },
        "id": "ZGgC3Yswu3DD",
        "outputId": "00be179f-73ae-4732-ad20-cebc7418a407"
      },
      "execution_count": 17,
      "outputs": [
        {
          "output_type": "stream",
          "name": "stdout",
          "text": [
            "(3, 1)\n"
          ]
        }
      ]
    },
    {
      "cell_type": "code",
      "source": [
        "def char_counts(s):\n",
        "  vowels = \"aeiou\"\n",
        "  v = 0\n",
        "  for c in s:\n",
        "    if c in vowels:\n",
        "      v += 1\n",
        "  return (v, len(s) - v)\n",
        "\n",
        "print(char_counts(\"education\"))"
      ],
      "metadata": {
        "colab": {
          "base_uri": "https://localhost:8080/"
        },
        "id": "2GDvDihvvS7W",
        "outputId": "debd43c2-e44b-410f-a5fb-80589d5f5140"
      },
      "execution_count": 20,
      "outputs": [
        {
          "output_type": "stream",
          "name": "stdout",
          "text": [
            "(5, 4)\n"
          ]
        }
      ]
    },
    {
      "cell_type": "code",
      "source": [
        "#Lists\n",
        "my_list = [3, 5, 7]\n",
        "my_list[1] = 9\n",
        "print(my_list)"
      ],
      "metadata": {
        "colab": {
          "base_uri": "https://localhost:8080/"
        },
        "id": "moEZIa2ew1eR",
        "outputId": "7b92ac69-2921-4608-b508-a4520cc555f1"
      },
      "execution_count": 21,
      "outputs": [
        {
          "output_type": "stream",
          "name": "stdout",
          "text": [
            "[3, 9, 7]\n"
          ]
        }
      ]
    },
    {
      "cell_type": "code",
      "source": [
        "#Iterating over lists\n",
        "\n",
        "def list_sum(L):\n",
        "  total = 0\n",
        "  for number in L:\n",
        "    total += number\n",
        "  return total\n",
        "\n",
        "print(list_sum([3, 5, 7]))"
      ],
      "metadata": {
        "colab": {
          "base_uri": "https://localhost:8080/"
        },
        "id": "mGasU3iRyhhn",
        "outputId": "05d19234-5e60-435f-9d60-9f9b077505b3"
      },
      "execution_count": 22,
      "outputs": [
        {
          "output_type": "stream",
          "name": "stdout",
          "text": [
            "15\n"
          ]
        }
      ]
    },
    {
      "cell_type": "code",
      "source": [
        "def sum_and_prod(L):\n",
        "  s = 0\n",
        "  p = 1\n",
        "  for i in L:\n",
        "    s += i\n",
        "    p *= i\n",
        "  return (s, p)\n",
        "\n",
        "print(sum_and_prod([4, 6, 2, 5]))"
      ],
      "metadata": {
        "colab": {
          "base_uri": "https://localhost:8080/"
        },
        "id": "7jivyiS-1Axm",
        "outputId": "cc8e5636-849e-49f4-c3d1-d9d01928c274"
      },
      "execution_count": 24,
      "outputs": [
        {
          "output_type": "stream",
          "name": "stdout",
          "text": [
            "(17, 240)\n"
          ]
        }
      ]
    },
    {
      "cell_type": "code",
      "source": [],
      "metadata": {
        "id": "xkn6gW6P1h0p"
      },
      "execution_count": null,
      "outputs": []
    }
  ]
}