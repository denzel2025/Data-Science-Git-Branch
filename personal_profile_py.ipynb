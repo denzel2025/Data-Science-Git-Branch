{
  "nbformat": 4,
  "nbformat_minor": 0,
  "metadata": {
    "colab": {
      "provenance": [],
      "authorship_tag": "ABX9TyMGctorR8tSm88lfMuKJ1/B",
      "include_colab_link": true
    },
    "kernelspec": {
      "name": "python3",
      "display_name": "Python 3"
    },
    "language_info": {
      "name": "python"
    }
  },
  "cells": [
    {
      "cell_type": "markdown",
      "metadata": {
        "id": "view-in-github",
        "colab_type": "text"
      },
      "source": [
        "<a href=\"https://colab.research.google.com/github/denzel2025/Data-Science-Git-Branch/blob/main/personal_profile_py.ipynb\" target=\"_parent\"><img src=\"https://colab.research.google.com/assets/colab-badge.svg\" alt=\"Open In Colab\"/></a>"
      ]
    },
    {
      "cell_type": "code",
      "execution_count": 1,
      "metadata": {
        "colab": {
          "base_uri": "https://localhost:8080/"
        },
        "id": "3W0yuuklIDdO",
        "outputId": "47b20399-be5f-4eeb-9268-439c670937bb"
      },
      "outputs": [
        {
          "output_type": "stream",
          "name": "stdout",
          "text": [
            "What is your name? Denzel Nyarangi\n",
            "How old are you? 18\n",
            "What is your height in centimeters? 100\n",
            "Are you a student? (yes/no): yes\n",
            "\n",
            "--- User Information ---\n",
            "Name: Denzel Nyarangi\n",
            "Age: 18\n",
            "Height: 100 cm\n",
            "Student: Yes\n"
          ]
        }
      ],
      "source": [
        "#Defining variables to store information:\n",
        "def main():\n",
        "    # Ask for user's name\n",
        "    name =str(input(\"What is your name? \"))\n",
        "\n",
        "    # Ask for user's age\n",
        "    age = int(input(\"How old are you? \"))\n",
        "\n",
        "    # Ask for user's height in centimeters\n",
        "    height = float(input(\"What is your height in centimeters? \"))\n",
        "\n",
        "    # Ask if the user is a student\n",
        "    is_student = input(\"Are you a student? (yes/no): \")\n",
        "\n",
        "    # Display the collected information\n",
        "    print(\"\\n--- User Information ---\")\n",
        "    print(f\"Name: {name}\")\n",
        "    print(f\"Age: {age}\")\n",
        "    print(f\"Height: {height} cm\")\n",
        "    print(f\"Student: {'Yes' if is_student.lower() == 'yes' else 'No'}\")\n",
        "\n",
        "if __name__ == \"__main__\":\n",
        "    main()\n"
      ]
    },
    {
      "cell_type": "code",
      "source": [
        "#input personal details:\n",
        "# Ask the user's name\n",
        "full_name = str(input(\"Enter your full name: \"))\n",
        "# Ask the user's age\n",
        "age = int(input(\"Enter your age: \"))\n",
        "# Ask the user's height in centimeters\n",
        "height = float(input(\"Enter your height in centimeters: \"))\n",
        "# Ask if the user is a student or not\n",
        "is_student = bool(input(\"You are a student (True/False): \"))\n",
        "\n",
        "#display collected info\n",
        "print(\"\\n--- Personal Details ---\")\n",
        "print(f\"Full Name: {full_name}\")\n",
        "print(f\"Age: {age}\")\n",
        "print(f\"Height: {height} centimeters\")\n",
        "print(f\"Student: {'True' if is_student else 'False'}\")\n"
      ],
      "metadata": {
        "colab": {
          "base_uri": "https://localhost:8080/"
        },
        "id": "nRC1Brn_JK8a",
        "outputId": "8b3a5ac8-0376-417b-ab4e-5a07e742f30d"
      },
      "execution_count": 6,
      "outputs": [
        {
          "output_type": "stream",
          "name": "stdout",
          "text": [
            "Enter your full name: denzel\n",
            "Enter your age: 18\n",
            "Enter your height in centimeters: 170\n",
            "You are a student (True/False): true\n",
            "\n",
            "--- Personal Details ---\n",
            "Full Name: denzel\n",
            "Age: 18\n",
            "Height: 170.0 centimeters\n",
            "Student: True\n"
          ]
        }
      ]
    },
    {
      "cell_type": "code",
      "source": [],
      "metadata": {
        "id": "Iq_d-AhONTaJ"
      },
      "execution_count": null,
      "outputs": []
    }
  ]
}