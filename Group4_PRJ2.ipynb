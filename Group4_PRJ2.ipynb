{
  "cells": [
    {
      "cell_type": "markdown",
      "metadata": {
        "id": "view-in-github",
        "colab_type": "text"
      },
      "source": [
        "<a href=\"https://colab.research.google.com/github/denzel2025/Data-Science-Git-Branch/blob/main/Group4_PRJ2.ipynb\" target=\"_parent\"><img src=\"https://colab.research.google.com/assets/colab-badge.svg\" alt=\"Open In Colab\"/></a>"
      ]
    },
    {
      "cell_type": "code",
      "source": [
        "# Secret Number Guessing Game\n",
        "\n",
        "# 1. Set the secret number to be guessed\n",
        "secret_number = 8\n",
        "\n",
        "# 2. Initialize the number of attempts\n",
        "attempts = 0\n",
        "\n",
        "# 3. Welcome message\n",
        "print(\"Welcome to the Number Guessing Game!\")\n",
        "\n",
        "# 4. Start the guessing loop\n",
        "while True:\n",
        "    # Prompt the user to input a guess\n",
        "    user_input = input(\"Guess the secret number: \")\n",
        "\n",
        "    # Count every input (valid or invalid) as an attempt\n",
        "    attempts += 1\n",
        "\n",
        "    try:\n",
        "        # Try to convert input to an integer\n",
        "        guess = int(user_input)\n",
        "\n",
        "        # 5a. If the guess is less than the secret number\n",
        "        if guess < secret_number:\n",
        "            print(\"Too low.\")\n",
        "        # 5b. If the guess is greater than the secret number\n",
        "        elif guess > secret_number:\n",
        "            print(\"Too high.\")\n",
        "        # 5c. If the guess is correct\n",
        "        else:\n",
        "            print(\"Correct!\")\n",
        "            break  # Exit the loop when guessed correctly\n",
        "    except ValueError:\n",
        "        # 6. Handle non-integer input\n",
        "        print(\"Invalid input. Please enter a valid number.\")\n",
        "\n",
        "# 7. Report the total number of attempts\n",
        "print(f\"You guessed the number in {attempts} attempt(s).\")\n",
        "\n"
      ],
      "metadata": {
        "colab": {
          "base_uri": "https://localhost:8080/"
        },
        "id": "tjZn7n2LkOs7",
        "outputId": "21f9d5bc-8d4d-4ca0-da25-cea0c759dc7e"
      },
      "execution_count": 5,
      "outputs": [
        {
          "output_type": "stream",
          "name": "stdout",
          "text": [
            "Welcome to the Number Guessing Game!\n",
            "Guess the secret number: rgfcbn\n",
            "Invalid input. Please enter a valid number.\n",
            "Guess the secret number: 8\n",
            "Correct!\n",
            "You guessed the number in 2 attempt(s).\n"
          ]
        }
      ]
    },
    {
      "cell_type": "code",
      "source": [
        "# Prompt user for a full sentence\n",
        "sentence = input(\"Enter a full sentence: \")\n",
        "\n",
        "# Compute the number of characters (excluding spaces)\n",
        "# Demonstrates operator precedence: replace is evaluated before len\n",
        "num_chars = len(sentence.replace(\" \", \"\"))\n",
        "\n",
        "# Compute the number of words using split()\n",
        "num_words = len(sentence.split())\n",
        "\n",
        "# Convert sentence to uppercase and lowercase\n",
        "upper_sentence = sentence.upper()\n",
        "lower_sentence = sentence.lower()\n",
        "\n",
        "# Reverse the sentence using slicing\n",
        "reversed_sentence = sentence[::-1]\n",
        "\n",
        "# Output a formatted report using f-strings and aligned indentation\n",
        "print(\"\\n--- Sentence Analysis Report ---\")\n",
        "print(f\"{'Original Sentence:':<22} {sentence}\")\n",
        "print(f\"{'Characters (no spaces):':<22} {num_chars}\")\n",
        "print(f\"{'Words:':<22} {num_words}\")\n",
        "print(f\"{'Uppercase:':<22} {upper_sentence}\")\n",
        "print(f\"{'Lowercase:':<22} {lower_sentence}\")\n",
        "print(f\"{'Reversed:':<22} {reversed_sentence}\")\n"
      ],
      "metadata": {
        "colab": {
          "base_uri": "https://localhost:8080/"
        },
        "id": "OK05CmiSrIRL",
        "outputId": "294b8e78-36ca-4997-be18-50545ee46c93"
      },
      "execution_count": 6,
      "outputs": [
        {
          "output_type": "stream",
          "name": "stdout",
          "text": [
            "Enter a full sentence: Python is fun\n",
            "\n",
            "--- Sentence Analysis Report ---\n",
            "Original Sentence:     Python is fun\n",
            "Characters (no spaces): 11\n",
            "Words:                 3\n",
            "Uppercase:             PYTHON IS FUN\n",
            "Lowercase:             python is fun\n",
            "Reversed:              nuf si nohtyP\n"
          ]
        }
      ]
    },
    {
      "cell_type": "code",
      "source": [],
      "metadata": {
        "id": "q0lSpFNkkgbb"
      },
      "execution_count": null,
      "outputs": []
    }
  ],
  "metadata": {
    "colab": {
      "provenance": [],
      "include_colab_link": true
    },
    "kernelspec": {
      "display_name": "Python 3",
      "name": "python3"
    },
    "language_info": {
      "name": "python"
    }
  },
  "nbformat": 4,
  "nbformat_minor": 0
}