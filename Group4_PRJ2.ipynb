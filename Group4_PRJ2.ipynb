{
  "cells": [
    {
      "cell_type": "markdown",
      "metadata": {
        "id": "view-in-github",
        "colab_type": "text"
      },
      "source": [
        "<a href=\"https://colab.research.google.com/github/denzel2025/Data-Science-Git-Branch/blob/main/Group4_PRJ2.ipynb\" target=\"_parent\"><img src=\"https://colab.research.google.com/assets/colab-badge.svg\" alt=\"Open In Colab\"/></a>"
      ]
    },
    {
      "cell_type": "code",
      "source": [
        "#1.)Challenge 1: Secret Number Guessing Game (40 min)\n",
        "#Write a Python program that:\n",
        "# Secret Number Guessing Game\n",
        "\n",
        "#1.Stores a secret integer (hard-coded in code).\n",
        "secret_number = 8\n",
        "\n",
        "#2.Prompts the user to guess the number.\n",
        "attempts = 0\n",
        "\n",
        "print(\"Welcome to the Number Guessing Game!\")\n",
        "\n",
        "#4.Repeats until the user guesses correctly.\n",
        "while True:\n",
        "    try:\n",
        "#4.Compares the guess to the secret and prints:\n",
        "        guess = int(input(\"Guess the secret number: \"))\n",
        "        attempts += 1\n",
        "\n",
        "        #a.\t“Too low” if the guess is less than the secret.\n",
        "        if guess < secret_number:\n",
        "            print(\"Too low.\")\n",
        "        #b. “Too high” if the guess is greater.\n",
        "        elif guess > secret_number:\n",
        "            print(\"Too high.\")\n",
        "        #c. “Correct!” if the guess matches.\n",
        "        else:\n",
        "            print(\"Correct!\")\n",
        "            break  # Exit the loop if the guess is correct\n",
        "    except ValueError:\n",
        "        print(\"Please enter a valid integer.\")\n",
        "\n",
        "#5.Counts number of attempts and reports at the end.\n",
        "print(f\"You guessed the number in {attempts} attempt(s).\")\n",
        "\n"
      ],
      "metadata": {
        "colab": {
          "base_uri": "https://localhost:8080/"
        },
        "id": "tjZn7n2LkOs7",
        "outputId": "0290db51-08b1-4b12-b81a-8f9c56f097c6"
      },
      "execution_count": null,
      "outputs": [
        {
          "output_type": "stream",
          "name": "stdout",
          "text": [
            "Welcome to the Number Guessing Game!\n",
            "Guess the secret number: htjf\n",
            "Please enter a valid integer.\n",
            "Guess the secret number: ghfd\n",
            "Please enter a valid integer.\n",
            "Guess the secret number: trew\n",
            "Please enter a valid integer.\n",
            "Guess the secret number: 78\n",
            "Too high.\n",
            "Guess the secret number: 95544\n",
            "Too high.\n",
            "Guess the secret number: 8\n",
            "Correct!\n",
            "You guessed the number in 3 attempt(s).\n"
          ]
        }
      ]
    },
    {
      "cell_type": "code",
      "source": [
        "# Prompt user for a full sentence\n",
        "sentence = input(\"Enter a full sentence: \")\n",
        "\n",
        "# Compute the number of characters (excluding spaces)\n",
        "# Demonstrates operator precedence: replace is evaluated before len\n",
        "num_chars = len(sentence.replace(\" \", \"\"))\n",
        "\n",
        "# Compute the number of words using split()\n",
        "num_words = len(sentence.split())\n",
        "\n",
        "# Convert sentence to uppercase and lowercase\n",
        "upper_sentence = sentence.upper()\n",
        "lower_sentence = sentence.lower()\n",
        "\n",
        "# Reverse the sentence using slicing\n",
        "reversed_sentence = sentence[::-1]\n",
        "\n",
        "# Output a formatted report using f-strings and aligned indentation\n",
        "print(\"\\n--- Sentence Analysis Report ---\")\n",
        "print(f\"{'Original Sentence:':<22} {sentence}\")\n",
        "print(f\"{'Characters (no spaces):':<22} {num_chars}\")\n",
        "print(f\"{'Words:':<22} {num_words}\")\n",
        "print(f\"{'Uppercase:':<22} {upper_sentence}\")\n",
        "print(f\"{'Lowercase:':<22} {lower_sentence}\")\n",
        "print(f\"{'Reversed:':<22} {reversed_sentence}\")\n"
      ],
      "metadata": {
        "colab": {
          "base_uri": "https://localhost:8080/"
        },
        "id": "OK05CmiSrIRL",
        "outputId": "9bae4ade-e2d0-471d-d8f3-2f899ebb2b7f"
      },
      "execution_count": null,
      "outputs": [
        {
          "output_type": "stream",
          "name": "stdout",
          "text": [
            "Enter a full sentence: hjk\n",
            "\n",
            "--- Sentence Analysis Report ---\n",
            "Original Sentence:     hjk\n",
            "Characters (no spaces): 3\n",
            "Words:                 1\n",
            "Uppercase:             HJK\n",
            "Lowercase:             hjk\n",
            "Reversed:              kjh\n"
          ]
        }
      ]
    },
    {
      "cell_type": "code",
      "source": [],
      "metadata": {
        "id": "q0lSpFNkkgbb"
      },
      "execution_count": null,
      "outputs": []
    }
  ],
  "metadata": {
    "colab": {
      "provenance": [],
      "include_colab_link": true
    },
    "kernelspec": {
      "display_name": "Python 3",
      "name": "python3"
    },
    "language_info": {
      "name": "python"
    }
  },
  "nbformat": 4,
  "nbformat_minor": 0
}