{
  "nbformat": 4,
  "nbformat_minor": 0,
  "metadata": {
    "colab": {
      "provenance": [],
      "authorship_tag": "ABX9TyNgyQHfISHeWhn0/hJQGZC7",
      "include_colab_link": true
    },
    "kernelspec": {
      "name": "python3",
      "display_name": "Python 3"
    },
    "language_info": {
      "name": "python"
    }
  },
  "cells": [
    {
      "cell_type": "markdown",
      "metadata": {
        "id": "view-in-github",
        "colab_type": "text"
      },
      "source": [
        "<a href=\"https://colab.research.google.com/github/denzel2025/Data-Science-Git-Branch/blob/main/Assignment_13.ipynb\" target=\"_parent\"><img src=\"https://colab.research.google.com/assets/colab-badge.svg\" alt=\"Open In Colab\"/></a>"
      ]
    },
    {
      "cell_type": "code",
      "execution_count": 5,
      "metadata": {
        "colab": {
          "base_uri": "https://localhost:8080/"
        },
        "id": "qRZ79UwFABl7",
        "outputId": "cfa3191f-d1d1-43a4-a580-59a30bcf2344"
      },
      "outputs": [
        {
          "output_type": "stream",
          "name": "stdout",
          "text": [
            "23.333333333333332\n"
          ]
        }
      ],
      "source": [
        "def safe_average(L):\n",
        "    \"\"\"\n",
        "    L is a list of numbers (ints or floats). It may be empty or contain non-numeric values.\n",
        "\n",
        "    Returns the average of all valid numeric elements in the list.\n",
        "\n",
        "    - Ignores non-numeric items using exception handling.\n",
        "    - If there are no numeric elements, raises a ValueError.\n",
        "    \"\"\"\n",
        "    total = 0\n",
        "    count = 0\n",
        "    for item in L:\n",
        "        try:\n",
        "            num = float(item)\n",
        "            total += num\n",
        "            count += 1\n",
        "        except (ValueError, TypeError):\n",
        "            continue\n",
        "    if count == 0:\n",
        "        raise ValueError(\"No numeric elements in the list.\")\n",
        "    return total / count\n",
        "\n",
        "# Examples:\n",
        "print(safe_average([10, 20, \"thirty\", 40]))  # prints 23.333...\n",
        "# print(safe_average([\"a\", \"b\"]))            # raises ValueError\n"
      ]
    },
    {
      "cell_type": "code",
      "source": [
        "def validate_transaction(amounts):\n",
        "    \"\"\"\n",
        "    amounts is a non-empty list of positive integers or floats representing transaction values.\n",
        "\n",
        "    Uses assertions to ensure:\n",
        "    - the list is not empty\n",
        "    - all amounts are positive\n",
        "    Returns the total amount.\n",
        "\n",
        "    Raises AssertionError with a message if validations fail.\n",
        "    \"\"\"\n",
        "    assert len(amounts) > 0, \"Transaction list is empty\"\n",
        "    for amount in amounts:\n",
        "        assert amount > 0, \"Transaction amount must be positive\"\n",
        "    return sum(amounts)\n",
        "\n",
        "# Examples:\n",
        "print(validate_transaction([100, 250.5, 89]))   # prints 439.5\n",
        "# print(validate_transaction([]))              # raises AssertionError\n",
        "# print(validate_transaction([100, -50]))      # raises AssertionError\n"
      ],
      "metadata": {
        "colab": {
          "base_uri": "https://localhost:8080/"
        },
        "id": "McRfuiXNC2ff",
        "outputId": "9aaee03e-83a6-44f2-80c7-87fda859c1e1"
      },
      "execution_count": 2,
      "outputs": [
        {
          "output_type": "stream",
          "name": "stdout",
          "text": [
            "439.5\n"
          ]
        }
      ]
    },
    {
      "cell_type": "code",
      "source": [
        "def student_score_summary(scores, threshold):\n",
        "    \"\"\"\n",
        "    scores: a dictionary mapping student names (str) to total scores (int).\n",
        "    threshold: an integer score threshold.\n",
        "\n",
        "    Returns a list of student names who scored above the threshold.\n",
        "    The list should be sorted alphabetically.\n",
        "    \"\"\"\n",
        "    result = [name for name, score in scores.items() if score > threshold]\n",
        "    return sorted(result)\n",
        "\n",
        "# Examples:\n",
        "students = {\"Alice\": 85, \"Bob\": 92, \"Charlie\": 78, \"Daisy\": 95}\n",
        "print(student_score_summary(students, 80))   # ['Alice', 'Bob', 'Daisy']\n",
        "print(student_score_summary(students, 100))  # []\n"
      ],
      "metadata": {
        "colab": {
          "base_uri": "https://localhost:8080/"
        },
        "id": "ZJDf67yXC6ZZ",
        "outputId": "9558d2c6-53fa-4d4d-bf29-3ea28343e2a6"
      },
      "execution_count": 3,
      "outputs": [
        {
          "output_type": "stream",
          "name": "stdout",
          "text": [
            "['Alice', 'Bob', 'Daisy']\n",
            "[]\n"
          ]
        }
      ]
    },
    {
      "cell_type": "code",
      "source": [
        "def merge_inventory(inv1, inv2):\n",
        "    \"\"\"\n",
        "    inv1 and inv2 are dictionaries mapping item names (str) to quantities (int).\n",
        "\n",
        "    Returns a new dictionary that combines both inventories.\n",
        "    If an item appears in both, their quantities are summed.\n",
        "    \"\"\"\n",
        "    merged = inv1.copy()\n",
        "    for item, qty in inv2.items():\n",
        "        merged[item] = merged.get(item, 0) + qty\n",
        "    return merged\n",
        "\n",
        "# Examples:\n",
        "inv1 = {\"pen\": 10, \"notebook\": 5}\n",
        "inv2 = {\"notebook\": 3, \"eraser\": 7}\n",
        "print(merge_inventory(inv1, inv2))  # {'pen': 10, 'notebook': 8, 'eraser': 7}\n"
      ],
      "metadata": {
        "colab": {
          "base_uri": "https://localhost:8080/"
        },
        "id": "BqU0PW5tDBd_",
        "outputId": "817e282d-f31b-46d6-e143-3cfe80098885"
      },
      "execution_count": 4,
      "outputs": [
        {
          "output_type": "stream",
          "name": "stdout",
          "text": [
            "{'pen': 10, 'notebook': 8, 'eraser': 7}\n"
          ]
        }
      ]
    },
    {
      "cell_type": "code",
      "source": [],
      "metadata": {
        "id": "V3w23EPWDEoq"
      },
      "execution_count": null,
      "outputs": []
    }
  ]
}