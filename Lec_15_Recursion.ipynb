{
  "nbformat": 4,
  "nbformat_minor": 0,
  "metadata": {
    "colab": {
      "provenance": [],
      "authorship_tag": "ABX9TyM5RFB/YmqK+UfrE06tEQCx",
      "include_colab_link": true
    },
    "kernelspec": {
      "name": "python3",
      "display_name": "Python 3"
    },
    "language_info": {
      "name": "python"
    }
  },
  "cells": [
    {
      "cell_type": "markdown",
      "metadata": {
        "id": "view-in-github",
        "colab_type": "text"
      },
      "source": [
        "<a href=\"https://colab.research.google.com/github/denzel2025/Data-Science-Git-Branch/blob/main/Lec_15_Recursion.ipynb\" target=\"_parent\"><img src=\"https://colab.research.google.com/assets/colab-badge.svg\" alt=\"Open In Colab\"/></a>"
      ]
    },
    {
      "cell_type": "code",
      "execution_count": null,
      "metadata": {
        "id": "ojV1cxK2axV_"
      },
      "outputs": [],
      "source": [
        "#golden rules\n",
        "#A base case\n",
        "#A recursive case"
      ]
    },
    {
      "cell_type": "code",
      "source": [
        "#introduction to recursion\n",
        "#recursion - is when a function calls itself to solve a smaller version of a problem\n",
        "#Base case - the simplest version of a problem that can be solved directly.\n",
        "#Recursive case - a smaller version of the problem where the function calls itself."
      ],
      "metadata": {
        "id": "VhLFjagSb58m"
      },
      "execution_count": 1,
      "outputs": []
    },
    {
      "cell_type": "code",
      "source": [
        "#Multiply Using Recursion\n",
        "def mult_recur(a, b):\n",
        "  if b == 1:\n",
        "    return a\n",
        "  else:\n",
        "    return a + mult_recur(a, b-1)"
      ],
      "metadata": {
        "id": "VFRiWsuFeGJJ"
      },
      "execution_count": 2,
      "outputs": []
    },
    {
      "cell_type": "code",
      "metadata": {
        "colab": {
          "base_uri": "https://localhost:8080/"
        },
        "id": "58cae470",
        "outputId": "22404100-267d-45b5-f6a7-1f669f470d28"
      },
      "source": [
        "# Example usage of the mult_recur function\n",
        "result = mult_recur(5, 3)\n",
        "print(result)"
      ],
      "execution_count": 4,
      "outputs": [
        {
          "output_type": "stream",
          "name": "stdout",
          "text": [
            "15\n"
          ]
        }
      ]
    },
    {
      "cell_type": "code",
      "source": [
        "#Recursion vs Iteration\n",
        "# Iteration(using loops):\n",
        "def factorial_iter(n):\n",
        "  result = 1\n",
        "  for i in range(1, n+1):\n",
        "    result *= i\n",
        "  return result\n",
        "\n",
        "#Recursion:\n",
        "def factorial_recur(n):\n",
        "  if n == 1:\n",
        "    return 1\n",
        "  else:\n",
        "    return n * factorial_recur(n-1)"
      ],
      "metadata": {
        "id": "OAjnFO0ffcU0"
      },
      "execution_count": 7,
      "outputs": []
    },
    {
      "cell_type": "code",
      "metadata": {
        "colab": {
          "base_uri": "https://localhost:8080/"
        },
        "id": "44b9e0db",
        "outputId": "039b0cc5-45fb-4801-c943-05cbc4d5263c"
      },
      "source": [
        "# Test both factorial functions\n",
        "num = 5\n",
        "\n",
        "print(f\"Factorial of {num} using iteration: {factorial_iter(num)}\")\n",
        "print(f\"Factorial of {num} using recursion: {factorial_recur(num)}\")"
      ],
      "execution_count": 8,
      "outputs": [
        {
          "output_type": "stream",
          "name": "stdout",
          "text": [
            "Factorial of 5 using iteration: 120\n",
            "Factorial of 5 using recursion: 120\n"
          ]
        }
      ]
    },
    {
      "cell_type": "code",
      "source": [
        "#Part 3:\n",
        "# Exerscise 1: calculate a^b using recursion\n",
        "def power_recur(n, p):\n",
        "  if p == 0:\n",
        "    return 1\n",
        "  elif p == 1:\n",
        "    return n\n",
        "  else:\n",
        "    return n * power_recur(n, p-1)\n",
        "print(power_recur(2, 3))"
      ],
      "metadata": {
        "colab": {
          "base_uri": "https://localhost:8080/"
        },
        "id": "lsiDC-nQgmFg",
        "outputId": "66ebaa87-03d0-4363-d69f-d7ae6a6dc2ca"
      },
      "execution_count": 11,
      "outputs": [
        {
          "output_type": "stream",
          "name": "stdout",
          "text": [
            "8\n"
          ]
        }
      ]
    },
    {
      "cell_type": "code",
      "source": [
        "#Exercise 2: Factorial wuith explanation\n",
        "def factorial(n):\n",
        "  if n == 1:\n",
        "    return 1\n",
        "  else:\n",
        "    return n * factorial(n-1)\n",
        "\n",
        "factorial(3)\n"
      ],
      "metadata": {
        "colab": {
          "base_uri": "https://localhost:8080/"
        },
        "id": "zt9CitqDg4sX",
        "outputId": "203679b2-1391-4c64-e127-e8ccd30f3aba"
      },
      "execution_count": 12,
      "outputs": [
        {
          "output_type": "execute_result",
          "data": {
            "text/plain": [
              "6"
            ]
          },
          "metadata": {},
          "execution_count": 12
        }
      ]
    },
    {
      "cell_type": "code",
      "source": [
        "def recur_power(base, exp):\n",
        "  \"\"\"\n",
        "  base: int or float.\n",
        "  exp: int >= 0\n",
        "  Returns base to the power of exp using recursion\n",
        "  \"\"\"\n",
        "\n",
        "  if exp == 0:\n",
        "    return 1\n",
        "  else:\n",
        "    return base * recur_power(base, exp-1)\n",
        "\n",
        "print(recur_power(2,5))"
      ],
      "metadata": {
        "colab": {
          "base_uri": "https://localhost:8080/"
        },
        "id": "87LWjhO6iuUh",
        "outputId": "d3119cf5-d097-4f89-cb5a-0c3b31c1f65e"
      },
      "execution_count": 13,
      "outputs": [
        {
          "output_type": "stream",
          "name": "stdout",
          "text": [
            "32\n"
          ]
        }
      ]
    },
    {
      "cell_type": "code",
      "source": [],
      "metadata": {
        "id": "n2inzSIjtmSP"
      },
      "execution_count": null,
      "outputs": []
    }
  ]
}