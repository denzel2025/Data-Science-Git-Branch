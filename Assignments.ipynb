{
  "nbformat": 4,
  "nbformat_minor": 0,
  "metadata": {
    "colab": {
      "provenance": [],
      "authorship_tag": "ABX9TyPSPa0HFmKlMZKuVweLWJLw",
      "include_colab_link": true
    },
    "kernelspec": {
      "name": "python3",
      "display_name": "Python 3"
    },
    "language_info": {
      "name": "python"
    }
  },
  "cells": [
    {
      "cell_type": "markdown",
      "metadata": {
        "id": "view-in-github",
        "colab_type": "text"
      },
      "source": [
        "<a href=\"https://colab.research.google.com/github/denzel2025/Data-Science-Git-Branch/blob/main/Assignments.ipynb\" target=\"_parent\"><img src=\"https://colab.research.google.com/assets/colab-badge.svg\" alt=\"Open In Colab\"/></a>"
      ]
    },
    {
      "cell_type": "code",
      "execution_count": 1,
      "metadata": {
        "colab": {
          "base_uri": "https://localhost:8080/"
        },
        "id": "0LwDM0r3h5pR",
        "outputId": "8842b3b6-11f2-4f60-f931-0425345c7501"
      },
      "outputs": [
        {
          "output_type": "stream",
          "name": "stdout",
          "text": [
            "🍫 Welcome to the Binary Snack Machine! 🍿\n",
            "Enter snack price (between 0 and 10): 3.625\n",
            "Binary price: 11.101\n",
            "😋 Enjoy your snack!\n"
          ]
        }
      ],
      "source": [
        "print(\"🍫 Welcome to the Binary Snack Machine! 🍿\")\n",
        "\n",
        "# Get input\n",
        "price = float(input(\"Enter snack price (between 0 and 10): \"))\n",
        "\n",
        "# Validate input\n",
        "if price < 0 or price > 10:\n",
        "    print(\"❌ Invalid input. Please enter a price between 0 and 10.\")\n",
        "else:\n",
        "    # Separate integer and fractional parts\n",
        "    integer_part = int(price)\n",
        "    fractional_part = price - integer_part\n",
        "\n",
        "    # Convert integer part to binary\n",
        "    int_binary = \"\"\n",
        "    if integer_part == 0:\n",
        "        int_binary = \"0\"\n",
        "    else:\n",
        "        while integer_part > 0:\n",
        "            int_binary = str(integer_part % 2) + int_binary\n",
        "            integer_part //= 2\n",
        "\n",
        "    # Convert fractional part to binary (up to 8 bits)\n",
        "    frac_binary = \"\"\n",
        "    count = 0\n",
        "    while fractional_part > 0 and count < 8:\n",
        "        fractional_part *= 2\n",
        "        bit = int(fractional_part)\n",
        "        frac_binary += str(bit)\n",
        "        fractional_part -= bit\n",
        "        count += 1\n",
        "\n",
        "    # Combine and print result\n",
        "    if frac_binary:\n",
        "        binary_price = f\"{int_binary}.{frac_binary}\"\n",
        "    else:\n",
        "        binary_price = int_binary\n",
        "\n",
        "    print(\"Binary price:\", binary_price)\n",
        "    print(\"😋 Enjoy your snack!\")\n"
      ]
    },
    {
      "cell_type": "code",
      "source": [
        "# Final Assignment Topic 4\n",
        "# Assignment 1: Binary Name Tag Generator (For Loop + ASCII + Binary)\n",
        "# Scenario\n",
        "# Your mission: help your classmates get awesome binary name tags.\n",
        "# Each student should input their first name, and your program will display:\n",
        "# 1.\tEach letter\n",
        "# 2.\tIts ASCII code\n",
        "# 3.\tIts 8-bit binary value\n",
        "\n",
        "# Instructions\n",
        "# 1.\tAsk the user to enter their first name.\n",
        "# 2.\tFor each character:\n",
        "# •\tConvert to ASCII using ord()\n",
        "# •\tConvert ASCII to binary using format(..., '08b')\n",
        "# 3.\tPrint the result nicely.\n",
        "\n",
        "# Sample Output\n",
        "# Code Output:\n",
        "# Name: ZOE\n",
        "# Z → 90 → 01011010\n",
        "# O → 79 → 01001111\n",
        "# E → 69 → 01000101\n",
        "\n",
        "#Prompt the user to enter their first name\n",
        "name = input(\"Enter your first name: \")\n",
        "#Iterates through each character\n",
        "for char in name:\n",
        "  ascii_code = ord(char)#ASCII value for standard ASCII characters\n",
        "  binary_value = format(ascii_code, '08b')\n",
        "#Prints the result\n",
        "  print(f\"{char} → {ascii_code} → {binary_value}\")\n",
        "\n"
      ],
      "metadata": {
        "colab": {
          "base_uri": "https://localhost:8080/"
        },
        "id": "GTWcNSyMh8Wv",
        "outputId": "714ddbe3-33ed-471d-a1e9-91522ed63982"
      },
      "execution_count": 2,
      "outputs": [
        {
          "output_type": "stream",
          "name": "stdout",
          "text": [
            "Enter your first name: Denzel\n",
            "D → 68 → 01000100\n",
            "e → 101 → 01100101\n",
            "n → 110 → 01101110\n",
            "z → 122 → 01111010\n",
            "e → 101 → 01100101\n",
            "l → 108 → 01101100\n"
          ]
        }
      ]
    },
    {
      "cell_type": "code",
      "source": [
        "# Assignment 2: Secret Binary Door Unlocker (Guess-and-Check + Binary + Loops)\n",
        "# Scenario\n",
        "# There's a secret door in your program, and it only opens when the correct code in binary is entered.\n",
        "# The user must guess the decimal number hidden behind the binary code using guess-and-check logic.\n",
        "\n",
        "# Instructions\n",
        "# 1.\tThe program stores a secret binary string, like '1011' (which is 11).\n",
        "# 2.\tThe user must guess the decimal number.\n",
        "# 3.\tYour program checks if the guess converted to binary matches the secret.\n",
        "# 4.\tLoop until the user guesses right, then print \"Door Unlocked!\".\n",
        "\n",
        "# Code Output:\n",
        "# Binary Door Code Challenge!\n",
        "# Guess the number that matches the secret binary code: 1011\n",
        "# Your guess: 8\n",
        "# Binary of 8 → 1000 → ❌ Not a match.\n",
        "\n",
        "# Your guess: 11\n",
        "# Binary of 11 → 1011 → ✅ Door Unlocked!\n",
        "secret_binary_code = '1011'\n",
        "secret_decimal_code = int(secret_binary_code, 2)#\n",
        "\n",
        "print(\"Binary Door Code Challenge!\")\n",
        "\n",
        "while True:\n",
        "  try:\n",
        "    guess = int(input(f\"Guess the number that matches the secret binary code: {secret_binary_code}\\nYour guess: \"))\n",
        "    guess_binary = format(guess, 'b')\n",
        "    print(f\"Binary of {guess} → {guess_binary}\", end=\" → \")\n",
        "\n",
        "    if guess == secret_decimal_code:\n",
        "      print(\" Door Unlocked!\")\n",
        "      break\n",
        "    else:\n",
        "      print(\" Not a match.\")\n",
        "  except ValueError:\n",
        "    print(\"Invalid input. Please enter an integer.\")\n",
        "\n",
        "# Submission Instructions\n",
        "# •\tSave as: binary_your_name_tag.py\n",
        "# •\tPush to the GitHub class repo under /assignments/week4/\n",
        "# •\tInclude 1 screenshot of your output\n",
        "# Bonus Challenges (Optional for Fast Finishers)\n",
        "# •\tModify the name tag to support lowercase and symbols.\n",
        "# •\tChange the door unlocker to let the user input their own binary code, and let the program reverse-engineer it (convert to decimal).\n",
        "# •\tCreate a version that accepts fractional binary prices (like Binary Snack Machine!)\n",
        "\n",
        "# NB:\n",
        "# Both assignments help you practice loops, binary conversion, and string processing, while reinforcing how computers represent text and numbers.\n",
        "# These aren't just fun — they're the foundation of how software talks to machines.\n",
        "\n"
      ],
      "metadata": {
        "colab": {
          "base_uri": "https://localhost:8080/"
        },
        "id": "aBHg10xWjHPF",
        "outputId": "c7b56bd6-381f-4ac2-f4dc-1ffad66e0f21"
      },
      "execution_count": 3,
      "outputs": [
        {
          "output_type": "stream",
          "name": "stdout",
          "text": [
            "Binary Door Code Challenge!\n",
            "Guess the number that matches the secret binary code: 1011\n",
            "Your guess: 15\n",
            "Binary of 15 → 1111 →  Not a match.\n",
            "Guess the number that matches the secret binary code: 1011\n",
            "Your guess: 12\n",
            "Binary of 12 → 1100 →  Not a match.\n",
            "Guess the number that matches the secret binary code: 1011\n",
            "Your guess: 10\n",
            "Binary of 10 → 1010 →  Not a match.\n",
            "Guess the number that matches the secret binary code: 1011\n",
            "Your guess: 11\n",
            "Binary of 11 → 1011 →  Door Unlocked!\n"
          ]
        }
      ]
    },
    {
      "cell_type": "code",
      "source": [],
      "metadata": {
        "id": "uu3DnoN2jZ2t"
      },
      "execution_count": null,
      "outputs": []
    }
  ]
}