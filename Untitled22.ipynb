{
  "nbformat": 4,
  "nbformat_minor": 0,
  "metadata": {
    "colab": {
      "provenance": [],
      "authorship_tag": "ABX9TyNgOHqBpChLL+BnA0wsT/dn",
      "include_colab_link": true
    },
    "kernelspec": {
      "name": "python3",
      "display_name": "Python 3"
    },
    "language_info": {
      "name": "python"
    }
  },
  "cells": [
    {
      "cell_type": "markdown",
      "metadata": {
        "id": "view-in-github",
        "colab_type": "text"
      },
      "source": [
        "<a href=\"https://colab.research.google.com/github/denzel2025/Data-Science-Git-Branch/blob/main/Untitled22.ipynb\" target=\"_parent\"><img src=\"https://colab.research.google.com/assets/colab-badge.svg\" alt=\"Open In Colab\"/></a>"
      ]
    },
    {
      "cell_type": "code",
      "execution_count": null,
      "metadata": {
        "id": "zQJfYSDyqvTg"
      },
      "outputs": [],
      "source": [
        "# ELDOHUB\n",
        "# Assignment on Topic 7 and 8 - Functions\n",
        "# Challenge 1: Lambda Magic – Multiples of 3\n",
        "# Problem:\n",
        "# Write a lambda function that checks if a number is a multiple of 3.(10 Marks)\n",
        "# Lambda function to check multiple of 3\n",
        "\n",
        "# User input\n",
        "num = int(input(\"Enter a number(\"))\n",
        "#Lmbuda Magic formula\n",
        "is_multp_of_3 = lambda x: x % 3 == 0\n",
        "if is_multp_of_3(num):\n",
        "#Print\n",
        "    print(\"Multiple of 3\")\n",
        "else:\n",
        "    print(\"Not a multiple of 3\")\n",
        "\n"
      ]
    },
    {
      "cell_type": "code",
      "source": [
        "# Challenge 2: Using sum() and len() with Lists\n",
        "# Problem A: Find the average of a list of numbers (10 marks)\n",
        "# Function Signature:\n",
        "def average(L):\n",
        "    tl = sum(L)\n",
        "    co = len(L)\n",
        "    r = tl / co\n",
        "    return r\n",
        "\n",
        "my_list = [4, 8, 10, 6]\n",
        "print(\"Average is:\", average(my_list))\n"
      ],
      "metadata": {
        "id": "UVLZ3qPcq0bL"
      },
      "execution_count": null,
      "outputs": []
    },
    {
      "cell_type": "code",
      "source": [
        "#Problem B: Find the total number of letters in a list of strings(10 Marks)\n",
        "#Function Signature:\n",
        "def total_(words):\n",
        "    total = 0\n",
        "    for word in words:\n",
        "        total += len(word)\n",
        "    return total\n",
        "my_list = [\"Ngwashe\", \"Uji\", \"Matoke\"]\n",
        "print(\"Total letters:\", total_(my_list))"
      ],
      "metadata": {
        "id": "PqDmc1okq3r2"
      },
      "execution_count": null,
      "outputs": []
    },
    {
      "cell_type": "code",
      "source": [
        "# Challenge 3: Combine Lambda + List(10 Marks)\n",
        "# Problem:\n",
        "# Use filter() and a lambda to return all numbers divisible by 3 in a list.\n",
        "#My numbers\n",
        "numbers = [3, 4, 6, 8, 9]\n",
        "\n",
        "# Filter with lambda to GET numbers div3\n",
        "div3 = filter(lambda number: number % 3 == 0, numbers)\n",
        "\n",
        "# Convert & print it\n",
        "print(\"Numbers divisible by 3:\", list(div3))\n",
        "\n"
      ],
      "metadata": {
        "id": "itiDCn4nq68W"
      },
      "execution_count": null,
      "outputs": []
    },
    {
      "cell_type": "code",
      "source": [
        "# Challenge 4 (10 Marks)\n",
        "# Task:\n",
        "# Implement a function dot_product that does the following:\n",
        "# NB:Copy the whole code and run the problem first(Task on””” tA & tB”””)\n",
        "\n",
        "# def dot_product(tA, tB):\n",
        "#     \"\"\"\n",
        "#     tA: a tuple of numbers\n",
        "#     tB: a tuple of numbers of the same length as tA\n",
        "#     Returns a tuple (length, dot product of tA and tB)\n",
        "#     \"\"\"\n",
        "#     total = 0\n",
        "#     for i in range(len(tA)):\n",
        "#         total += tA[i] * tB[i]\n",
        "def dot_prod(tA, tB):\n",
        "    total = 0\n",
        "    for i in range(len(tA)):\n",
        "        total = total + (tA[i] * tB[i])\n",
        "    return (len(tA), total)\n",
        "a = (1, 2, 3)\n",
        "b = (4, 5, 6)\n",
        "\n",
        "answer = dot_prod(a, b)\n",
        "\n",
        "print(\"Length of tuples:\", answer[0])\n",
        "print(\"Dot prod:\", answer[1])\n"
      ],
      "metadata": {
        "id": "Jus459K1rB3r"
      },
      "execution_count": null,
      "outputs": []
    }
  ]
}