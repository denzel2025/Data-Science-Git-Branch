{
  "nbformat": 4,
  "nbformat_minor": 0,
  "metadata": {
    "colab": {
      "provenance": [],
      "authorship_tag": "ABX9TyOecQW3fMVEwS7zpAWE15jf",
      "include_colab_link": true
    },
    "kernelspec": {
      "name": "python3",
      "display_name": "Python 3"
    },
    "language_info": {
      "name": "python"
    }
  },
  "cells": [
    {
      "cell_type": "markdown",
      "metadata": {
        "id": "view-in-github",
        "colab_type": "text"
      },
      "source": [
        "<a href=\"https://colab.research.google.com/github/denzel2025/Data-Science-Git-Branch/blob/main/Hackathon.ipynb\" target=\"_parent\"><img src=\"https://colab.research.google.com/assets/colab-badge.svg\" alt=\"Open In Colab\"/></a>"
      ]
    },
    {
      "cell_type": "code",
      "source": [
        "# Function to count the number of vowels in a given sentence\n",
        "def count_vowels(sentence):\n",
        "    vowels = {'a', 'e', 'i', 'o', 'u'}  # Set of vowels\n",
        "    count = 0  # Initialize counter\n",
        "\n",
        "    # Convert the sentence to lowercase and check each character\n",
        "    for char in sentence.lower():\n",
        "        if char in vowels:\n",
        "            count += 1  # Increment count if character is a vowel\n",
        "\n",
        "    return count  # Return the total count\n",
        "\n",
        "# Prompt the user to enter a sentence\n",
        "user_input = input(\"Enter a sentence: \")\n",
        "\n",
        "# Call the function with user input and store the result\n",
        "vowel_count = count_vowels(user_input)\n",
        "\n",
        "# Display the result\n",
        "print(f\"Number of vowels: {vowel_count}\")\n"
      ],
      "metadata": {
        "colab": {
          "base_uri": "https://localhost:8080/"
        },
        "id": "TnSGNt13KpCS",
        "outputId": "5dff1c1b-cf32-4d03-a47e-7c6ebb5b0db0"
      },
      "execution_count": 9,
      "outputs": [
        {
          "output_type": "stream",
          "name": "stdout",
          "text": [
            "Enter a sentence: How are you ?\n",
            "Number of vowels: 5\n"
          ]
        }
      ]
    },
    {
      "cell_type": "code",
      "source": [
        "# Function to check if a number is prime\n",
        "def is_prime(num):\n",
        "    if num < 2:\n",
        "        return False  # 0 and 1 are not prime numbers\n",
        "    for i in range(2, int(num**0.5) + 1):  # Check up to square root of num\n",
        "        if num % i == 0:\n",
        "            return False  # Not a prime if divisible by any number in range\n",
        "    return True  # Prime if no divisors found\n",
        "\n",
        "# Get input from the user\n",
        "start = int(input(\"Enter the start number: \"))\n",
        "end = int(input(\"Enter the end number: \"))\n",
        "\n",
        "# Print all prime numbers between start and end (inclusive)\n",
        "print(f\"Prime numbers between {start} and {end}:\")\n",
        "for number in range(start, end + 1):\n",
        "    if is_prime(number):\n",
        "        print(number)\n"
      ],
      "metadata": {
        "colab": {
          "base_uri": "https://localhost:8080/"
        },
        "id": "VSeuKMrsKtcf",
        "outputId": "c512796a-bed1-4f62-fd54-7f9f5835e7b0"
      },
      "execution_count": 10,
      "outputs": [
        {
          "output_type": "stream",
          "name": "stdout",
          "text": [
            "Enter the start number: 3\n",
            "Enter the end number: 15\n",
            "Prime numbers between 3 and 15:\n",
            "3\n",
            "5\n",
            "7\n",
            "11\n",
            "13\n"
          ]
        }
      ]
    },
    {
      "cell_type": "code",
      "source": [
        "# Hardcoded secret number between 1 and 50\n",
        "secret_number = 37\n",
        "\n",
        "# Maximum number of attempts allowed\n",
        "max_attempts = 5\n",
        "\n",
        "print(\"Guess the secret number between 1 and 50. You have 5 attempts.\")\n",
        "\n",
        "# Loop to give the user up to 5 chances to guess\n",
        "for attempt in range(1, max_attempts + 1):\n",
        "    # Prompt the user to enter a guess\n",
        "    guess = int(input(f\"Attempt {attempt}: Enter your guess: \"))\n",
        "\n",
        "    # Check if the guess is too low\n",
        "    if guess < secret_number:\n",
        "        print(\"Too low.\")\n",
        "    # Check if the guess is too high\n",
        "    elif guess > secret_number:\n",
        "        print(\"Too high.\")\n",
        "    # If the guess is correct\n",
        "    else:\n",
        "        print(f\"Congratulations! You guessed the secret number {secret_number} in {attempt} attempt(s)!\")\n",
        "        break  # Exit the loop if guessed correctly\n",
        "else:\n",
        "    # This block runs if the user fails all attempts\n",
        "    print(f\"Sorry! The secret number was {secret_number}. Better luck next time!\")\n"
      ],
      "metadata": {
        "colab": {
          "base_uri": "https://localhost:8080/"
        },
        "id": "cde_rLSsNLLj",
        "outputId": "8879f472-46df-4c6e-e75d-376c13c745df"
      },
      "execution_count": 11,
      "outputs": [
        {
          "output_type": "stream",
          "name": "stdout",
          "text": [
            "Guess the secret number between 1 and 50. You have 5 attempts.\n",
            "Attempt 1: Enter your guess: 49\n",
            "Too high.\n",
            "Attempt 2: Enter your guess: 36\n",
            "Too low.\n",
            "Attempt 3: Enter your guess: 41\n",
            "Too high.\n",
            "Attempt 4: Enter your guess: 32\n",
            "Too low.\n",
            "Attempt 5: Enter your guess: 35\n",
            "Too low.\n",
            "Sorry! The secret number was 37. Better luck next time!\n"
          ]
        }
      ]
    },
    {
      "cell_type": "code",
      "source": [
        "# Define the dimensions of the table\n",
        "n = 4  # number of rows\n",
        "m = 5  # number of columns\n",
        "\n",
        "# Print the header row\n",
        "print(\"    \", end=\"\")  # initial spacing for alignment\n",
        "for col in range(1, m + 1):\n",
        "    print(f\"{col:>4}\", end=\"\")  # print column headers right-aligned\n",
        "print()  # new line\n",
        "\n",
        "# Print a separator\n",
        "print(\"    \" + \"----\" * m)\n",
        "\n",
        "# Print the multiplication table rows\n",
        "for row in range(1, n + 1):\n",
        "    print(f\"{row:>2} |\", end=\"\")  # row label with separator\n",
        "    for col in range(1, m + 1):\n",
        "        print(f\"{row * col:>4}\", end=\"\")  # print each cell right-aligned\n",
        "    print()  # new line after each row\n"
      ],
      "metadata": {
        "colab": {
          "base_uri": "https://localhost:8080/"
        },
        "id": "xFoTnYAyOW-u",
        "outputId": "61935ac8-eb9a-44b3-c5b3-b62b4b8e8ffa"
      },
      "execution_count": 12,
      "outputs": [
        {
          "output_type": "stream",
          "name": "stdout",
          "text": [
            "       1   2   3   4   5\n",
            "    --------------------\n",
            " 1 |   1   2   3   4   5\n",
            " 2 |   2   4   6   8  10\n",
            " 3 |   3   6   9  12  15\n",
            " 4 |   4   8  12  16  20\n"
          ]
        }
      ]
    },
    {
      "cell_type": "code",
      "source": [],
      "metadata": {
        "id": "A8isjkiLReCR"
      },
      "execution_count": null,
      "outputs": []
    }
  ]
}