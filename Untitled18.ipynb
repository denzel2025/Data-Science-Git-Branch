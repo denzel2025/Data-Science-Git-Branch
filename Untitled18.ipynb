{
  "nbformat": 4,
  "nbformat_minor": 0,
  "metadata": {
    "colab": {
      "provenance": [],
      "authorship_tag": "ABX9TyMDkd1bQQwvwUCvWtsyUMeD",
      "include_colab_link": true
    },
    "kernelspec": {
      "name": "python3",
      "display_name": "Python 3"
    },
    "language_info": {
      "name": "python"
    }
  },
  "cells": [
    {
      "cell_type": "markdown",
      "metadata": {
        "id": "view-in-github",
        "colab_type": "text"
      },
      "source": [
        "<a href=\"https://colab.research.google.com/github/denzel2025/Data-Science-Git-Branch/blob/main/Untitled18.ipynb\" target=\"_parent\"><img src=\"https://colab.research.google.com/assets/colab-badge.svg\" alt=\"Open In Colab\"/></a>"
      ]
    },
    {
      "cell_type": "code",
      "execution_count": 2,
      "metadata": {
        "colab": {
          "base_uri": "https://localhost:8080/"
        },
        "id": "2BKoSCVMJxaQ",
        "outputId": "d9cc9f9e-f907-4944-a0b3-ea94004f931e"
      },
      "outputs": [
        {
          "output_type": "stream",
          "name": "stdout",
          "text": [
            "0.1 + 0.2 = 0.30000000000000004\n",
            "Is o.1 + 0.2 == 0.3 ? False\n"
          ]
        }
      ],
      "source": [
        "# Print raw sums\n",
        "print(\"0.1 + 0.2 =\", 0.1 + 0.2)\n",
        "print(\"Is o.1 + 0.2 == 0.3 ?\",(0.1 + 0.2) == 0.3)"
      ]
    },
    {
      "cell_type": "code",
      "source": [
        "y = sum([0.2] * 5)\n",
        "print(\"0.2 * 5 =\", y, \"| y == 1.0 ?\", y == 1.0)"
      ],
      "metadata": {
        "colab": {
          "base_uri": "https://localhost:8080/"
        },
        "id": "Sx0LgYr5KcHm",
        "outputId": "a0f20f7c-712b-4709-a828-a899dad35ea2"
      },
      "execution_count": 3,
      "outputs": [
        {
          "output_type": "stream",
          "name": "stdout",
          "text": [
            "0.2 * 5 = 1.0 | y == 1.0 ? True\n"
          ]
        }
      ]
    },
    {
      "cell_type": "code",
      "source": [
        "def floats_equals(a, b, tol=1e-9):\n",
        "  return abs(a - b) < tol"
      ],
      "metadata": {
        "id": "ddMk49ZNL5PK"
      },
      "execution_count": 6,
      "outputs": []
    },
    {
      "cell_type": "code",
      "source": [
        "a = 0.1 + 0.2\n",
        "b = 0.3\n",
        "print(\"a:\", a)\n",
        "print(\"b:\", b)\n",
        "print(\"Using == :\", a == b)\n",
        "print(\"Using abs(a - b)<1e-9 :\", abs(a - b)<1e-9)"
      ],
      "metadata": {
        "colab": {
          "base_uri": "https://localhost:8080/"
        },
        "id": "SSfhlXIFM5WO",
        "outputId": "44092997-b6ed-4297-fec9-af7490a51dec"
      },
      "execution_count": 13,
      "outputs": [
        {
          "output_type": "stream",
          "name": "stdout",
          "text": [
            "a: 0.30000000000000004\n",
            "b: 0.3\n",
            "Using == : False\n",
            "Using abs(a - b)<1e-9 : True\n"
          ]
        }
      ]
    },
    {
      "cell_type": "code",
      "source": [
        "def sqrt_approx_incremental(x, epsilon=0.01, increment=0.0001):\n",
        "  guess = 0.0\n",
        "  num_guesses = 0\n",
        "  while abs(guess**2 - x) > epsilon:\n",
        "    guess += increment\n",
        "    num_guesses += 1\n",
        "    #Safety check to avoid infinite loop when x < 1\n",
        "    if guess > x and x >= 1:\n",
        "      print(\"Give up on x =\", x)\n",
        "      break\n",
        "  return guess, num_guesses\n",
        "\n",
        "#Test a few values\n",
        "for x in [2, 24, 36, 50]:\n",
        "  root, guesses = sqrt_approx_incremental(x, epsilon=0.01, increment=0.0001)\n",
        "  print(f\"x={x}: guess={root:.5f}, sqrt = {root:.5f}, guesses={guesses}\")"
      ],
      "metadata": {
        "colab": {
          "base_uri": "https://localhost:8080/"
        },
        "id": "_bdsQQDmOJ2w",
        "outputId": "08d9f130-dd94-4588-8630-bd5cd4aa45d5"
      },
      "execution_count": 14,
      "outputs": [
        {
          "output_type": "stream",
          "name": "stdout",
          "text": [
            "x=2: guess=1.41070, sqrt = 1.41070, guesses=14107\n",
            "x=24: guess=4.89800, sqrt = 4.89800, guesses=48980\n",
            "x=36: guess=5.99920, sqrt = 5.99920, guesses=59992\n",
            "x=50: guess=7.07040, sqrt = 7.07040, guesses=70704\n"
          ]
        }
      ]
    },
    {
      "cell_type": "code",
      "source": [],
      "metadata": {
        "id": "1S5BMOHWVaIe"
      },
      "execution_count": null,
      "outputs": []
    }
  ]
}