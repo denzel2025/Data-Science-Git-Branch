{
  "nbformat": 4,
  "nbformat_minor": 0,
  "metadata": {
    "colab": {
      "provenance": [],
      "authorship_tag": "ABX9TyPFGvNNdRobg4tBjbZKFZ1y",
      "include_colab_link": true
    },
    "kernelspec": {
      "name": "python3",
      "display_name": "Python 3"
    },
    "language_info": {
      "name": "python"
    }
  },
  "cells": [
    {
      "cell_type": "markdown",
      "metadata": {
        "id": "view-in-github",
        "colab_type": "text"
      },
      "source": [
        "<a href=\"https://colab.research.google.com/github/denzel2025/Data-Science-Git-Branch/blob/main/lecture8_functions_as_objects.ipynb\" target=\"_parent\"><img src=\"https://colab.research.google.com/assets/colab-badge.svg\" alt=\"Open In Colab\"/></a>"
      ]
    },
    {
      "cell_type": "code",
      "execution_count": null,
      "metadata": {
        "id": "Ie0KGSB1SOtO"
      },
      "outputs": [],
      "source": [
        "#Return-gives back a value to the caller.\n",
        "#Print-displays something on the screen,but does not return anything."
      ]
    },
    {
      "cell_type": "code",
      "source": [
        "#return vs. print\n",
        "\n",
        "def add(x, y):\n",
        "  return x + y\n",
        "\n",
        "def mult(x, y):\n",
        "  print(x * y)\n",
        "\n",
        "print(add(1, 2))\n",
        "print(mult(5, 2))"
      ],
      "metadata": {
        "colab": {
          "base_uri": "https://localhost:8080/"
        },
        "id": "-PTe605RWHEa",
        "outputId": "72380a6f-1995-43bd-8376-76e370b43710"
      },
      "execution_count": 4,
      "outputs": [
        {
          "output_type": "stream",
          "name": "stdout",
          "text": [
            "3\n",
            "10\n",
            "None\n"
          ]
        }
      ]
    },
    {
      "cell_type": "code",
      "source": [
        "#Function Scope & Environment\n",
        "def f(x):\n",
        "  x = x + 1\n",
        "  print('inside f:', x)\n",
        "  return x\n",
        "\n",
        "x = 3\n",
        "z = f(x)\n",
        "print('outside f:', x)"
      ],
      "metadata": {
        "colab": {
          "base_uri": "https://localhost:8080/"
        },
        "id": "XEMgMWCyWhM2",
        "outputId": "ae6f98d1-75c0-46e8-be58-faec59dc1ac6"
      },
      "execution_count": 5,
      "outputs": [
        {
          "output_type": "stream",
          "name": "stdout",
          "text": [
            "inside f: 4\n",
            "outside f: 3\n"
          ]
        }
      ]
    },
    {
      "cell_type": "code",
      "source": [
        "#Functions as Objects\n",
        "def is_even(x):\n",
        "  return x % 2 == 0\n",
        "\n",
        "my_func = is_even\n",
        "print(my_func(4))"
      ],
      "metadata": {
        "colab": {
          "base_uri": "https://localhost:8080/"
        },
        "id": "bt6zXdscZ9Wz",
        "outputId": "e240b59d-9488-454b-c025-6e576e3bc9e8"
      },
      "execution_count": 8,
      "outputs": [
        {
          "output_type": "stream",
          "name": "stdout",
          "text": [
            "True\n"
          ]
        }
      ]
    },
    {
      "cell_type": "code",
      "source": [
        "#Higher-order Functions\n",
        "def calc(op, x, y):\n",
        "  return op(x, y)\n",
        "\n",
        "def add(x, y):return x + y\n",
        "\n",
        "def sub(x, y):return x - y\n",
        "\n",
        "print(calc(add, 2, 3))\n",
        "print(calc(sub, 2, 3))\n",
        "\n",
        "print(calc(lambda a, b: a * b, 3, 4))"
      ],
      "metadata": {
        "colab": {
          "base_uri": "https://localhost:8080/"
        },
        "id": "x_uy5qTXcQnD",
        "outputId": "4dfed3f6-8e35-42d6-90a3-80b3771a4044"
      },
      "execution_count": 11,
      "outputs": [
        {
          "output_type": "stream",
          "name": "stdout",
          "text": [
            "5\n",
            "-1\n",
            "12\n"
          ]
        }
      ]
    },
    {
      "cell_type": "code",
      "source": [
        "#Example\n",
        "def apply(criteria, n):\n",
        "  count = 0\n",
        "  for i in range(n + 1):\n",
        "    if criteria(i):\n",
        "      count += 1\n",
        "  return count\n",
        "\n",
        "print(apply(lambda x: x % 2 == 0, 10))\n",
        "print(apply(lambda x: x % 3 == 0, 10))"
      ],
      "metadata": {
        "colab": {
          "base_uri": "https://localhost:8080/"
        },
        "id": "H8EX1ZaQdf4J",
        "outputId": "24636c69-3b82-4f23-d1d4-8ec75b3e093f"
      },
      "execution_count": 13,
      "outputs": [
        {
          "output_type": "stream",
          "name": "stdout",
          "text": [
            "6\n",
            "4\n"
          ]
        }
      ]
    },
    {
      "cell_type": "code",
      "source": [
        "#Example- Maximum of Two functios\n",
        "\n",
        "def max_of_both(n, f1, f2):\n",
        "  max_val = float('-inf')\n",
        "  for i in range(n+1):\n",
        "    max_val = max(max_val, f1(i), f2(i))\n",
        "  return max_val\n",
        "\n",
        "print(max_of_both(10, lambda x: x * 2, lambda x: x / 2))"
      ],
      "metadata": {
        "colab": {
          "base_uri": "https://localhost:8080/"
        },
        "id": "9X05lNI_gMdN",
        "outputId": "22517251-2aac-4acf-9a39-65052471130d"
      },
      "execution_count": 18,
      "outputs": [
        {
          "output_type": "stream",
          "name": "stdout",
          "text": [
            "20\n"
          ]
        }
      ]
    },
    {
      "cell_type": "code",
      "source": [
        "#Function Detective\n"
      ],
      "metadata": {
        "id": "KKeFmH8DiNUB"
      },
      "execution_count": null,
      "outputs": []
    },
    {
      "cell_type": "code",
      "source": [
        "# prompt: function that multiplies any number by 3.\n",
        "\n",
        "def multiply_by_three(number):\n",
        "  \"\"\"\n",
        "  Multiplies a number by 3 and returns the result.\n",
        "  \"\"\"\n",
        "  return number * 3\n",
        "\n",
        "# Example usage:\n",
        "result = multiply_by_three(5)\n",
        "result\n"
      ],
      "metadata": {
        "colab": {
          "base_uri": "https://localhost:8080/"
        },
        "id": "noL5G0n_nop-",
        "outputId": "1eb17e64-38b1-42d7-b400-306c15eca577"
      },
      "execution_count": 19,
      "outputs": [
        {
          "output_type": "execute_result",
          "data": {
            "text/plain": [
              "15"
            ]
          },
          "metadata": {},
          "execution_count": 19
        }
      ]
    },
    {
      "cell_type": "code",
      "source": [
        "#Function that checks if a number is palindrome\n",
        "\n",
        "def is_palindrome(number):\n",
        "  \"\"\"\n",
        "  Checks if a number is a palindrome.\n",
        "\n",
        "  Args:\n",
        "    number: The integer to check.\n",
        "\n",
        "  Returns:\n",
        "    True if the number is a palindrome, False otherwise.\n",
        "  \"\"\"\n",
        "  return str(number) == str(number)[::-1]\n",
        "\n",
        "print(is_palindrome(121))\n",
        "print(is_palindrome(123))\n",
        "print(is_palindrome(1001))"
      ],
      "metadata": {
        "colab": {
          "base_uri": "https://localhost:8080/"
        },
        "id": "U_A8SeBZp7kk",
        "outputId": "8460f007-3bc1-4049-d544-e9c6f60a335c"
      },
      "execution_count": 23,
      "outputs": [
        {
          "output_type": "stream",
          "name": "stdout",
          "text": [
            "True\n",
            "False\n",
            "True\n"
          ]
        }
      ]
    },
    {
      "cell_type": "code",
      "source": [
        "#System that takes in a number ,applies a function to it, and checks if the result is a palindrome\n",
        "\n",
        "def is_palindrome(number):\n",
        "  \"\"\"\n",
        "  Checks if a number is a palindrome.\n",
        "  \"\"\"\n",
        "  return str(number) == str(number)[::-1]\n",
        "\n",
        "def process_and_check_palindrome(number, func):\n",
        "  \"\"\"\n",
        "  Applies a function to a number and checks if the result is a palindrome.\n",
        "  \"\"\"\n",
        "  processed_number = func(number)\n",
        "  return is_palindrome(processed_number)\n",
        "\n",
        "# Function:\n",
        "input_number = 11\n",
        "result_is_palindrome = process_and_check_palindrome(input_number, multiply_by_three)\n",
        "print(f\"Applying multiply_by_three to {input_number}: Is the result a palindrome? {result_is_palindrome}\")\n",
        "\n",
        "input_number = 17\n",
        "result_is_palindrome = process_and_check_palindrome(input_number, lambda x: x + 5)\n",
        "print(f\"Applying lambda x: x + 5 to {input_number}: Is the result a palindrome? {result_is_palindrome}\")"
      ],
      "metadata": {
        "colab": {
          "base_uri": "https://localhost:8080/"
        },
        "id": "4ND9IdMfn2sE",
        "outputId": "9ef606ec-2bf0-445f-da11-beb2abe515bc"
      },
      "execution_count": 24,
      "outputs": [
        {
          "output_type": "stream",
          "name": "stdout",
          "text": [
            "Applying multiply_by_three to 11: Is the result a palindrome? True\n",
            "Applying lambda x: x + 5 to 17: Is the result a palindrome? True\n"
          ]
        }
      ]
    },
    {
      "cell_type": "code",
      "source": [],
      "metadata": {
        "id": "6dTFvHxOoj0q"
      },
      "execution_count": null,
      "outputs": []
    }
  ]
}