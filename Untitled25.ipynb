{
  "nbformat": 4,
  "nbformat_minor": 0,
  "metadata": {
    "colab": {
      "provenance": [],
      "include_colab_link": true
    },
    "kernelspec": {
      "name": "python3",
      "display_name": "Python 3"
    },
    "language_info": {
      "name": "python"
    }
  },
  "cells": [
    {
      "cell_type": "markdown",
      "metadata": {
        "id": "view-in-github",
        "colab_type": "text"
      },
      "source": [
        "<a href=\"https://colab.research.google.com/github/denzel2025/Data-Science-Git-Branch/blob/main/Untitled25.ipynb\" target=\"_parent\"><img src=\"https://colab.research.google.com/assets/colab-badge.svg\" alt=\"Open In Colab\"/></a>"
      ]
    },
    {
      "cell_type": "code",
      "execution_count": null,
      "metadata": {
        "colab": {
          "base_uri": "https://localhost:8080/"
        },
        "id": "EBwRukuVf173",
        "outputId": "6f92d433-b2cd-44a1-d29e-d6f5fb21bc30"
      },
      "outputs": [
        {
          "output_type": "stream",
          "name": "stdout",
          "text": [
            "Coordinates 1: 3 4\n",
            "Coordinates 2: 3 4\n"
          ]
        }
      ],
      "source": [
        "class Coordinate(object):\n",
        "  \"\"\"A coordinate in 2D space\"\"\"\n",
        "  def __init__(self, x, y):\n",
        "    self.x = x\n",
        "    self.y = y\n",
        "\n",
        "  def get_x(self):\n",
        "    return self.x\n",
        "\n",
        "  def get_y(self):\n",
        "    return self.y\n",
        "\n",
        "  def __str__(self):\n",
        "    return \"<\" + str(self.get_x()) + \",\" + str(self.get_y()) + \">\"\n",
        "\n",
        "c1 = Coordinate(3,4)\n",
        "c2 = Coordinate(3,4)\n",
        "print(\"Coordinates 1:\",c1.get_x(),c1.get_y())\n",
        "print(\"Coordinates 2:\",c2.get_x(),c2.get_y())\n"
      ]
    },
    {
      "cell_type": "code",
      "source": [
        "#Adding Methods and Abstraction\n",
        "class Coordinate(object):\n",
        "  def __init__(self, x, y):\n",
        "    self.x = x\n",
        "    self.y = y\n",
        "\n",
        "  def distance(self, other):\n",
        "    x_diff_sq = (self.x-other.x)**2\n",
        "    y_diff_sq = (self.y-other.y)**2\n",
        "    return (x_diff_sq + y_diff_sq)**0.5\n",
        "\n",
        "c1 = Coordinate(3,4)\n",
        "c2 = Coordinate(0,0)\n",
        "print(\"Distance from c1 to c2:\", c1.distance(c2))"
      ],
      "metadata": {
        "colab": {
          "base_uri": "https://localhost:8080/"
        },
        "id": "Ndg6fOnCgkNV",
        "outputId": "8c883561-8fa9-4687-affa-107d42d33b0d"
      },
      "execution_count": null,
      "outputs": [
        {
          "output_type": "stream",
          "name": "stdout",
          "text": [
            "Distance from c1 to c2: 5.0\n"
          ]
        }
      ]
    },
    {
      "cell_type": "code",
      "source": [
        "#Building A vehicle class\n",
        "class Vehicle(object):\n",
        "  def __init__(self, wheels, occupants, color=\"black\"):\n",
        "    self.wheels = wheels\n",
        "    self.occupants = occupants\n",
        "    self.color = color\n",
        "    self.max_occupants = 5\n",
        "\n",
        "  def add_occupants(self, n):\n",
        "    if self.occupants + n > self.max_occupants:\n",
        "      raise ValueError(\"Exceeds max occupancy!\")\n",
        "    self.occupants += n\n",
        "    return self.occupants\n",
        "\n",
        "v1 = Vehicle(4,2,\"red\")\n",
        "v2 = Vehicle(2,1)\n",
        "\n",
        "print(v1.color)\n",
        "print(v2.color)\n",
        "print(\"Occupants after adding:\", v1.add_occupants(2))\n",
        "\n"
      ],
      "metadata": {
        "colab": {
          "base_uri": "https://localhost:8080/"
        },
        "id": "kQIC42oPhkvv",
        "outputId": "5a5ff6ea-db4a-4257-acf6-ad0e46383e51"
      },
      "execution_count": null,
      "outputs": [
        {
          "output_type": "stream",
          "name": "stdout",
          "text": [
            "red\n",
            "black\n",
            "Occupants after adding: 4\n"
          ]
        }
      ]
    },
    {
      "cell_type": "code",
      "source": [
        "#Inheritance\n",
        "class Animal(object):\n",
        "  def __init__(self, age):\n",
        "    self.age = age\n",
        "    self.name = None\n",
        "\n",
        "  def set_name(self, name):\n",
        "    self.name = name\n",
        "\n",
        "  def __str__(self):\n",
        "    return \"Animal: \" + str(self.name) + \" Age: \" + str(self.age)\n",
        "\n",
        "class Cat(Animal):\n",
        "  def speak(self):\n",
        "    return \"meow\"\n",
        "\n",
        "    def __str__(self):\n",
        "      return \"Cat: \" + str(self.name) + \" Age: \" + str(self.age)\n",
        "\n",
        "c = Cat(3)\n",
        "c.set_name(\"Fluffy\")\n",
        "print(c)\n",
        "print(c.speak())\n"
      ],
      "metadata": {
        "colab": {
          "base_uri": "https://localhost:8080/"
        },
        "id": "cXIV7BphkXwb",
        "outputId": "8c1a963e-1eb4-49d6-d73e-b01095413733"
      },
      "execution_count": null,
      "outputs": [
        {
          "output_type": "stream",
          "name": "stdout",
          "text": [
            "Animal: Fluffy Age: 3\n",
            "meow\n"
          ]
        }
      ]
    },
    {
      "cell_type": "code",
      "source": [
        "#Principles\n",
        "#S - Single Responsibility Principle(SRP):Each class does one thing.\n",
        "#O - Open/Closed Principle(OCP):Open to extension, closed to modification.\n",
        "#L - Liskov Substituition Principle(LSP):Subclass must work anywhere parent classes work.\n",
        "#I - Interface Segregation Principle(ISP):Don't force classes to do unnecessary things.\n",
        "#D - Dependency Inversion Principle(DIP):Depend on interfaces, not implementations."
      ],
      "metadata": {
        "id": "ABusZ_YbmFYC"
      },
      "execution_count": null,
      "outputs": []
    },
    {
      "cell_type": "code",
      "source": [
        "#SRP Demo\n",
        "class StudentScoreManager:\n",
        "  def __init__(self, student_name, scores):\n",
        "    self.scores = scores\n",
        "\n",
        "  def average_score(self):\n",
        "    return sum(self.scores) / len(self.scores)\n",
        "\n",
        "class GradeCalculator:\n",
        "  def calculate_grade(self, score):\n",
        "    if score >= 90:\n",
        "      return \"A\"\n",
        "    elif score >= 80:\n",
        "      return \"B\"\n",
        "    else:\n",
        "      return \"C\"\n",
        "\n",
        "class EmailSender:\n",
        "  def send_email(self, student_name, grade):\n",
        "    print(f\"Sending email to {student_name} with grade {grade}\")\n",
        "\n",
        "manager = StudentScoreManager(\"John\", [90, 85, 95])\n",
        "avg = manager.average_score()\n",
        "grade = GradeCalculator().calculate_grade(avg)\n",
        "EmailSender().send_email(\"parent@example.com\",f\"Grade is: {grade}\")"
      ],
      "metadata": {
        "colab": {
          "base_uri": "https://localhost:8080/"
        },
        "id": "91TRhqQ2o91V",
        "outputId": "1eb1a9e0-8835-4f4b-cecb-34a19605a499"
      },
      "execution_count": null,
      "outputs": [
        {
          "output_type": "stream",
          "name": "stdout",
          "text": [
            "Sending email to parent@example.com with grade Grade is: A\n"
          ]
        }
      ]
    },
    {
      "cell_type": "code",
      "source": [],
      "metadata": {
        "id": "EF79lc2Irkrr"
      },
      "execution_count": null,
      "outputs": []
    }
  ]
}