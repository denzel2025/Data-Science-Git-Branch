{
  "nbformat": 4,
  "nbformat_minor": 0,
  "metadata": {
    "colab": {
      "provenance": [],
      "authorship_tag": "ABX9TyNZPTAOOmQfbjARVv6+pnQ9",
      "include_colab_link": true
    },
    "kernelspec": {
      "name": "python3",
      "display_name": "Python 3"
    },
    "language_info": {
      "name": "python"
    }
  },
  "cells": [
    {
      "cell_type": "markdown",
      "metadata": {
        "id": "view-in-github",
        "colab_type": "text"
      },
      "source": [
        "<a href=\"https://colab.research.google.com/github/denzel2025/Data-Science-Git-Branch/blob/main/Aliasing_Cloning_and_lists_comprehension.ipynb\" target=\"_parent\"><img src=\"https://colab.research.google.com/assets/colab-badge.svg\" alt=\"Open In Colab\"/></a>"
      ]
    },
    {
      "cell_type": "code",
      "execution_count": null,
      "metadata": {
        "colab": {
          "base_uri": "https://localhost:8080/"
        },
        "id": "OnS_8b00u8FN",
        "outputId": "003fca1f-c099-4d58-f608-447b6f6b81e2"
      },
      "outputs": [
        {
          "output_type": "stream",
          "name": "stdout",
          "text": [
            "a: [1, 2, 3, 4]\n",
            "b: [1, 2, 3, 4]\n"
          ]
        }
      ],
      "source": [
        "#Aliasing - two variables point to the same object in memory.Changing one affects the other!\n",
        "\n",
        "a = [1,2,3]\n",
        "b = a\n",
        "b.append(4)\n",
        "print(\"a:\", a)\n",
        "print(\"b:\", b)"
      ]
    },
    {
      "cell_type": "code",
      "source": [
        "#Cloning - creating a new list with the same content but a different memory location.\n",
        "\n",
        "original = [\"banana\", \"apple\", \"mango\"]\n",
        "copy1 = original[:]\n",
        "copy2 = list(original)\n",
        "copy3 = original.copy()\n",
        "\n",
        "copy1.append(\"orange\")\n",
        "copy2.append(\"kiwi\")\n",
        "copy3.append(\"pineapple\")\n",
        "print(\"Original:\", original)\n",
        "print(\"Copy1:\", copy1)\n",
        "print(\"Copy2:\", copy2)\n",
        "print(\"Copy3:\", copy3)"
      ],
      "metadata": {
        "colab": {
          "base_uri": "https://localhost:8080/"
        },
        "id": "9KtYBwR-wNc5",
        "outputId": "8c7cf510-ff0f-4da4-edee-c725e2f77f2e"
      },
      "execution_count": null,
      "outputs": [
        {
          "output_type": "stream",
          "name": "stdout",
          "text": [
            "Original: ['banana', 'apple', 'mango']\n",
            "Copy1: ['banana', 'apple', 'mango', 'orange']\n",
            "Copy2: ['banana', 'apple', 'mango', 'kiwi']\n",
            "Copy3: ['banana', 'apple', 'mango', 'pineapple']\n"
          ]
        }
      ]
    },
    {
      "cell_type": "code",
      "source": [
        "#shallow copy -copies outer list,but not inner nested list.\n",
        "\n",
        "import copy\n",
        "L = [[1,2], [3,4], [5,6]]\n",
        "L_shallow = copy.copy(L)\n",
        "L[2][1] = 9\n",
        "print(\"Shallow copy:\", L_shallow)\n",
        "print(\"Original:\", L)"
      ],
      "metadata": {
        "colab": {
          "base_uri": "https://localhost:8080/"
        },
        "id": "Zie16E4NxeU3",
        "outputId": "9df0e098-ef77-4d2e-f6aa-b4a3465494c7"
      },
      "execution_count": null,
      "outputs": [
        {
          "output_type": "stream",
          "name": "stdout",
          "text": [
            "Shallow copy: [[1, 2], [3, 4], [5, 9]]\n",
            "Original: [[1, 2], [3, 4], [5, 9]]\n"
          ]
        }
      ]
    },
    {
      "cell_type": "code",
      "source": [
        "#Deep copy - copies everything including inner lists.\n",
        "\n",
        "L = [[1,2], [3,4]]\n",
        "L_deep = copy.deepcopy(L)\n",
        "L[0][1] = 9\n",
        "print(\"Deep copy:\", L_deep)\n",
        "print(\"Original:\", L)"
      ],
      "metadata": {
        "colab": {
          "base_uri": "https://localhost:8080/"
        },
        "id": "FIAPeMCW1jZZ",
        "outputId": "f88ce6da-c217-4155-a1c7-2741c22beae8"
      },
      "execution_count": null,
      "outputs": [
        {
          "output_type": "stream",
          "name": "stdout",
          "text": [
            "Deep copy: [[1, 2], [3, 4]]\n",
            "Original: [[1, 9], [3, 4]]\n"
          ]
        }
      ]
    },
    {
      "cell_type": "code",
      "source": [
        "#Deep copy - copies everything including inner lists.\n",
        "\n",
        "L = [[1,2], [3,4]]\n",
        "L_deep = copy.deepcopy(L)\n",
        "L[0][1] = 9\n",
        "print(\"Original:\", L)\n",
        "print(\"Deep copy:\", L_deep)\n"
      ],
      "metadata": {
        "colab": {
          "base_uri": "https://localhost:8080/"
        },
        "id": "4HbkmUTE2eXX",
        "outputId": "6964a60c-ff66-40d9-bc84-699d67278bb1"
      },
      "execution_count": null,
      "outputs": [
        {
          "output_type": "stream",
          "name": "stdout",
          "text": [
            "Original: [[1, 9], [3, 4]]\n",
            "Deep copy: [[1, 2], [3, 4]]\n"
          ]
        }
      ]
    },
    {
      "cell_type": "code",
      "source": [
        "#List Comprehensions - is a concise way to create lists using a single line\n",
        "\n",
        "squares = [x**2 for x in range(10)]\n",
        "print(squares)"
      ],
      "metadata": {
        "colab": {
          "base_uri": "https://localhost:8080/"
        },
        "id": "SxbysWH23vyw",
        "outputId": "b5273962-c46d-4a4e-84ab-77783d650570"
      },
      "execution_count": null,
      "outputs": [
        {
          "output_type": "stream",
          "name": "stdout",
          "text": [
            "[0, 1, 4, 9, 16, 25, 36, 49, 64, 81]\n"
          ]
        }
      ]
    },
    {
      "cell_type": "code",
      "source": [
        "# prompt: a list of even numbers from 0 to 10\n",
        "\n",
        "even_numbers = [x for x in range(11) if x % 2 == 0]\n",
        "print(even_numbers)\n"
      ],
      "metadata": {
        "colab": {
          "base_uri": "https://localhost:8080/"
        },
        "id": "g3V3ieQl8Hhk",
        "outputId": "0b09e2b2-ffeb-49d0-eebd-531e5e74af8f"
      },
      "execution_count": null,
      "outputs": [
        {
          "output_type": "stream",
          "name": "stdout",
          "text": [
            "[0, 2, 4, 6, 8, 10]\n"
          ]
        }
      ]
    },
    {
      "cell_type": "code",
      "source": [
        "odd_numbers = [x for x in range(11) if x % 2 != 0]\n",
        "print(odd_numbers)"
      ],
      "metadata": {
        "colab": {
          "base_uri": "https://localhost:8080/"
        },
        "id": "V2sEc_898jHu",
        "outputId": "983caea9-eba0-4700-ae1c-f5b28eb73622"
      },
      "execution_count": null,
      "outputs": [
        {
          "output_type": "stream",
          "name": "stdout",
          "text": [
            "[1, 3, 5, 7, 9]\n"
          ]
        }
      ]
    },
    {
      "cell_type": "code",
      "source": [
        "#Make a new list that contains only capitalized names from a  list of names\n",
        "\n",
        "names = [\"Alice\", \"bob\", \"Charlie\", \"david\", \"Eve\"]\n",
        "capitalized_names = [name for name in names if name.istitle()]\n",
        "capitalized_names"
      ],
      "metadata": {
        "colab": {
          "base_uri": "https://localhost:8080/"
        },
        "id": "KUFaKhaq7FJU",
        "outputId": "fda9a654-ca6d-42ab-ec85-0443cfb2f823"
      },
      "execution_count": null,
      "outputs": [
        {
          "output_type": "execute_result",
          "data": {
            "text/plain": [
              "['Alice', 'Charlie', 'Eve']"
            ]
          },
          "metadata": {},
          "execution_count": 22
        }
      ]
    },
    {
      "cell_type": "code",
      "source": [
        "names = ['alice', 'BOB', 'Charlie', 'DAVE', 'Eve']\n",
        "\n",
        "# Filter names that are fully capitalized\n",
        "fully_capitalized = [name for name in names if name.isupper()]\n",
        "\n",
        "print(fully_capitalized)\n"
      ],
      "metadata": {
        "colab": {
          "base_uri": "https://localhost:8080/"
        },
        "id": "iC6QjCa3Dr9s",
        "outputId": "3497efb2-02e2-4fed-ea53-9385726c890a"
      },
      "execution_count": null,
      "outputs": [
        {
          "output_type": "stream",
          "name": "stdout",
          "text": [
            "['BOB', 'DAVE']\n"
          ]
        }
      ]
    },
    {
      "cell_type": "code",
      "source": [
        "#Capitalizing the first letters,Editing\n",
        "names = [\"ali\", \"brian\", \"cynthia\"]\n",
        "capitalized = [name.capitalize() for name in names]\n",
        "print(capitalized)"
      ],
      "metadata": {
        "id": "-sAFKu6gFCqV",
        "colab": {
          "base_uri": "https://localhost:8080/"
        },
        "outputId": "fca4859f-eb3d-4bcc-dc91-6b1b8d50c95b"
      },
      "execution_count": 2,
      "outputs": [
        {
          "output_type": "stream",
          "name": "stdout",
          "text": [
            "['Ali', 'Brian', 'Cynthia']\n"
          ]
        }
      ]
    },
    {
      "cell_type": "code",
      "source": [
        "#Aliasing - same object, same changes\n",
        "#Cloning  - new object,safe changes\n",
        "#List Comprehension - clean,readable code for list creation"
      ],
      "metadata": {
        "id": "1Er-IT2-ttBe"
      },
      "execution_count": null,
      "outputs": []
    }
  ]
}