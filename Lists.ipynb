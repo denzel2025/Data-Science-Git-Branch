{
  "nbformat": 4,
  "nbformat_minor": 0,
  "metadata": {
    "colab": {
      "provenance": [],
      "authorship_tag": "ABX9TyNXJ5fYElLRxZOceHs+i5Bs",
      "include_colab_link": true
    },
    "kernelspec": {
      "name": "python3",
      "display_name": "Python 3"
    },
    "language_info": {
      "name": "python"
    }
  },
  "cells": [
    {
      "cell_type": "markdown",
      "metadata": {
        "id": "view-in-github",
        "colab_type": "text"
      },
      "source": [
        "<a href=\"https://colab.research.google.com/github/denzel2025/Data-Science-Git-Branch/blob/main/Lists.ipynb\" target=\"_parent\"><img src=\"https://colab.research.google.com/assets/colab-badge.svg\" alt=\"Open In Colab\"/></a>"
      ]
    },
    {
      "cell_type": "code",
      "execution_count": null,
      "metadata": {
        "colab": {
          "base_uri": "https://localhost:8080/"
        },
        "id": "xzr9u7p4Z58H",
        "outputId": "ed064cb5-dec1-44b4-cfc9-f0c5b84c80cc"
      },
      "outputs": [
        {
          "output_type": "stream",
          "name": "stdout",
          "text": [
            "Ali\n",
            "['Ali', 'Banana', 'Dennis', 'Pineapple']\n",
            "['Ali', 'Banana', 'Dennis', 'Pineapple', 'Watermelon']\n",
            "['Banana', 'Dennis', 'Pineapple', 'Watermelon']\n"
          ]
        }
      ],
      "source": [
        "students = [\"Ali\", \"Jane\", \"Dennis\", \"Akinyi\"]\n",
        "print(students[0])\n",
        "\n",
        "#2.replace\n",
        "students[1] = \"Banana\"\n",
        "students[3] = \"Pineapple\"\n",
        "print(students)\n",
        "\n",
        "#3.adding\n",
        "students.append(\"Watermelon\")\n",
        "print(students)\n",
        "\n",
        "#4.Removing\n",
        "students.remove(\"Ali\")\n",
        "print(students)"
      ]
    },
    {
      "cell_type": "code",
      "source": [
        "shopping = [\"eggs\", \"milk\", \"bread\"]\n",
        "print(shopping[2])\n",
        "shopping[2] = \"bananas\"\n",
        "print(shopping)"
      ],
      "metadata": {
        "colab": {
          "base_uri": "https://localhost:8080/"
        },
        "id": "JXS1fSNYamOF",
        "outputId": "c2414604-9dc5-43e9-bce7-85e0a5d96593"
      },
      "execution_count": null,
      "outputs": [
        {
          "output_type": "stream",
          "name": "stdout",
          "text": [
            "bread\n",
            "['eggs', 'milk', 'bananas']\n"
          ]
        }
      ]
    },
    {
      "cell_type": "code",
      "source": [
        "#Mutability:Changing lists\n",
        "#muatable - can be changed\n",
        "marks = [85, 90, 75]\n",
        "marks.append(95)\n",
        "print(marks)\n",
        "\n",
        "marks[0] = 88\n",
        "print(marks)"
      ],
      "metadata": {
        "colab": {
          "base_uri": "https://localhost:8080/"
        },
        "id": "Ug9vfbjMdJjs",
        "outputId": "2145ddbe-6a92-4fe0-bf80-3468457a0d50"
      },
      "execution_count": null,
      "outputs": [
        {
          "output_type": "stream",
          "name": "stdout",
          "text": [
            "[85, 90, 75, 95]\n",
            "[88, 90, 75, 95]\n"
          ]
        }
      ]
    },
    {
      "cell_type": "code",
      "source": [
        "#PROBLEM\n",
        "L = [1, 2, 3]\n",
        "L = L.append(4)\n",
        "print(L)\n",
        "\n",
        "#SOLUTION\n",
        "L = [1, 2, 3]\n",
        "L.append(4)\n",
        "print(L)\n",
        "\n",
        "#SOLUTION2\n",
        "L = [1, 2, 3]\n",
        "L = L + [4]\n",
        "print(L)\n",
        "\n",
        "#SOLUTION3\n",
        "L = [1, 2, 3]\n",
        "LR = L.append(4)\n",
        "print(L)"
      ],
      "metadata": {
        "colab": {
          "base_uri": "https://localhost:8080/"
        },
        "id": "4MJw8pI_d0w-",
        "outputId": "7c6116c1-d0a0-4d87-8a60-c51724d42dde"
      },
      "execution_count": null,
      "outputs": [
        {
          "output_type": "stream",
          "name": "stdout",
          "text": [
            "None\n",
            "[1, 2, 3, 4]\n",
            "[1, 2, 3, 4]\n",
            "[1, 2, 3, 4]\n"
          ]
        }
      ]
    },
    {
      "cell_type": "code",
      "source": [
        "#What will be the Output?\n",
        "\n",
        "scores = [65, 70, 85]\n",
        "bonus = scores\n",
        "bonus[0] = 100\n",
        "\n",
        "print(\"Scores:\", scores)\n",
        "print(\"Bonus:\", bonus)"
      ],
      "metadata": {
        "colab": {
          "base_uri": "https://localhost:8080/"
        },
        "id": "mgJNkbAQeIdY",
        "outputId": "b928a3f5-7253-48c6-9e0d-218481f2c624"
      },
      "execution_count": null,
      "outputs": [
        {
          "output_type": "stream",
          "name": "stdout",
          "text": [
            "Scores: [100, 70, 85]\n",
            "Bonus: [100, 70, 85]\n"
          ]
        }
      ]
    },
    {
      "cell_type": "code",
      "source": [
        "L1 = [5,6]\n",
        "L2 = L1\n",
        "L2.append(7)\n",
        "print(\"L1 =\", L1)\n",
        "print(\"L2 =\", L2)"
      ],
      "metadata": {
        "id": "2ADTq4mzheJg",
        "colab": {
          "base_uri": "https://localhost:8080/"
        },
        "outputId": "13b3a46d-b9e8-492d-9ab3-83b2adbfbe28"
      },
      "execution_count": 5,
      "outputs": [
        {
          "output_type": "stream",
          "name": "stdout",
          "text": [
            "L1 = [5, 6, 7]\n",
            "L2 = [5, 6, 7]\n"
          ]
        }
      ]
    },
    {
      "cell_type": "code",
      "source": [
        "original = [1,2,3]\n",
        "new = []\n",
        "for item in original:\n",
        "    new.append(item * 2)\n",
        "print(\"Original:\", original)\n",
        "print(\"New:\", new)"
      ],
      "metadata": {
        "colab": {
          "base_uri": "https://localhost:8080/"
        },
        "id": "nwIx7EaZk9dY",
        "outputId": "f0f561da-a50f-4919-c6e5-6987bfc6f3a4"
      },
      "execution_count": 6,
      "outputs": [
        {
          "output_type": "stream",
          "name": "stdout",
          "text": [
            "Original: [1, 2, 3]\n",
            "New: [2, 4, 6]\n"
          ]
        }
      ]
    },
    {
      "cell_type": "code",
      "source": [
        "Original = [1,2,3]\n",
        "Copy = Original[:]\n",
        "Copy.append(4)\n",
        "print(\"Original:\", Original)\n",
        "print(\"Copy:\", Copy)"
      ],
      "metadata": {
        "id": "5NomQxDyj8MR",
        "colab": {
          "base_uri": "https://localhost:8080/"
        },
        "outputId": "d33b5e6a-4aaa-4b3f-b62d-ed7c9c4da7f1"
      },
      "execution_count": 4,
      "outputs": [
        {
          "output_type": "stream",
          "name": "stdout",
          "text": [
            "Original: [1, 2, 3]\n",
            "Copy: [1, 2, 3, 4]\n"
          ]
        }
      ]
    },
    {
      "cell_type": "code",
      "source": [
        "#A function that takes a list and a number and returns a new list with that number removed\n",
        "\n",
        "def remove_number(L, num):\n",
        "  new_list = []\n",
        "  for item in L:\n",
        "    if item != num:\n",
        "      new_list.append(item)\n",
        "  return new_list\n",
        "\n",
        "print(remove_number([1,2,2,3,4],2))"
      ],
      "metadata": {
        "colab": {
          "base_uri": "https://localhost:8080/"
        },
        "id": "kKtqSDrXm4PS",
        "outputId": "e3e47c08-ab60-4b08-9c70-b023442c5370"
      },
      "execution_count": 13,
      "outputs": [
        {
          "output_type": "stream",
          "name": "stdout",
          "text": [
            "[1, 3, 4]\n"
          ]
        }
      ]
    },
    {
      "cell_type": "code",
      "source": [
        "L = [1,2,3]\n",
        "T = []\n",
        "for item in L:\n",
        "  T.append(item + 1)\n",
        "print(T)"
      ],
      "metadata": {
        "colab": {
          "base_uri": "https://localhost:8080/"
        },
        "id": "2Iqfg1ntncUg",
        "outputId": "da7a580b-a3cf-4f1a-e9f9-bd56752dd330"
      },
      "execution_count": 15,
      "outputs": [
        {
          "output_type": "stream",
          "name": "stdout",
          "text": [
            "[2, 3, 4]\n"
          ]
        }
      ]
    },
    {
      "cell_type": "code",
      "source": [
        "#You have a list of student scores.You want to:\n",
        "\n",
        "#1.add bonus marks\n",
        "#2.remove anyone who gets below 40\n",
        "#3.count how many passed\n",
        "scores = [39, 50, 75, 30, 90]\n",
        "\n",
        "def add_bonus(L):\n",
        "  for i in range(len(L)):\n",
        "    L[i] += 5\n",
        "  return L\n",
        "\n",
        "def filter_pass(L):\n",
        "  return [mark for mark in L if mark >= 40]\n",
        "\n",
        "scores = add_bonus(scores)\n",
        "scores = filter_pass(scores)\n",
        "print(\"Final scores:\", scores)\n"
      ],
      "metadata": {
        "colab": {
          "base_uri": "https://localhost:8080/"
        },
        "id": "H_lYQnBQruWp",
        "outputId": "2209db0f-4f60-47de-ec95-1279aa4e911e"
      },
      "execution_count": 17,
      "outputs": [
        {
          "output_type": "stream",
          "name": "stdout",
          "text": [
            "Final scores: [44, 55, 80, 95]\n"
          ]
        }
      ]
    },
    {
      "cell_type": "code",
      "source": [],
      "metadata": {
        "id": "ZLCcTR8Ot-Nn"
      },
      "execution_count": null,
      "outputs": []
    }
  ]
}