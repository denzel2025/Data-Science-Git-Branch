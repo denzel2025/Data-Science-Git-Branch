{
  "nbformat": 4,
  "nbformat_minor": 0,
  "metadata": {
    "colab": {
      "provenance": [],
      "authorship_tag": "ABX9TyO2FnEInbZVUz/9AdM6iS6z",
      "include_colab_link": true
    },
    "kernelspec": {
      "name": "python3",
      "display_name": "Python 3"
    },
    "language_info": {
      "name": "python"
    }
  },
  "cells": [
    {
      "cell_type": "markdown",
      "metadata": {
        "id": "view-in-github",
        "colab_type": "text"
      },
      "source": [
        "<a href=\"https://colab.research.google.com/github/denzel2025/Data-Science-Git-Branch/blob/main/Untitled2.ipynb\" target=\"_parent\"><img src=\"https://colab.research.google.com/assets/colab-badge.svg\" alt=\"Open In Colab\"/></a>"
      ]
    },
    {
      "cell_type": "code",
      "execution_count": 18,
      "metadata": {
        "id": "IRcVj6OPXf6d"
      },
      "outputs": [],
      "source": [
        "# Code style-guidelines and conventions that keep code clear, consistent and easy to understand.\n",
        "# Key concepts:\n",
        "# Consistent Formatting - use uniform indentation, spacing, and line breaks."
      ]
    },
    {
      "cell_type": "code",
      "source": [
        "#Calculate the area and perimeter of a rectangle\n",
        "length = int(input(\"Enter the length of the rectangle: \"))\n",
        "width = int(input(\"Enter the width of the rectangle: \"))\n",
        "area = length * width\n",
        "perimeter = 2 * (length + width)\n",
        "print(\"The area of the rectangle is:\", area)\n",
        "print(\"The perimeter of the rectangle is:\", perimeter)"
      ],
      "metadata": {
        "id": "DQIT_QanYmjs",
        "colab": {
          "base_uri": "https://localhost:8080/"
        },
        "outputId": "aea52bdb-49ab-4244-f60d-b70e31320f80"
      },
      "execution_count": 2,
      "outputs": [
        {
          "output_type": "stream",
          "name": "stdout",
          "text": [
            "Enter the length of the rectangle: 20\n",
            "Enter the width of the rectangle: 38\n",
            "The area of the rectangle is: 760\n",
            "The perimeter of the rectangle is: 116\n"
          ]
        }
      ]
    },
    {
      "cell_type": "code",
      "source": [
        "#Messy code\n",
        "\n",
        "#messy version\n",
        "l = 5.0; w=3.2\n",
        "a=l*w\n",
        "p=2*(l+w)\n",
        "print(a, p)\n"
      ],
      "metadata": {
        "colab": {
          "base_uri": "https://localhost:8080/"
        },
        "id": "w83kiEjacdmG",
        "outputId": "977bc60c-1e56-4bd2-b895-82968dd653f7"
      },
      "execution_count": 3,
      "outputs": [
        {
          "output_type": "stream",
          "name": "stdout",
          "text": [
            "16.0 16.4\n"
          ]
        }
      ]
    },
    {
      "cell_type": "code",
      "source": [
        "#Avearge Calculation\n",
        "#Buggy function to compute the average of three numbers\n",
        "def average(a, b, c):\n",
        "  #BUG: Due to operator precedence, unly c is divisible by 3\n",
        "  avg = a + b + c / 3\n",
        "  return avg\n",
        "\n",
        "  #Expected output for average(3, 6, 9) should be 6.0 but the bug causes a miscalculation\n",
        "  print(\"Buggy Average:\", average (3, 6, 9))"
      ],
      "metadata": {
        "id": "_t1Sv1TcirGK"
      },
      "execution_count": 5,
      "outputs": []
    },
    {
      "cell_type": "code",
      "source": [
        "#Buggy code trying to concatenate different types\n",
        "num = 5\n",
        "#This will cause a TypeError because num is an integer\n",
        "print(\"The number is \", + num)\n",
        "print(\"The number is \" + str(num))"
      ],
      "metadata": {
        "colab": {
          "base_uri": "https://localhost:8080/"
        },
        "id": "VwLcSg0cnReN",
        "outputId": "214f0163-d8cb-41ba-a3f8-3808c0ac047f"
      },
      "execution_count": 11,
      "outputs": [
        {
          "output_type": "stream",
          "name": "stdout",
          "text": [
            "The number is  5\n",
            "The number is 5\n"
          ]
        }
      ]
    },
    {
      "cell_type": "code",
      "source": [
        "#Cod with multiple steps and an error in the final calculation\n",
        "a = 10\n",
        "b = 5\n",
        "total = a + b\n",
        "product = a * b\n",
        "#Intentional mistake: subtracting instead of adding\n",
        "result = product + total\n",
        "print(\"Product:\", product)\n",
        "print(\"Total:\", total)\n",
        "print(\"Result:\", result)"
      ],
      "metadata": {
        "colab": {
          "base_uri": "https://localhost:8080/"
        },
        "id": "8LaH1KbHn8Y_",
        "outputId": "920ddb1a-115f-469f-b450-7f09abfdbeb6"
      },
      "execution_count": 16,
      "outputs": [
        {
          "output_type": "stream",
          "name": "stdout",
          "text": [
            "Product: 50\n",
            "Total: 15\n",
            "Result: 65\n"
          ]
        }
      ]
    },
    {
      "cell_type": "code",
      "source": [],
      "metadata": {
        "id": "NcE_5Plhr-ez"
      },
      "execution_count": null,
      "outputs": []
    }
  ]
}