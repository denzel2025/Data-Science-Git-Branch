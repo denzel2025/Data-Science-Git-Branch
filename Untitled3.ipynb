{
  "nbformat": 4,
  "nbformat_minor": 0,
  "metadata": {
    "colab": {
      "provenance": [],
      "authorship_tag": "ABX9TyNxRbHtizC9fcanBnJPZknc",
      "include_colab_link": true
    },
    "kernelspec": {
      "name": "python3",
      "display_name": "Python 3"
    },
    "language_info": {
      "name": "python"
    }
  },
  "cells": [
    {
      "cell_type": "markdown",
      "metadata": {
        "id": "view-in-github",
        "colab_type": "text"
      },
      "source": [
        "<a href=\"https://colab.research.google.com/github/denzel2025/Data-Science-Git-Branch/blob/main/Untitled3.ipynb\" target=\"_parent\"><img src=\"https://colab.research.google.com/assets/colab-badge.svg\" alt=\"Open In Colab\"/></a>"
      ]
    },
    {
      "cell_type": "code",
      "execution_count": 17,
      "metadata": {
        "colab": {
          "base_uri": "https://localhost:8080/"
        },
        "id": "HO8tlUWW_XLL",
        "outputId": "a7156ffd-e332-4554-c010-6fbfc07da5bf"
      },
      "outputs": [
        {
          "output_type": "stream",
          "name": "stdout",
          "text": [
            "Division result: 5.0\n"
          ]
        }
      ],
      "source": [
        "#Runtime errors\n",
        "def divide(a, b):\n",
        "  try:\n",
        "       return a / b\n",
        "  except:\n",
        "    print(\"invalid operation\")\n",
        "\n",
        "print(\"Division result:\", divide(10, 2))"
      ]
    },
    {
      "cell_type": "code",
      "source": [
        "#logic errors\n",
        "#Buggy function due to operator precedence error\n",
        "def average(a, b, c):\n",
        "  avg = a + b + c /3 #Bug: only c is divided by 3\n",
        "  return avg\n",
        "print (\"Buggy average:\", average(a=3, b=6, c=9))\n"
      ],
      "metadata": {
        "colab": {
          "base_uri": "https://localhost:8080/"
        },
        "id": "00k8_BrOAJwq",
        "outputId": "ac4bfff0-0fa7-4025-c7f1-b7fab675f668"
      },
      "execution_count": 16,
      "outputs": [
        {
          "output_type": "stream",
          "name": "stdout",
          "text": [
            "Buggy average: 12.0\n"
          ]
        }
      ]
    },
    {
      "cell_type": "code",
      "source": [
        "#solution\n",
        "def average(a, b, c):\n",
        "  avg = (a + b + c )/3\n",
        "  return avg\n",
        "print (\"Average:\", average(a=3, b=6, c=9))\n"
      ],
      "metadata": {
        "colab": {
          "base_uri": "https://localhost:8080/"
        },
        "id": "h-KjsPsoBape",
        "outputId": "3472c1bf-28ba-4d0a-f69f-38daa8328e6c"
      },
      "execution_count": 5,
      "outputs": [
        {
          "output_type": "stream",
          "name": "stdout",
          "text": [
            "Average: 6.0\n"
          ]
        }
      ]
    },
    {
      "cell_type": "code",
      "source": [
        "#solution\n",
        "x = 1\n",
        "y = 2\n",
        "\n",
        "temp=x\n",
        "x = y\n",
        "y=temp\n",
        "print(x,y)"
      ],
      "metadata": {
        "colab": {
          "base_uri": "https://localhost:8080/"
        },
        "id": "TcJ1Fkn8Dxzy",
        "outputId": "b4df5539-f14a-405b-859a-23482238e347"
      },
      "execution_count": 9,
      "outputs": [
        {
          "output_type": "stream",
          "name": "stdout",
          "text": [
            "2 1\n"
          ]
        }
      ]
    },
    {
      "cell_type": "code",
      "source": [
        "#Advanced debugging techniques\n",
        "#Using Print Statements:\n",
        "a = 10\n",
        "b = 5\n",
        "print(\"Debug: a =\", a, \"b =\", b)\n",
        "total = a + b\n",
        "print(\"Debug: total =\", total)"
      ],
      "metadata": {
        "colab": {
          "base_uri": "https://localhost:8080/"
        },
        "id": "wp7WVZT4HMqD",
        "outputId": "b6913686-921b-4019-e273-c945078483a6"
      },
      "execution_count": 10,
      "outputs": [
        {
          "output_type": "stream",
          "name": "stdout",
          "text": [
            "Debug: a = 10 b = 5\n",
            "Debug: total = 15\n"
          ]
        }
      ]
    },
    {
      "cell_type": "code",
      "source": [
        "#Assert statements & Logging:\n",
        "def divide(a, b):\n",
        "  assert b != 0, \"Division by zero is not allowed\"\n",
        "  return a / b\n",
        "\n",
        "print(\"Division result:\", divide(10, 2))"
      ],
      "metadata": {
        "colab": {
          "base_uri": "https://localhost:8080/"
        },
        "id": "wbHHDVo_LXC-",
        "outputId": "6c9ee179-32f6-47b8-c8aa-7a2986386658"
      },
      "execution_count": 11,
      "outputs": [
        {
          "output_type": "stream",
          "name": "stdout",
          "text": [
            "Division result: 5.0\n"
          ]
        }
      ]
    },
    {
      "cell_type": "code",
      "source": [
        "#Buggy Version: Incorrect perimeter Calculation\n",
        "length = 8.0\n",
        "width = 3.0\n",
        "area = length * width\n",
        "#Bug: Wrong perimeter calculation - only one width is added\n",
        "perimeter = (length * 2) + width\n",
        "print(\"Area:\", area)\n",
        "print(\"Perimeter (buggy):\", perimeter)\n"
      ],
      "metadata": {
        "colab": {
          "base_uri": "https://localhost:8080/"
        },
        "id": "3rUUujYFMjm_",
        "outputId": "5d1a88d6-0830-4713-9992-53a94f448c4a"
      },
      "execution_count": 12,
      "outputs": [
        {
          "output_type": "stream",
          "name": "stdout",
          "text": [
            "Area: 24.0\n",
            "Perimeter (buggy): 19.0\n"
          ]
        }
      ]
    },
    {
      "cell_type": "code",
      "source": [
        "#solution\n",
        "length = 8.0\n",
        "width = 3.0\n",
        "area = length * width\n",
        "perimeter = (length * 2) + (width * 2)\n",
        "print(\"Area:\", area)\n",
        "print(\"Perimeter:\", perimeter)\n"
      ],
      "metadata": {
        "colab": {
          "base_uri": "https://localhost:8080/"
        },
        "id": "WJUz_f4AOAjx",
        "outputId": "d0dd0ba3-bf0b-44fe-81d3-edd5252caaa1"
      },
      "execution_count": 13,
      "outputs": [
        {
          "output_type": "stream",
          "name": "stdout",
          "text": [
            "Area: 24.0\n",
            "Perimeter: 22.0\n"
          ]
        }
      ]
    },
    {
      "cell_type": "code",
      "source": [
        "#solution2\n",
        "length = 8.0\n",
        "width = 3.0\n",
        "area = length * width\n",
        "perimeter = 2 * (length + width)\n",
        "print(\"Area:\", area)\n",
        "print(\"Perimeter:\", perimeter)"
      ],
      "metadata": {
        "colab": {
          "base_uri": "https://localhost:8080/"
        },
        "id": "0ySOv1MZOZFQ",
        "outputId": "30d16f58-c2b6-4b2f-fb90-5320570e6ada"
      },
      "execution_count": 15,
      "outputs": [
        {
          "output_type": "stream",
          "name": "stdout",
          "text": [
            "Area: 24.0\n",
            "Perimeter: 22.0\n"
          ]
        }
      ]
    },
    {
      "cell_type": "code",
      "source": [],
      "metadata": {
        "id": "wZiVSjNGOu8z"
      },
      "execution_count": null,
      "outputs": []
    }
  ]
}