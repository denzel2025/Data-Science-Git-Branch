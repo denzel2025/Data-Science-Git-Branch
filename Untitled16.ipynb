{
  "nbformat": 4,
  "nbformat_minor": 0,
  "metadata": {
    "colab": {
      "provenance": [],
      "authorship_tag": "ABX9TyPBNGwKL8m0ndQOjStDX0Ix",
      "include_colab_link": true
    },
    "kernelspec": {
      "name": "python3",
      "display_name": "Python 3"
    },
    "language_info": {
      "name": "python"
    }
  },
  "cells": [
    {
      "cell_type": "markdown",
      "metadata": {
        "id": "view-in-github",
        "colab_type": "text"
      },
      "source": [
        "<a href=\"https://colab.research.google.com/github/denzel2025/Data-Science-Git-Branch/blob/main/Untitled16.ipynb\" target=\"_parent\"><img src=\"https://colab.research.google.com/assets/colab-badge.svg\" alt=\"Open In Colab\"/></a>"
      ]
    },
    {
      "cell_type": "code",
      "execution_count": 1,
      "metadata": {
        "colab": {
          "base_uri": "https://localhost:8080/"
        },
        "id": "wtbbWAMaXKMM",
        "outputId": "087d90ac-2626-4f7a-a20f-71447ebd212a"
      },
      "outputs": [
        {
          "output_type": "stream",
          "name": "stdout",
          "text": [
            "False\n"
          ]
        }
      ],
      "source": [
        "print(0.1+0.2 == 0.3)"
      ]
    },
    {
      "cell_type": "code",
      "source": [
        "#Problem: Comparing two floating-point results\n",
        "a = 0.1 + 0.2\n",
        "b = 0.3\n",
        "\n",
        "print(\"a:\", a)\n",
        "print(\"b:\", b)\n",
        "\n",
        "#Incorrect approach: Using ==\n",
        "print(\"Using == :\", a==b) #This will likely be false due to precision error\n",
        "\n",
        "#Correct approach: Use abs(a - b) < small number (tolerance)\n",
        "tolerance = 1e-9\n",
        "print(\"Using abs(a - b) < 1e-9 :\", abs(a - b) < tolerance)"
      ],
      "metadata": {
        "colab": {
          "base_uri": "https://localhost:8080/"
        },
        "id": "zO3LLFlAZDMI",
        "outputId": "9d136602-694d-4479-d06b-215c7b2b8b98"
      },
      "execution_count": 3,
      "outputs": [
        {
          "output_type": "stream",
          "name": "stdout",
          "text": [
            "a: 0.30000000000000004\n",
            "b: 0.3\n",
            "Using == : False\n",
            "Using abs(a - b) < 1e-9 : True\n"
          ]
        }
      ]
    },
    {
      "cell_type": "code",
      "source": [
        "#Example 1:Comparing Prices in a shopping app\n",
        "\n",
        "def are_prices_equal(user_total, system_total, tolerance=1e-9):\n",
        "    return abs(user_total - system_total) < tolerance\n",
        "\n",
        "# Example usage:\n",
        "user_total = 0.1 + 0.2   # Simulated user input\n",
        "system_total = 0.3       # Backend expected total\n",
        "\n",
        "if are_prices_equal(user_total, system_total):\n",
        "    print(\"totals match.\")\n",
        "else:\n",
        "    print(\"totals do not match.\")"
      ],
      "metadata": {
        "colab": {
          "base_uri": "https://localhost:8080/"
        },
        "id": "wUXrT83eb4nk",
        "outputId": "5f68248b-e783-4e9c-877e-81f8c7946ed3"
      },
      "execution_count": 5,
      "outputs": [
        {
          "output_type": "stream",
          "name": "stdout",
          "text": [
            "totals match.\n"
          ]
        }
      ]
    },
    {
      "cell_type": "code",
      "source": [
        "def are_coordinates_equal(coord1, coord2, tolerance=1e-6):\n",
        "    return abs(coord1 - coord2) < tolerance\n",
        "\n",
        "#Example usage:\n",
        "#Latitude comparison\n",
        "user_lat = 37.774929\n",
        "saved_lat = 37.774930\n",
        "\n",
        "if are_coordinates_equal(user_lat, saved_lat):\n",
        "    print(\"Locations match (within tolerance).\")\n",
        "else:\n",
        "    print(\"Locations are different.\")"
      ],
      "metadata": {
        "colab": {
          "base_uri": "https://localhost:8080/"
        },
        "id": "LyC9-kKteS-J",
        "outputId": "ffd5aaf9-46d3-4960-c926-c0a01d82db5e"
      },
      "execution_count": 11,
      "outputs": [
        {
          "output_type": "stream",
          "name": "stdout",
          "text": [
            "Locations match (within tolerance).\n"
          ]
        }
      ]
    },
    {
      "cell_type": "code",
      "source": [
        "x = 12345\n",
        "epilson = 0.01\n",
        "increment = 0.0001\n",
        "guess = 0.0\n",
        "num_guesses = 0\n",
        "\n",
        "while abs(guess**2-x) >= epilson:\n",
        "    guess += increment\n",
        "    num_guesses += 1\n",
        "print(guess, \"= **\", x, \"after\", num_guesses, \"guesses\")"
      ],
      "metadata": {
        "colab": {
          "base_uri": "https://localhost:8080/"
        },
        "id": "9d-krvMxffHo",
        "outputId": "3ddde2ef-2d58-474e-b411-58eb9e458f52"
      },
      "execution_count": 15,
      "outputs": [
        {
          "output_type": "stream",
          "name": "stdout",
          "text": [
            "111.10810000256487 = ** 12345 after 1111081 guesses\n"
          ]
        }
      ]
    },
    {
      "cell_type": "code",
      "source": [
        "#code example (incremental )\n",
        "x=12345\n",
        "epilson=0.01\n",
        "increment=0.0001\n",
        "guess=0.0\n",
        "num_guesses=0\n",
        "while abs(guess**2-x)>=epilson:\n",
        "    guess+=increment\n",
        "    num_guesses+=1\n",
        "print(f\"num_guess:{num_guesses}\")\n",
        "print(f\"final guess:{guess}\")"
      ],
      "metadata": {
        "colab": {
          "base_uri": "https://localhost:8080/"
        },
        "id": "hWu32veFjUhs",
        "outputId": "2892e780-d88b-4a0c-df2c-18dffa935753"
      },
      "execution_count": 22,
      "outputs": [
        {
          "output_type": "stream",
          "name": "stdout",
          "text": [
            "num_guess:1111081\n",
            "final guess:111.10810000256487\n"
          ]
        }
      ]
    },
    {
      "cell_type": "code",
      "source": [
        "#Demonstration: Floating-poin surprises\n",
        "print(\"0.1 + 0.2 =\",0.1 + 0.2)\n",
        "print(\"Is 0.1 + 0.2 == 0.3 ?\", (0.1 + 0.2) == 0.3)\n",
        "#Check a binary-friendly fraction:\n",
        "x = 0.0\n",
        "for i in range(10):\n",
        "  x += 0.125\n",
        "print(\"\\nSum of ten 0.125s:\", x)\n",
        "print(\"Does 10 * 0.125 == 1.25?\"), 10 * 0.125 == 1.25"
      ],
      "metadata": {
        "colab": {
          "base_uri": "https://localhost:8080/"
        },
        "id": "U6p6AzpumMvl",
        "outputId": "c6cb3372-e881-4f47-b63f-d8c301b254c3"
      },
      "execution_count": 25,
      "outputs": [
        {
          "output_type": "stream",
          "name": "stdout",
          "text": [
            "0.1 + 0.2 = 0.30000000000000004\n",
            "Is 0.1 + 0.2 == 0.3 ? False\n",
            "\n",
            "Sum of ten 0.125s: 1.25\n",
            "Does 10 * 0.125 == 1.25?\n"
          ]
        },
        {
          "output_type": "execute_result",
          "data": {
            "text/plain": [
              "(None, True)"
            ]
          },
          "metadata": {},
          "execution_count": 25
        }
      ]
    },
    {
      "cell_type": "code",
      "source": [
        "print(0.2+0.2+0.2+0.2+0.2)"
      ],
      "metadata": {
        "colab": {
          "base_uri": "https://localhost:8080/"
        },
        "id": "KRbkHTUool72",
        "outputId": "54ba1d70-8247-4aa1-dbed-a9c8766c3f9c"
      },
      "execution_count": 26,
      "outputs": [
        {
          "output_type": "stream",
          "name": "stdout",
          "text": [
            "1.0\n"
          ]
        }
      ]
    },
    {
      "cell_type": "code",
      "source": [
        "#Checking 0.2 five times\n",
        "y = 0.0\n",
        "for _ in range(5):\n",
        "  y += 0.2\n",
        "print(\"0.2 * 5 =\", y , \"|Equal to 1.0|\",y == 1.0)"
      ],
      "metadata": {
        "colab": {
          "base_uri": "https://localhost:8080/"
        },
        "id": "1e6FNDXppb9t",
        "outputId": "33523143-7f0b-4c7c-e504-b9329a7bef09"
      },
      "execution_count": 27,
      "outputs": [
        {
          "output_type": "stream",
          "name": "stdout",
          "text": [
            "0.2 * 5 = 1.0 |Equal to 1.0| True\n"
          ]
        }
      ]
    },
    {
      "cell_type": "code",
      "source": [],
      "metadata": {
        "id": "JpMSHqMAqle5"
      },
      "execution_count": null,
      "outputs": []
    }
  ]
}