{
  "nbformat": 4,
  "nbformat_minor": 0,
  "metadata": {
    "colab": {
      "provenance": [],
      "authorship_tag": "ABX9TyPNdGiu+nWvPCMw0aFkZEqm",
      "include_colab_link": true
    },
    "kernelspec": {
      "name": "python3",
      "display_name": "Python 3"
    },
    "language_info": {
      "name": "python"
    }
  },
  "cells": [
    {
      "cell_type": "markdown",
      "metadata": {
        "id": "view-in-github",
        "colab_type": "text"
      },
      "source": [
        "<a href=\"https://colab.research.google.com/github/denzel2025/Data-Science-Git-Branch/blob/main/More_python_class_methods.ipynb\" target=\"_parent\"><img src=\"https://colab.research.google.com/assets/colab-badge.svg\" alt=\"Open In Colab\"/></a>"
      ]
    },
    {
      "cell_type": "code",
      "execution_count": null,
      "metadata": {
        "id": "N4hp5mqjTA5m"
      },
      "outputs": [],
      "source": [
        "#Implementing vs using the class\n",
        "#Implementing - define the class\n",
        "              #-define data attributes(WHAT is the object)\n",
        "              #-define methods(HOW TO use the object)\n",
        "#Using - create instances of the object type\n",
        "       #- do operations with them"
      ]
    },
    {
      "cell_type": "code",
      "metadata": {
        "id": "885c7ac2"
      },
      "source": [
        "class Coordinate(object):\n",
        "    def __init__(self, x, y):\n",
        "        self.x = x\n",
        "        self.y = y\n",
        "    def distance(self, other):\n",
        "        x_diff_sq = (self.x - other.x)**2\n",
        "        y_diff_sq = (self.y - other.y)**2\n",
        "        return (x_diff_sq + y_diff_sq)**0.5"
      ],
      "execution_count": null,
      "outputs": []
    },
    {
      "cell_type": "code",
      "source": [
        "#Using Classes To build other Classes\n",
        "class intSet(object):\n",
        "    \"\"\"An intSet is a set of integers\n",
        "    The value is represented by a list of ints, self.vals.\n",
        "    Each int in the set occurs in self.vals exactly once.\"\"\"\n",
        "    def __init__(self):\n",
        "        \"\"\"Create an empty set of integers\"\"\"\n",
        "        self.vals = []\n",
        "\n",
        "    def insert(self, e):\n",
        "        \"\"\"Assumes e is an integer and inserts e into self\"\"\"\n",
        "        if not e in self.vals:\n",
        "            self.vals.append(e)\n",
        "\n",
        "    def member(self, e):\n",
        "        \"\"\"Assumes e is an integer\n",
        "        Returns True if e is in self, and False otherwise\"\"\"\n",
        "        return e in self.vals\n",
        "\n",
        "    def remove(self, e):\n",
        "        \"\"\"Assumes e is an integer and removes e from self\n",
        "        Raises ValueError if e is not in self\"\"\"\n",
        "        try:\n",
        "            self.vals.remove(e)\n",
        "        except:\n",
        "            raise ValueError(str(e) + \" not found in intSet\")\n",
        "\n",
        "    def __str__(self):\n",
        "        \"\"\"Returns a string representation of self\"\"\"\n",
        "        self.vals.sort()\n",
        "        result = ''\n",
        "        for e in self.vals:\n",
        "            result = result + str(e) + ','\n",
        "        return '{' + result[:-1] + '}'"
      ],
      "metadata": {
        "id": "4rTcWW_mdMNQ"
      },
      "execution_count": null,
      "outputs": []
    },
    {
      "cell_type": "code",
      "metadata": {
        "colab": {
          "base_uri": "https://localhost:8080/"
        },
        "id": "b03bc476",
        "outputId": "5a53a0eb-e37a-4c67-df26-a22b45c5ae7e"
      },
      "source": [
        "# Create an instance of intSet\n",
        "my_set = intSet()\n",
        "\n",
        "# Insert some values\n",
        "my_set.insert(10)\n",
        "my_set.insert(20)\n",
        "my_set.insert(10) # Inserting a duplicate to show it's ignored\n",
        "my_set.insert(5)\n",
        "\n",
        "# Print the set\n",
        "print(my_set)"
      ],
      "execution_count": null,
      "outputs": [
        {
          "output_type": "stream",
          "name": "stdout",
          "text": [
            "{5,10,20}\n"
          ]
        }
      ]
    },
    {
      "cell_type": "code",
      "source": [
        "class Circle(object):\n",
        "  def __init__(self, center, radius):\n",
        "    self.center = center\n",
        "    self.radius = radius\n",
        "  def is_inside(self, point):\n",
        "       \"\"\" Returns True if the circle is inside the point \"\"\"\n",
        "       return point.distance(self.center) < self.radius\n",
        "\n",
        "center = Coordinate(2, 2)\n",
        "my_circle = Circle(center, 2)\n",
        "p = Coordinate(1, 1)\n",
        "print(my_circle.is_inside(p))"
      ],
      "metadata": {
        "colab": {
          "base_uri": "https://localhost:8080/"
        },
        "id": "HgCPEnmqgHwi",
        "outputId": "eb6b86f7-2c2b-4297-abc4-b02cfa196625"
      },
      "execution_count": null,
      "outputs": [
        {
          "output_type": "stream",
          "name": "stdout",
          "text": [
            "True\n"
          ]
        }
      ]
    },
    {
      "cell_type": "code",
      "source": [
        "class Circle(object):\n",
        "  def __init__(self, center, radius):\n",
        "    self.center = center\n",
        "    self.radius = radius\n",
        "  def is_inside(self, point):\n",
        "       \"\"\" Returns True if the circle is inside the point \"\"\"\n",
        "       return self.center.distance(point) < self.radius\n",
        "\n",
        "center = Coordinate(2, 2)\n",
        "my_circle = Circle(center, 2)\n",
        "p = Coordinate(1, 1)\n",
        "print(my_circle.is_inside(p))\n"
      ],
      "metadata": {
        "colab": {
          "base_uri": "https://localhost:8080/"
        },
        "id": "VEauH-dJhRY4",
        "outputId": "da9a98fa-5abd-40be-fd44-5ad0a10046b9"
      },
      "execution_count": null,
      "outputs": [
        {
          "output_type": "stream",
          "name": "stdout",
          "text": [
            "True\n"
          ]
        }
      ]
    },
    {
      "cell_type": "code",
      "source": [
        "#Fractions:\n",
        "class SimpleFraction(object):\n",
        "  def __init__(self, n, d):\n",
        "    self.num = n\n",
        "    self.denom = d\n",
        "  def times(self, other):\n",
        "    return SimpleFraction(self.num * other.num, self.denom * other.denom)\n",
        "  def __str__(self):\n",
        "    return str(self.num) + \"/\" + str(self.denom)"
      ],
      "metadata": {
        "id": "udtavSqih_jv"
      },
      "execution_count": null,
      "outputs": []
    },
    {
      "cell_type": "code",
      "metadata": {
        "colab": {
          "base_uri": "https://localhost:8080/"
        },
        "id": "3616b4ae",
        "outputId": "a69caf37-f6d4-44ac-e9e6-5bcca73e3581"
      },
      "source": [
        "# Create instances of SimpleFraction\n",
        "fraction1 = SimpleFraction(1, 2)\n",
        "fraction2 = SimpleFraction(3, 4)\n",
        "\n",
        "# Multiply the fractions\n",
        "result_fraction = fraction1.times(fraction2)\n",
        "\n",
        "# Print the result\n",
        "print(result_fraction)"
      ],
      "execution_count": null,
      "outputs": [
        {
          "output_type": "stream",
          "name": "stdout",
          "text": [
            "3/8\n"
          ]
        }
      ]
    },
    {
      "cell_type": "code",
      "source": [
        "#ADD Fractions\n",
        "\n",
        "class SimpleFraction(object):\n",
        "  def __init__(self, n, d):\n",
        "    self.num = n\n",
        "    self.denom = d\n",
        "  def plus(self, other):\n",
        "    new_num = self.num * other.denom + self.denom * other.num\n",
        "    new_denom = self.denom * other.denom\n",
        "    return SimpleFraction(new_num, new_denom)\n",
        "  def __str__(self):\n",
        "    \"\"\"Returns a string representation of self\"\"\"\n",
        "    return str(self.num) + \"/\" + str(self.denom)\n",
        "\n",
        "f1 = SimpleFraction(3, 4)\n",
        "f2 = SimpleFraction(1, 4)\n",
        "print(f1.num)\n",
        "print(f1.denom)\n",
        "print(f2.num)\n",
        "print(f2.denom)\n",
        "print(f1.plus(f2))"
      ],
      "metadata": {
        "colab": {
          "base_uri": "https://localhost:8080/"
        },
        "id": "9vV1OOtykI0z",
        "outputId": "f344e1d4-aaf3-43b4-d232-bcb802c215ef"
      },
      "execution_count": null,
      "outputs": [
        {
          "output_type": "stream",
          "name": "stdout",
          "text": [
            "3\n",
            "4\n",
            "1\n",
            "4\n",
            "16/16\n"
          ]
        }
      ]
    },
    {
      "cell_type": "code",
      "source": [
        "# inverse of fraction\n",
        "\n",
        "class SimpleFraction(object):\n",
        "  def __init__(self, n, d):\n",
        "    self.num = n\n",
        "    self.denom = d\n",
        "  def inverse(self):\n",
        "    return SimpleFraction(self.denom, self.num)\n",
        "  def __str__(self):\n",
        "    return str(self.num) + \"/\" + str(self.denom)\n",
        "\n",
        "f = SimpleFraction(3, 4)\n",
        "print(f.inverse())\n"
      ],
      "metadata": {
        "colab": {
          "base_uri": "https://localhost:8080/"
        },
        "id": "wR4lw4Hekcbf",
        "outputId": "cf0c9b5a-fc6d-491c-8824-ada1213df110"
      },
      "execution_count": null,
      "outputs": [
        {
          "output_type": "stream",
          "name": "stdout",
          "text": [
            "4/3\n"
          ]
        }
      ]
    },
    {
      "cell_type": "code",
      "source": [
        "#Special operations implemented with dunder methods"
      ],
      "metadata": {
        "id": "E8GAxINLl6sa"
      },
      "execution_count": null,
      "outputs": []
    },
    {
      "cell_type": "code",
      "source": [
        "class Fraction(object):\n",
        "  def __init__(self, num, denom):\n",
        "    self.num = num\n",
        "    self.denom = denom\n",
        "  def __str__(self):\n",
        "    return str(self.num) + \"/\" + str(self.denom)\n",
        "  def __float__(self):\n",
        "    return self.num/self.denom\n",
        "\n",
        "\n",
        "a = Fraction(4,1)\n",
        "b = Fraction(3,2)\n",
        "print(a)\n",
        "print(b)\n",
        "print(float(a))\n",
        "print(float(b))"
      ],
      "metadata": {
        "colab": {
          "base_uri": "https://localhost:8080/"
        },
        "id": "mhktvkwEm0bF",
        "outputId": "f9a88603-dab3-475e-f450-6e71976594e2"
      },
      "execution_count": null,
      "outputs": [
        {
          "output_type": "stream",
          "name": "stdout",
          "text": [
            "4/1\n",
            "3/2\n",
            "4.0\n",
            "1.5\n"
          ]
        }
      ]
    },
    {
      "cell_type": "code",
      "source": [
        "#Equivalents:\n",
        "#print(a * b)#Shorthand\n",
        "#print(a.__mul__(b))#Call to dunder method,bad style with dunder methods!\n",
        "#print(Fraction.__mul__(a, b))#Explicit class call,passing in val for self,bad style!"
      ],
      "metadata": {
        "id": "AhUBAiOXnOs1"
      },
      "execution_count": null,
      "outputs": []
    },
    {
      "cell_type": "code",
      "source": [
        "class Fraction(object):\n",
        "  def __init__(self, num, denom):\n",
        "    self.num = num\n",
        "    self.denom = denom\n",
        "  def __str__(self):\n",
        "    return str(self.num) + \"/\" + str(self.denom)\n",
        "  def reduce(self):\n",
        "    def gcd(n,d):\n",
        "      while d != 0:\n",
        "        (d, n) = (n%d, d)\n",
        "      return n\n",
        "    if self.denom == 0:\n",
        "      return None\n",
        "    elif self.denom == 1:\n",
        "      return self.num\n",
        "    else:\n",
        "      greatest_common_divisor = gcd(self.num, self.denom)\n",
        "      return Fraction(self.num // greatest_common_divisor, self.denom // greatest_common_divisor)\n",
        "\n",
        "a = 2\n",
        "b = 12\n",
        "c = a*b\n",
        "print(c)\n",
        "print(Fraction(a,b))\n",
        "print(Fraction(a,b).reduce())"
      ],
      "metadata": {
        "colab": {
          "base_uri": "https://localhost:8080/"
        },
        "id": "Rw6URUHap81b",
        "outputId": "ed847140-5a47-4ef9-ab00-ae7bb87bdc0d"
      },
      "execution_count": null,
      "outputs": [
        {
          "output_type": "stream",
          "name": "stdout",
          "text": [
            "24\n",
            "2/12\n",
            "1/6\n"
          ]
        }
      ]
    },
    {
      "cell_type": "code",
      "source": [
        "a = Fraction(4, 1)\n",
        "b = Fraction(3, 9)\n",
        "ar = a.reduce()\n",
        "br = b.reduce()\n",
        "print(ar, type(ar))\n",
        "print(br, type(br))"
      ],
      "metadata": {
        "colab": {
          "base_uri": "https://localhost:8080/"
        },
        "id": "lh1BN2sjt_in",
        "outputId": "e0ad4557-4192-4f21-b163-dcbf1e21056c"
      },
      "execution_count": null,
      "outputs": [
        {
          "output_type": "stream",
          "name": "stdout",
          "text": [
            "4 <class 'int'>\n",
            "1/3 <class '__main__.Fraction'>\n"
          ]
        }
      ]
    },
    {
      "cell_type": "code",
      "source": [
        "class Coordinate:\n",
        "  def __init__(self, x, y):\n",
        "    self.x = x\n",
        "    self.y = y\n",
        "\n",
        "  def distance(self, other):\n",
        "    return ((self.x - other.x)**2 + (self.y - other.y)**2) ** 0.5\n",
        "\n",
        "  def __str__(self):\n",
        "    return f\"<{self.x},{self.y}>\"\n",
        "\n",
        "a = Coordinate(3,4)\n",
        "b = Coordinate(0,0)\n",
        "print(a.distance(b))\n",
        "print(a)\n",
        "print(b)"
      ],
      "metadata": {
        "colab": {
          "base_uri": "https://localhost:8080/"
        },
        "id": "BlEFL-8Su0DD",
        "outputId": "7b6cb862-d66b-4982-f385-db8bdc002560"
      },
      "execution_count": null,
      "outputs": [
        {
          "output_type": "stream",
          "name": "stdout",
          "text": [
            "5.0\n",
            "<3,4>\n",
            "<0,0>\n"
          ]
        }
      ]
    },
    {
      "cell_type": "code",
      "source": [],
      "metadata": {
        "id": "jhxERJKV0VWv"
      },
      "execution_count": null,
      "outputs": []
    }
  ]
}