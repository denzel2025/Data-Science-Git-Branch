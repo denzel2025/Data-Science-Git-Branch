{
  "nbformat": 4,
  "nbformat_minor": 0,
  "metadata": {
    "colab": {
      "provenance": [],
      "authorship_tag": "ABX9TyPtOOjg9hwL+bt0IcNnKKjs",
      "include_colab_link": true
    },
    "kernelspec": {
      "name": "python3",
      "display_name": "Python 3"
    },
    "language_info": {
      "name": "python"
    }
  },
  "cells": [
    {
      "cell_type": "markdown",
      "metadata": {
        "id": "view-in-github",
        "colab_type": "text"
      },
      "source": [
        "<a href=\"https://colab.research.google.com/github/denzel2025/Data-Science-Git-Branch/blob/main/Denzel6.ipynb\" target=\"_parent\"><img src=\"https://colab.research.google.com/assets/colab-badge.svg\" alt=\"Open In Colab\"/></a>"
      ]
    },
    {
      "cell_type": "code",
      "execution_count": 9,
      "metadata": {
        "colab": {
          "base_uri": "https://localhost:8080/"
        },
        "id": "hJ_aweg2IKHI",
        "outputId": "08f3710b-bba9-4e48-dc9c-3ff48abe229c"
      },
      "outputs": [
        {
          "output_type": "stream",
          "name": "stdout",
          "text": [
            "What is your name? Denzel Nyarangi\n",
            "How old are you? 18\n",
            "Welcome, Denzel Nyarangi! You are 18 years old.\n"
          ]
        }
      ],
      "source": [
        "#A program that:\n",
        "#prompts for the user's name and age.\n",
        "#uses an f-string to display a welcome message that includes both pieces of information.\n",
        "\n",
        "# Prompt for the user's name and age\n",
        "name = input(\"What is your name? \")\n",
        "age = int(input(\"How old are you? \"))\n",
        "\n",
        "# Display a welcome message using an f-string\n",
        "print(f\"Welcome, {name}! You are {age} years old.\")\n"
      ]
    },
    {
      "cell_type": "code",
      "source": [
        "#Prompt for the user's name and age\n",
        "user_name = input(\"Enter your name: \")\n",
        "age = int(input(\"Enter your age: \"))\n",
        "\n",
        "#Display a welcome message usig an f-string\n",
        "print(f\"Hello, {user_name}! You are {age} years old.\")\n"
      ],
      "metadata": {
        "colab": {
          "base_uri": "https://localhost:8080/"
        },
        "id": "iIMpTwgSKTyS",
        "outputId": "ef04e2de-cec1-460d-cf7c-acd56fe7c239"
      },
      "execution_count": 8,
      "outputs": [
        {
          "output_type": "stream",
          "name": "stdout",
          "text": [
            "Enter your name: Denzel\n",
            "Enter your age: 18\n",
            "Hello, Denzel! You are 18 years old.\n"
          ]
        }
      ]
    },
    {
      "cell_type": "code",
      "source": [],
      "metadata": {
        "id": "HDF71nSgMQXI"
      },
      "execution_count": null,
      "outputs": []
    }
  ]
}