{
  "cells": [
    {
      "cell_type": "markdown",
      "metadata": {
        "id": "view-in-github",
        "colab_type": "text"
      },
      "source": [
        "<a href=\"https://colab.research.google.com/github/denzel2025/Data-Science-Git-Branch/blob/main/Untitled10.ipynb\" target=\"_parent\"><img src=\"https://colab.research.google.com/assets/colab-badge.svg\" alt=\"Open In Colab\"/></a>"
      ]
    },
    {
      "cell_type": "code",
      "execution_count": null,
      "metadata": {
        "colab": {
          "base_uri": "https://localhost:8080/"
        },
        "id": "-3pHrxHZfY-4",
        "outputId": "e455c9d0-de3b-4ac1-a3a0-84c4e2566a16"
      },
      "outputs": [
        {
          "name": "stdout",
          "output_type": "stream",
          "text": [
            "Sum: 26\n"
          ]
        }
      ],
      "source": [
        "#Combining Loops & Branching\n",
        "# += augumented assignment\n",
        "#Early Exit with break\n",
        "\n",
        "mysum = 0\n",
        "for i in range(5, 11):\n",
        "  if mysum > 20:\n",
        "    break\n",
        "  mysum += i\n",
        "print(\"Sum:\", mysum)"
      ]
    },
    {
      "cell_type": "code",
      "execution_count": null,
      "metadata": {
        "colab": {
          "base_uri": "https://localhost:8080/"
        },
        "id": "uEnEVpisgSl8",
        "outputId": "3900f658-1db7-4697-e5af-78b23c33e0ed"
      },
      "outputs": [
        {
          "name": "stdout",
          "output_type": "stream",
          "text": [
            "0\n",
            "2\n",
            "4\n",
            "6\n",
            "8\n"
          ]
        }
      ],
      "source": [
        "# skip with continue\n",
        "# skip with continue\n",
        "\n",
        "for i in range(10):\n",
        "  if i % 2:\n",
        "    continue # skip odd\n",
        "  print(i)  # prints evens only"
      ]
    },
    {
      "cell_type": "code",
      "execution_count": null,
      "metadata": {
        "colab": {
          "base_uri": "https://localhost:8080/"
        },
        "id": "sAEN5I9si0Hi",
        "outputId": "f64bdb2a-66f6-46be-c6fa-d53d98b47a89"
      },
      "outputs": [
        {
          "name": "stdout",
          "output_type": "stream",
          "text": [
            "3\n",
            "4\n",
            "5\n",
            "6\n"
          ]
        }
      ],
      "source": [
        "#Buggy version\n",
        "start = 3\n",
        "end = 7\n",
        "\n",
        "for i in range(start, end):\n",
        "    print(i)"
      ]
    },
    {
      "cell_type": "code",
      "execution_count": null,
      "metadata": {
        "colab": {
          "base_uri": "https://localhost:8080/"
        },
        "id": "mBb24_keheDU",
        "outputId": "96ddfa8d-0576-4080-e8c8-198d22c389bd"
      },
      "outputs": [
        {
          "name": "stdout",
          "output_type": "stream",
          "text": [
            "3\n",
            "4\n",
            "5\n",
            "6\n",
            "7\n"
          ]
        }
      ],
      "source": [
        "#solution\n",
        "start = 3\n",
        "end = 7\n",
        "\n",
        "for i in range(start, end + 1):\n",
        "    print(i)"
      ]
    },
    {
      "cell_type": "code",
      "execution_count": null,
      "metadata": {
        "colab": {
          "base_uri": "https://localhost:8080/"
        },
        "id": "x7ZpTZ9sipWQ",
        "outputId": "d6efbeef-3208-4b29-b32a-027c2377c560"
      },
      "outputs": [
        {
          "name": "stdout",
          "output_type": "stream",
          "text": [
            "3\n",
            "4\n",
            "5\n",
            "6\n",
            "7\n"
          ]
        }
      ],
      "source": [
        "start = 3\n",
        "end = 7\n",
        "\n",
        "for i in range(start, end + 1):\n",
        "    print(i)\n"
      ]
    },
    {
      "cell_type": "code",
      "execution_count": 2,
      "metadata": {
        "colab": {
          "base_uri": "https://localhost:8080/"
        },
        "id": "f4Pv6nYqjgNy",
        "outputId": "aa5963d8-9eaf-49e7-f68f-015ee8cd535f"
      },
      "outputs": [
        {
          "output_type": "stream",
          "name": "stdout",
          "text": [
            "Enter the number of steps you want to attempt: 3\n",
            "Did you take a step? (yes/no): no\n",
            "Did you take a step? (yes/no): no\n",
            "Did you take a step? (yes/no): no\n",
            "Total steps taken: 0\n",
            "Final health: 2\n"
          ]
        }
      ],
      "source": [
        "# 1. Define two variables: steps and health\n",
        "steps = int(input(\"Enter the number of steps you want to attempt: \"))\n",
        "health = 5  # You can choose any starting health value\n",
        "\n",
        "# 2. Loop 'steps' times\n",
        "count = 0  # This will track how many steps were actually taken\n",
        "\n",
        "for i in range(steps):\n",
        "    response = input(\"Did you take a step? (yes/no): \").strip().lower()\n",
        "\n",
        "    if response == \"yes\":\n",
        "        count += 1\n",
        "    elif response == \"no\":\n",
        "        health -= 1\n",
        "    else:\n",
        "        print(\"Invalid input. Please enter 'yes' or 'no'.\")\n",
        "        continue  # Re-ask the current step\n",
        "\n",
        "    if health <= 0:  # Fixed the condition here\n",
        "        print(\"Health dropped to 0 or below. Stopping early.\")\n",
        "        break\n",
        "\n",
        "# 3. Report\n",
        "print(f\"Total steps taken: {count}\")\n",
        "print(f\"Final health: {health}\")\n"
      ]
    },
    {
      "cell_type": "code",
      "source": [],
      "metadata": {
        "id": "h7StOr_vyrtl"
      },
      "execution_count": null,
      "outputs": []
    }
  ],
  "metadata": {
    "colab": {
      "provenance": [],
      "authorship_tag": "ABX9TyNLDHwV9NSDJ/iDx4vhs8jU",
      "include_colab_link": true
    },
    "kernelspec": {
      "display_name": "Python 3",
      "name": "python3"
    },
    "language_info": {
      "name": "python"
    }
  },
  "nbformat": 4,
  "nbformat_minor": 0
}