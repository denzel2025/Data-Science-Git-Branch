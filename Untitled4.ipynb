{
  "nbformat": 4,
  "nbformat_minor": 0,
  "metadata": {
    "colab": {
      "provenance": [],
      "authorship_tag": "ABX9TyPKS7c/DSzvythzNlWxRNk5",
      "include_colab_link": true
    },
    "kernelspec": {
      "name": "python3",
      "display_name": "Python 3"
    },
    "language_info": {
      "name": "python"
    }
  },
  "cells": [
    {
      "cell_type": "markdown",
      "metadata": {
        "id": "view-in-github",
        "colab_type": "text"
      },
      "source": [
        "<a href=\"https://colab.research.google.com/github/denzel2025/Data-Science-Git-Branch/blob/main/Untitled4.ipynb\" target=\"_parent\"><img src=\"https://colab.research.google.com/assets/colab-badge.svg\" alt=\"Open In Colab\"/></a>"
      ]
    },
    {
      "cell_type": "code",
      "execution_count": 3,
      "metadata": {
        "colab": {
          "base_uri": "https://localhost:8080/"
        },
        "id": "KxoVOPbyKt0c",
        "outputId": "ab7bb1f5-0204-45c0-f0c6-185dff7b19e8"
      },
      "outputs": [
        {
          "output_type": "stream",
          "name": "stdout",
          "text": [
            "Hello, World!\n"
          ]
        }
      ],
      "source": [
        "#Strings and Their Operations\n",
        "#Concatenation: Combine strings using the + operator.\n",
        "greeting = \"Hello\"\n",
        "name = \"World\"\n",
        "message = greeting + \", \" + name + \"!\"\n",
        "print(message) #Output: Hello, World!"
      ]
    },
    {
      "cell_type": "code",
      "source": [
        "#Indexing and Slicing:Access specific characters or sub=strings using indexing and slicing.\n",
        "message = \"Hello, World!\"\n",
        "print(message[0]) #Output: H\n",
        "print(message[7:12]) #Output: World"
      ],
      "metadata": {
        "colab": {
          "base_uri": "https://localhost:8080/"
        },
        "id": "E5ULxIUALch4",
        "outputId": "1d001d14-c273-44e5-c5f6-9edbd7860bce"
      },
      "execution_count": 4,
      "outputs": [
        {
          "output_type": "stream",
          "name": "stdout",
          "text": [
            "H\n",
            "World\n"
          ]
        }
      ]
    },
    {
      "cell_type": "code",
      "source": [
        "message = \"Hello, World!\"\n",
        "print(message[8])\n",
        "print(message[5:12])"
      ],
      "metadata": {
        "colab": {
          "base_uri": "https://localhost:8080/"
        },
        "id": "FLw1MeciM1Uu",
        "outputId": "c7bea616-a268-4344-99cd-25ceb6fad448"
      },
      "execution_count": 10,
      "outputs": [
        {
          "output_type": "stream",
          "name": "stdout",
          "text": [
            "o\n",
            ", World\n"
          ]
        }
      ]
    },
    {
      "cell_type": "code",
      "source": [
        "#Methods: Using built-in methods like .upper() , .lower() , and .strip().\n",
        "sample = \"  Hello, World!  \"\n",
        "print(sample.upper()) #Output: HELLO, WORLD!\n",
        "print(sample.lower()) #Output: hello, world!\n",
        "print(sample.strip()) #Output: Hello, World!\n"
      ],
      "metadata": {
        "colab": {
          "base_uri": "https://localhost:8080/"
        },
        "id": "ZHDCgB1hNPrM",
        "outputId": "f4292266-0cc5-493d-a4e9-74caeb7e4a11"
      },
      "execution_count": 13,
      "outputs": [
        {
          "output_type": "stream",
          "name": "stdout",
          "text": [
            "  HELLO, WORLD!  \n",
            "  hello, world!  \n",
            "Hello, World!\n"
          ]
        }
      ]
    },
    {
      "cell_type": "code",
      "source": [],
      "metadata": {
        "id": "CME7K84mQP5t"
      },
      "execution_count": null,
      "outputs": []
    }
  ]
}