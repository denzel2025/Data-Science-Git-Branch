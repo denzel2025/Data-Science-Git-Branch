{
  "nbformat": 4,
  "nbformat_minor": 0,
  "metadata": {
    "colab": {
      "provenance": [],
      "authorship_tag": "ABX9TyOP/Z3y51Af1/pIoKa9zv5s",
      "include_colab_link": true
    },
    "kernelspec": {
      "name": "python3",
      "display_name": "Python 3"
    },
    "language_info": {
      "name": "python"
    }
  },
  "cells": [
    {
      "cell_type": "markdown",
      "metadata": {
        "id": "view-in-github",
        "colab_type": "text"
      },
      "source": [
        "<a href=\"https://colab.research.google.com/github/denzel2025/Data-Science-Git-Branch/blob/main/Untitled6.ipynb\" target=\"_parent\"><img src=\"https://colab.research.google.com/assets/colab-badge.svg\" alt=\"Open In Colab\"/></a>"
      ]
    },
    {
      "cell_type": "code",
      "execution_count": 4,
      "metadata": {
        "id": "eoZLE8RsR3Sc"
      },
      "outputs": [],
      "source": [
        "#Operators & Expressions Evaluation\n",
        "#Arithmetic operators:\n",
        "\n",
        "# +: Addition\n",
        "# -: Subtraction\n",
        "# *: Multiplication\n",
        "# /: Division\n",
        "# %: Modulus\n",
        "# ** : Exponentiation\n",
        "# // : Floor division\n",
        "\n",
        "#Comparison operators:\n",
        "\n",
        "# ==: Equal to\n",
        "# !=: Not equal to\n",
        "# >: Greater than\n",
        "# <: Less than\n",
        "# >=: Greater than or equal to\n",
        "# <=: Less than or equal to"
      ]
    },
    {
      "cell_type": "code",
      "source": [
        "#Branching:Conditional Statements\n",
        "#Branching allows a program to choose between different paths of execution based on conditions.\n",
        "#Conditional statements are used in pytho to control the flow of a program.\n",
        "#if,elif,else\n",
        "\n",
        "#if statement:\n",
        "#if statement is used to execute a block of code if a condition is True.\n",
        "\n",
        "x=5\n",
        "if x > 0:\n",
        "  print(\"x is positive\")\n"
      ],
      "metadata": {
        "colab": {
          "base_uri": "https://localhost:8080/"
        },
        "id": "yLAMe8UpTZpR",
        "outputId": "24edf80d-5ab7-4d3e-d52d-78cbb20235f5"
      },
      "execution_count": 2,
      "outputs": [
        {
          "output_type": "stream",
          "name": "stdout",
          "text": [
            "x is positive\n"
          ]
        }
      ]
    },
    {
      "cell_type": "code",
      "source": [
        "#elif statements:\n",
        "#elif statement is used to check multiple conditions in sequence.\n",
        "#it is used in conjunction with if statements.\n",
        "#it is short for \"else if\".\n",
        "\n",
        "x = 11\n",
        "if x > 10:\n",
        "  print(\"x is positive\")\n",
        "elif x == 0:\n",
        "  print(\"x is zero\")\n"
      ],
      "metadata": {
        "colab": {
          "base_uri": "https://localhost:8080/"
        },
        "id": "E65nvtkWU2lC",
        "outputId": "66fa4480-85d0-4e73-95db-150b184f03f7"
      },
      "execution_count": 9,
      "outputs": [
        {
          "output_type": "stream",
          "name": "stdout",
          "text": [
            "x is positive\n"
          ]
        }
      ]
    },
    {
      "cell_type": "code",
      "source": [
        "#else statements:\n",
        "#else statement is used to execute a block of code if none of the previous conditions are True.\n",
        "#else statement is optional and can be used in conjunction with if or elif statement\n",
        "x = -11\n",
        "if x > 10:\n",
        "  print(\"x is positive\")\n",
        "elif x == 0:\n",
        "  print(\"x is zero\")\n",
        "else:\n",
        "  print(\"x is negative\")"
      ],
      "metadata": {
        "colab": {
          "base_uri": "https://localhost:8080/"
        },
        "id": "uVZo_I9cVIk4",
        "outputId": "87673bd0-c0d9-4ef6-c414-a572be44644f"
      },
      "execution_count": 11,
      "outputs": [
        {
          "output_type": "stream",
          "name": "stdout",
          "text": [
            "x is negative\n"
          ]
        }
      ]
    },
    {
      "cell_type": "code",
      "source": [
        "number = 0\n",
        "if number > 0:\n",
        "    print(\"The number is positive.\")\n",
        "elif number < 0:\n",
        "    print(\"The number is negative.\")\n",
        "else:\n",
        "    print(\"The number is zero.\")"
      ],
      "metadata": {
        "colab": {
          "base_uri": "https://localhost:8080/"
        },
        "id": "48YYUN1cZkGc",
        "outputId": "ee0a3dad-1394-4f31-9c6d-18efccc12d17"
      },
      "execution_count": 13,
      "outputs": [
        {
          "output_type": "stream",
          "name": "stdout",
          "text": [
            "The number is zero.\n"
          ]
        }
      ]
    },
    {
      "cell_type": "code",
      "source": [
        "# Ask the user for input\n",
        "number = float(input(\"Enter a number: \"))\n",
        "\n",
        "# Check if the number is positive, negative, or zero\n",
        "if number > 0:\n",
        "    print(\"The number is positive.\")\n",
        "elif number < 0:\n",
        "    print(\"The number is negative.\")\n",
        "else:\n",
        "    print(\"The number is zero.\")\n"
      ],
      "metadata": {
        "colab": {
          "base_uri": "https://localhost:8080/"
        },
        "id": "xcOMLYWNaU8G",
        "outputId": "f9e2ba60-b734-45fc-eed6-5799f03f0d95"
      },
      "execution_count": 17,
      "outputs": [
        {
          "output_type": "stream",
          "name": "stdout",
          "text": [
            "Enter a number: -56\n",
            "The number is negative.\n"
          ]
        }
      ]
    },
    {
      "cell_type": "code",
      "source": [
        "# List of numbers to check\n",
        "numbers = [10, -3, 0, 5.5, -7.2]\n",
        "\n",
        "# Loop through the list and check each number\n",
        "for number in numbers:\n",
        "    if number > 0:\n",
        "        print(f\"{number} is positive.\")\n",
        "    elif number < 0:\n",
        "        print(f\"{number} is negative.\")\n",
        "    else:\n",
        "        print(f\"{number} is zero.\")\n"
      ],
      "metadata": {
        "colab": {
          "base_uri": "https://localhost:8080/"
        },
        "id": "3SMee6K9dAEE",
        "outputId": "fbaf8483-0617-49ca-bd4f-0305fd9cda6f"
      },
      "execution_count": 15,
      "outputs": [
        {
          "output_type": "stream",
          "name": "stdout",
          "text": [
            "10 is positive.\n",
            "-3 is negative.\n",
            "0 is zero.\n",
            "5.5 is positive.\n",
            "-7.2 is negative.\n"
          ]
        }
      ]
    },
    {
      "cell_type": "code",
      "source": [],
      "metadata": {
        "id": "CrzdikqkdGzz"
      },
      "execution_count": null,
      "outputs": []
    }
  ]
}