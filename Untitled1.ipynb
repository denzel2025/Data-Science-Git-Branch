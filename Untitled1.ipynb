{
  "nbformat": 4,
  "nbformat_minor": 0,
  "metadata": {
    "colab": {
      "provenance": [],
      "authorship_tag": "ABX9TyME3y0FM+r+yNFZkFfSSIp0",
      "include_colab_link": true
    },
    "kernelspec": {
      "name": "python3",
      "display_name": "Python 3"
    },
    "language_info": {
      "name": "python"
    }
  },
  "cells": [
    {
      "cell_type": "markdown",
      "metadata": {
        "id": "view-in-github",
        "colab_type": "text"
      },
      "source": [
        "<a href=\"https://colab.research.google.com/github/denzel2025/Data-Science-Git-Branch/blob/main/Untitled1.ipynb\" target=\"_parent\"><img src=\"https://colab.research.google.com/assets/colab-badge.svg\" alt=\"Open In Colab\"/></a>"
      ]
    },
    {
      "cell_type": "code",
      "execution_count": null,
      "metadata": {
        "colab": {
          "base_uri": "https://localhost:8080/"
        },
        "id": "RzNThzC9Ni1X",
        "outputId": "1fa600f6-6f3a-44c3-9f75-6ddc25d7effe"
      },
      "outputs": [
        {
          "output_type": "execute_result",
          "data": {
            "text/plain": [
              "35"
            ]
          },
          "metadata": {},
          "execution_count": 1
        }
      ],
      "source": [
        "# Mathematical Expressions\n",
        "(4+2) * 6-1"
      ]
    },
    {
      "cell_type": "code",
      "source": [
        "# Code Style and Best Practices\n",
        "#calculate area and circumference of a circle using an approximation of pi\n",
        "pi = 355/113\n",
        "radius = 2.2\n",
        "area = pi * (radius ** 2)\n",
        "circumference = pi * (radius*2)"
      ],
      "metadata": {
        "id": "ZXs9lpH2OKD5"
      },
      "execution_count": null,
      "outputs": []
    },
    {
      "cell_type": "code",
      "source": [
        "pi = 3.14 # Reassigning pi\n",
        "radius = 2.2\n",
        "area = pi * (radius ** 2)\n",
        "radius = radius + 1 # updating the radius"
      ],
      "metadata": {
        "id": "b0l6J8Q7RoUV"
      },
      "execution_count": null,
      "outputs": []
    },
    {
      "cell_type": "code",
      "source": [
        "#Define the approximate value for pi and the radius\n",
        "pi  = 355/113 #approximate value for pi, roughly 3.1415929203539825\n",
        "radius = 2.2\n",
        "\n",
        "#Calculate the area ansd circumference of a circle\n",
        "area = pi * (radius ** 2)\n",
        "circumference = pi * (radius*2)\n",
        "\n",
        "#print the results\n",
        "print (\"Area:\", area)\n",
        "print (\"Circumference:\", circumference)"
      ],
      "metadata": {
        "colab": {
          "base_uri": "https://localhost:8080/"
        },
        "id": "uIPaOP_0SD_m",
        "outputId": "c21dc582-aaf7-4b9d-8672-76768cd39def"
      },
      "execution_count": null,
      "outputs": [
        {
          "output_type": "stream",
          "name": "stdout",
          "text": [
            "Area: 15.205309734513278\n",
            "Circumference: 13.823008849557525\n"
          ]
        }
      ]
    },
    {
      "cell_type": "code",
      "source": [
        "# Debugging and Fixing Common errors\n",
        "x = 1\n",
        "y = 2\n",
        "#incorrect swap:\n",
        "y = x\n",
        "x = y"
      ],
      "metadata": {
        "id": "HXloL9VTTMfH"
      },
      "execution_count": null,
      "outputs": []
    },
    {
      "cell_type": "code",
      "source": [
        "x = 1\n",
        "y = 2\n",
        "temp = x\n",
        "x = y\n",
        "y = temp"
      ],
      "metadata": {
        "id": "pelydyYgV4RZ"
      },
      "execution_count": 1,
      "outputs": []
    },
    {
      "cell_type": "code",
      "source": [
        "print(y)"
      ],
      "metadata": {
        "colab": {
          "base_uri": "https://localhost:8080/"
        },
        "id": "bwTSHE_pWMiS",
        "outputId": "b20cbd8e-a163-4502-8807-cd00671f7380"
      },
      "execution_count": null,
      "outputs": [
        {
          "output_type": "stream",
          "name": "stdout",
          "text": [
            "1\n"
          ]
        }
      ]
    },
    {
      "cell_type": "code",
      "source": [
        "print(x)"
      ],
      "metadata": {
        "id": "PS6misZPF9K7",
        "outputId": "c2046ca2-5966-4940-d756-22ab3eff8b6c",
        "colab": {
          "base_uri": "https://localhost:8080/"
        }
      },
      "execution_count": 2,
      "outputs": [
        {
          "output_type": "stream",
          "name": "stdout",
          "text": [
            "2\n"
          ]
        }
      ]
    },
    {
      "cell_type": "code",
      "source": [
        "x, y = y, x"
      ],
      "metadata": {
        "id": "BYjPEmvYWPZT"
      },
      "execution_count": null,
      "outputs": []
    },
    {
      "cell_type": "code",
      "source": [
        "print(y)"
      ],
      "metadata": {
        "colab": {
          "base_uri": "https://localhost:8080/"
        },
        "id": "gU2i3q6wWdCM",
        "outputId": "31989955-1631-41af-eb4e-d40e56539b3e"
      },
      "execution_count": null,
      "outputs": [
        {
          "output_type": "stream",
          "name": "stdout",
          "text": [
            "2\n"
          ]
        }
      ]
    },
    {
      "cell_type": "code",
      "source": [
        "print(x)"
      ],
      "metadata": {
        "colab": {
          "base_uri": "https://localhost:8080/"
        },
        "id": "4RUcRav9Wfhf",
        "outputId": "b11e1273-2927-4913-b0f5-358caa8ba42d"
      },
      "execution_count": null,
      "outputs": [
        {
          "output_type": "stream",
          "name": "stdout",
          "text": [
            "1\n"
          ]
        }
      ]
    },
    {
      "cell_type": "code",
      "source": [],
      "metadata": {
        "id": "f61M6OzvWi3E"
      },
      "execution_count": null,
      "outputs": []
    }
  ]
}