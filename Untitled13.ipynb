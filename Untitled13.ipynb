{
  "nbformat": 4,
  "nbformat_minor": 0,
  "metadata": {
    "colab": {
      "provenance": [],
      "authorship_tag": "ABX9TyOAo2/4vA6WpktNHanL24f6",
      "include_colab_link": true
    },
    "kernelspec": {
      "name": "python3",
      "display_name": "Python 3"
    },
    "language_info": {
      "name": "python"
    }
  },
  "cells": [
    {
      "cell_type": "markdown",
      "metadata": {
        "id": "view-in-github",
        "colab_type": "text"
      },
      "source": [
        "<a href=\"https://colab.research.google.com/github/denzel2025/Data-Science-Git-Branch/blob/main/Untitled13.ipynb\" target=\"_parent\"><img src=\"https://colab.research.google.com/assets/colab-badge.svg\" alt=\"Open In Colab\"/></a>"
      ]
    },
    {
      "cell_type": "code",
      "execution_count": null,
      "metadata": {
        "colab": {
          "base_uri": "https://localhost:8080/"
        },
        "id": "N_tD47u9Iayt",
        "outputId": "639345f2-04fd-4a7c-c2cd-53a27a015f57"
      },
      "outputs": [
        {
          "output_type": "stream",
          "name": "stdout",
          "text": [
            "Enter your name: Denzel Nyarangi\n",
            "D e n z e l   N y a r a n g i !\n"
          ]
        }
      ],
      "source": [
        "name = input(\"Enter your name: \")\n",
        "for ch in name:\n",
        "    print(ch, end=' ')\n",
        "print(\"!\")\n"
      ]
    },
    {
      "cell_type": "code",
      "source": [
        "string = ('books', 'pens' , 'pencils')\n",
        "for gh in string:\n",
        "  print(gh)\n"
      ],
      "metadata": {
        "colab": {
          "base_uri": "https://localhost:8080/"
        },
        "id": "rvXUj_DrI9IB",
        "outputId": "b863d2f9-ba5e-4108-9756-3425e5b170bb"
      },
      "execution_count": null,
      "outputs": [
        {
          "output_type": "stream",
          "name": "stdout",
          "text": [
            "books\n",
            "pens\n",
            "pencils\n"
          ]
        }
      ]
    },
    {
      "cell_type": "code",
      "source": [
        "s = \"HELLO\"\n",
        "for letter in s:\n",
        "  print(letter)"
      ],
      "metadata": {
        "colab": {
          "base_uri": "https://localhost:8080/"
        },
        "id": "Qw1EArcrMnDu",
        "outputId": "80c3e4c1-060f-4aef-ae8b-e1257b7313d6"
      },
      "execution_count": null,
      "outputs": [
        {
          "output_type": "stream",
          "name": "stdout",
          "text": [
            "H\n",
            "E\n",
            "L\n",
            "L\n",
            "O\n"
          ]
        }
      ]
    },
    {
      "cell_type": "code",
      "source": [
        "s = \"HELLO\"\n",
        "i = 0\n",
        "while i < len(s):\n",
        "  print(s[i])\n",
        "  i += 1"
      ],
      "metadata": {
        "colab": {
          "base_uri": "https://localhost:8080/"
        },
        "id": "FffEWiOPMzg0",
        "outputId": "12dbef51-714c-491a-fea2-ad0f9989c773"
      },
      "execution_count": null,
      "outputs": [
        {
          "output_type": "stream",
          "name": "stdout",
          "text": [
            "H\n",
            "E\n",
            "L\n",
            "L\n",
            "O\n"
          ]
        }
      ]
    },
    {
      "cell_type": "code",
      "source": [
        "# Direct - Membership \"in\"\n",
        "s = \"demo loops - fruit loops\"\n",
        "for ch in s:\n",
        "  if ch in 'iu':\n",
        "    print(\"Found\", ch)"
      ],
      "metadata": {
        "colab": {
          "base_uri": "https://localhost:8080/"
        },
        "id": "EZVZR2Z2Nu3x",
        "outputId": "1fc6c4c3-7d0c-4b37-c1e9-be6924b9a5f7"
      },
      "execution_count": null,
      "outputs": [
        {
          "output_type": "stream",
          "name": "stdout",
          "text": [
            "Found u\n",
            "Found i\n"
          ]
        }
      ]
    },
    {
      "cell_type": "code",
      "source": [
        "#1.Counts evens in each of these ranges:\n",
        "#range(5),range(10),range(2,9,3).range(-4,6,2),range(5,6)\n",
        "#2.Unique letters:given s = \"abca\" ,count unuque characters.\n",
        "#3.Unique common chars between two strings, e.g.\"may the fourth...\"&\"revenge of the sixth\".\n",
        "\n",
        "ranges = [range(5), range(10), range(2, 9, 3), range(-4, 6, 2), range(5, 6)]\n",
        "\n",
        "for r in ranges:\n",
        "    even_count = sum(1 for num in r if num % 2 == 0)\n",
        "    print(f\"{list(r)} → Evens: {even_count}\")\n"
      ],
      "metadata": {
        "colab": {
          "base_uri": "https://localhost:8080/"
        },
        "id": "jLJMMnNNQ09g",
        "outputId": "ca95f093-515f-4c87-8477-7154c8cafa84"
      },
      "execution_count": null,
      "outputs": [
        {
          "output_type": "stream",
          "name": "stdout",
          "text": [
            "[0, 1, 2, 3, 4] → Evens: 3\n",
            "[0, 1, 2, 3, 4, 5, 6, 7, 8, 9] → Evens: 5\n",
            "[2, 5, 8] → Evens: 2\n",
            "[-4, -2, 0, 2, 4] → Evens: 5\n",
            "[5] → Evens: 0\n"
          ]
        }
      ]
    },
    {
      "cell_type": "code",
      "source": [
        "s = 'abca'\n",
        "count = 0\n",
        "\n",
        "for ch in s:\n",
        "    if s.count(ch) == 1:\n",
        "        count += 1\n",
        "\n",
        "print(\"Number of truly unique characters:\", count)\n"
      ],
      "metadata": {
        "colab": {
          "base_uri": "https://localhost:8080/"
        },
        "id": "8j9wj5cajNYp",
        "outputId": "acf4e848-6ae4-4b60-92c1-a315de9ad84c"
      },
      "execution_count": null,
      "outputs": [
        {
          "output_type": "stream",
          "name": "stdout",
          "text": [
            "Number of truly unique characters: 2\n"
          ]
        }
      ]
    },
    {
      "cell_type": "code",
      "source": [
        "s1 = \"may the fourth...\"\n",
        "s2 = \"revenge of the sixth\"\n",
        "\n",
        "common = \"\"\n",
        "\n",
        "for ch in s1:\n",
        "    if ch in s2 and ch not in common:\n",
        "        common += ch\n",
        "        print(f\"Found common character: '{ch}'\")\n",
        "\n",
        "print(\"Final common characters:\", common)\n",
        "print(\"Total:\", len(common))\n"
      ],
      "metadata": {
        "id": "kF-Zu2XjYzCg",
        "colab": {
          "base_uri": "https://localhost:8080/"
        },
        "outputId": "d92cb22f-0a04-40dc-c0d9-6c42ab72136f"
      },
      "execution_count": 1,
      "outputs": [
        {
          "output_type": "stream",
          "name": "stdout",
          "text": [
            "Found common character: ' '\n",
            "Found common character: 't'\n",
            "Found common character: 'h'\n",
            "Found common character: 'e'\n",
            "Found common character: 'f'\n",
            "Found common character: 'o'\n",
            "Found common character: 'r'\n",
            "Final common characters:  thefor\n",
            "Total: 7\n"
          ]
        }
      ]
    },
    {
      "cell_type": "code",
      "source": [
        "s = input(\"Enter a string: \").lower()\n",
        "\n",
        "vowels = \"aeiou\"\n",
        "vowel_counts = {}\n",
        "\n",
        "for ch in s:\n",
        "    if ch in vowels:\n",
        "        if ch in vowel_counts:\n",
        "            vowel_counts[ch] += 1\n",
        "        else:\n",
        "            vowel_counts[ch] = 1\n",
        "\n",
        "print(\"Vowel counts:\")\n",
        "for vowel in vowel_counts:\n",
        "    print(f\"{vowel}: {vowel_counts[vowel]}\")\n",
        "\n",
        "print(\"Total unique vowels:\", len(vowel_counts))\n"
      ],
      "metadata": {
        "colab": {
          "base_uri": "https://localhost:8080/"
        },
        "id": "ykK0CcC5c5QU",
        "outputId": "f8e700ec-c503-489b-ec92-49354b8f6d18"
      },
      "execution_count": 12,
      "outputs": [
        {
          "output_type": "stream",
          "name": "stdout",
          "text": [
            "Enter a string: i am nahor a student\n",
            "Vowel counts:\n",
            "i: 1\n",
            "a: 3\n",
            "o: 1\n",
            "u: 1\n",
            "e: 1\n",
            "Total unique vowels: 5\n"
          ]
        }
      ]
    },
    {
      "cell_type": "code",
      "source": [
        "#Philosophy & Flowchart\n",
        "#Flow\n",
        "#1.Initialize guess\n",
        "#2.Test if correct\n",
        "#3.Ifnot, update guess\n",
        "#4.Repeat-stop when found or limit reached\n",
        "#5.Print or Display the options"
      ],
      "metadata": {
        "id": "hvYDD1s_dihF"
      },
      "execution_count": 13,
      "outputs": []
    },
    {
      "cell_type": "code",
      "source": [
        "guess = 0\n",
        "x = abs(int(input(\"Enter nonneg integer: \")))\n",
        "while guess**2 < x:\n",
        "  guess += 1\n",
        "if guess**2 == x:\n",
        "  print(\"Square root of\", x, \"is\", guess)\n",
        "else:\n",
        "  print(x, \"is not a perfect square\")\n"
      ],
      "metadata": {
        "colab": {
          "base_uri": "https://localhost:8080/"
        },
        "id": "z5PxsqYqmXvw",
        "outputId": "481be2de-2add-41aa-c193-0c7c1811e42a"
      },
      "execution_count": 22,
      "outputs": [
        {
          "output_type": "stream",
          "name": "stdout",
          "text": [
            "Enter nonneg integer: -45\n",
            "45 is not a perfect square\n"
          ]
        }
      ]
    }
  ]
}