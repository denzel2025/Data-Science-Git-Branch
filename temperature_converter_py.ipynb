{
  "nbformat": 4,
  "nbformat_minor": 0,
  "metadata": {
    "colab": {
      "provenance": [],
      "authorship_tag": "ABX9TyMWj4SCOrLKEZJu3y2t9KC+",
      "include_colab_link": true
    },
    "kernelspec": {
      "name": "python3",
      "display_name": "Python 3"
    },
    "language_info": {
      "name": "python"
    }
  },
  "cells": [
    {
      "cell_type": "markdown",
      "metadata": {
        "id": "view-in-github",
        "colab_type": "text"
      },
      "source": [
        "<a href=\"https://colab.research.google.com/github/denzel2025/Data-Science-Git-Branch/blob/main/temperature_converter_py.ipynb\" target=\"_parent\"><img src=\"https://colab.research.google.com/assets/colab-badge.svg\" alt=\"Open In Colab\"/></a>"
      ]
    },
    {
      "cell_type": "code",
      "execution_count": null,
      "metadata": {
        "id": "WUIHctUiWmRH"
      },
      "outputs": [],
      "source": [
        "celsius = float(input(\"Enter temperature in Celsius: \"))\n",
        "fahrenheit = (celsius * 9/5) + 32\n",
        "\n",
        "print(f\"{celsius}°C = {fahrenheit:.2f}°F\")\n",
        "\n",
        "# Conditional logic based on Celsius range\n",
        "if celsius < 0:\n",
        "    print(\"It's freezing cold!\")\n",
        "elif celsius > 0 and celsius <= 20:\n",
        "    print(\"its a bit chilly.\")\n",
        "elif celsius => 21 and celsius <= 30:\n",
        "    print(\"it's nice and warm.\")\n",
        "else:\n",
        "    print(\"It's hot!\")\n",
        "\n"
      ]
    },
    {
      "cell_type": "code",
      "source": [
        "# Ask the user to enter temperature in Celsius\n",
        "celsius = float(input(\"Enter temperature in Celsius: \"))\n",
        "\n",
        "# Convert Celsius to Fahrenheit using the formula\n",
        "fahrenheit = (celsius * 9/5) + 32\n",
        "\n",
        "# Display the converted temperature with the degree symbol\n",
        "print(f\"{celsius}°C = {fahrenheit:.2f}°F\")\n",
        "\n",
        "# Conditional logic to describe the weather based on the Celsius value\n",
        "if celsius < 0:\n",
        "    # If temperature is below 0°C\n",
        "    print(\"It's freezing cold!\")\n",
        "elif celsius > 0 and celsius <= 20:\n",
        "    # If temperature is between 1°C and 20°C\n",
        "    print(\"It's a bit chilly.\")\n",
        "elif celsius >= 21 and celsius <= 30:\n",
        "    # If temperature is between 21°C and 30°C\n",
        "    print(\"Nice and warm.\")\n",
        "else:\n",
        "    # If temperature is above 30°C\n",
        "    print(\"It's hot!\")\n"
      ],
      "metadata": {
        "colab": {
          "base_uri": "https://localhost:8080/"
        },
        "id": "JTVBOcoTXaVw",
        "outputId": "86a12c72-d0b9-4439-92e6-eb37af53f2a4"
      },
      "execution_count": 4,
      "outputs": [
        {
          "output_type": "stream",
          "name": "stdout",
          "text": [
            "Enter temperature in Celsius: 36\n",
            "36.0°C = 96.80°F\n",
            "It's hot!\n"
          ]
        }
      ]
    },
    {
      "cell_type": "code",
      "source": [],
      "metadata": {
        "id": "pV-rI37KaGt4"
      },
      "execution_count": 3,
      "outputs": []
    }
  ]
}