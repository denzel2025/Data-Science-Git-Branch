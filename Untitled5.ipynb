{
  "nbformat": 4,
  "nbformat_minor": 0,
  "metadata": {
    "colab": {
      "provenance": [],
      "authorship_tag": "ABX9TyPJJzOx6uiEi48YZSe1G1x8",
      "include_colab_link": true
    },
    "kernelspec": {
      "name": "python3",
      "display_name": "Python 3"
    },
    "language_info": {
      "name": "python"
    }
  },
  "cells": [
    {
      "cell_type": "markdown",
      "metadata": {
        "id": "view-in-github",
        "colab_type": "text"
      },
      "source": [
        "<a href=\"https://colab.research.google.com/github/denzel2025/Data-Science-Git-Branch/blob/main/Untitled5.ipynb\" target=\"_parent\"><img src=\"https://colab.research.google.com/assets/colab-badge.svg\" alt=\"Open In Colab\"/></a>"
      ]
    },
    {
      "cell_type": "code",
      "execution_count": 4,
      "metadata": {
        "colab": {
          "base_uri": "https://localhost:8080/"
        },
        "id": "Z69BRZOJQ7rz",
        "outputId": "e47b2213-932e-4875-e50a-8fe46aef3d51"
      },
      "outputs": [
        {
          "output_type": "stream",
          "name": "stdout",
          "text": [
            "Enter your name: Denzel\n",
            "Hello, Denzel!\n"
          ]
        }
      ],
      "source": [
        "#Input/Output and Formatted Strings(f-strings)\n",
        "#Input: Use the input() functionto receive user data.\n",
        "\n",
        "user_name = input(\"Enter your name: \")\n",
        "print(f\"Hello, {user_name}!\")\n"
      ]
    },
    {
      "cell_type": "code",
      "source": [
        "#Formatted strings(f-strings):\n",
        "\n",
        "age = int(input(\"Enter your age: \"))\n",
        "print(f\"You are {age} years old.\")"
      ],
      "metadata": {
        "colab": {
          "base_uri": "https://localhost:8080/"
        },
        "id": "SKbCQm9PReO4",
        "outputId": "f3378c92-34ab-4753-f6f9-d26a6b54cbc1"
      },
      "execution_count": 5,
      "outputs": [
        {
          "output_type": "stream",
          "name": "stdout",
          "text": [
            "Enter your age: 18\n",
            "You are 18 years old.\n"
          ]
        }
      ]
    },
    {
      "cell_type": "code",
      "source": [
        "#Comparison Exercise:Difference detween concatenation and formatted strings\n",
        "\n",
        "#Concatenation method:\n",
        "first_name = input(\"Enter your first name: \")\n",
        "last_name = input(\"Enter your last name: \")\n",
        "print(\"Hello, \" + first_name + \" \" + last_name + \"!\")\n",
        "\n",
        "#Formatted string method:\n",
        "first_name = input(\"Enter your first name: \")\n",
        "last_name = input(\"Enter your last name: \")\n",
        "print(f\"Hello, {first_name} {last_name}!\")\n",
        "\n"
      ],
      "metadata": {
        "colab": {
          "base_uri": "https://localhost:8080/"
        },
        "id": "bSSJQdYnSiiD",
        "outputId": "4e0bccec-f7bf-4e5a-f8ec-0ba96f9e6d83"
      },
      "execution_count": 6,
      "outputs": [
        {
          "output_type": "stream",
          "name": "stdout",
          "text": [
            "Enter your first name: Denzel\n",
            "Enter your last name: Nyrangi\n",
            "Hello, Denzel Nyrangi!\n",
            "Enter your first name: Denzel\n",
            "Enter your last name: Nyarangi\n",
            "Hello, Denzel Nyarangi!\n"
          ]
        }
      ]
    },
    {
      "cell_type": "code",
      "source": [
        "#Concatenation method:\n",
        "message1 = \"Your age is\" + str(age) + \".\"\n",
        "print(message1)\n",
        "\n",
        "#Formatted string method:\n",
        "message2 = f\"Your age is {age}.\"\n",
        "print(message2)\n",
        "\n",
        "print (message1, \"\\n\", message2)"
      ],
      "metadata": {
        "colab": {
          "base_uri": "https://localhost:8080/"
        },
        "id": "9w403v_NTqPE",
        "outputId": "82f87c0b-6d52-4a8e-a161-d9764a3287a5"
      },
      "execution_count": 10,
      "outputs": [
        {
          "output_type": "stream",
          "name": "stdout",
          "text": [
            "Your age is18.\n",
            "Your age is 18.\n",
            "Your age is18. \n",
            " Your age is 18.\n"
          ]
        }
      ]
    },
    {
      "cell_type": "code",
      "source": [],
      "metadata": {
        "id": "guTfYdaKUaMU"
      },
      "execution_count": null,
      "outputs": []
    }
  ]
}