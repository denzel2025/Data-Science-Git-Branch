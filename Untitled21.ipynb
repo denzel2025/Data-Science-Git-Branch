{
  "nbformat": 4,
  "nbformat_minor": 0,
  "metadata": {
    "colab": {
      "provenance": [],
      "authorship_tag": "ABX9TyNRaNZ+zGaYiZz79GNsGeWv",
      "include_colab_link": true
    },
    "kernelspec": {
      "name": "python3",
      "display_name": "Python 3"
    },
    "language_info": {
      "name": "python"
    }
  },
  "cells": [
    {
      "cell_type": "markdown",
      "metadata": {
        "id": "view-in-github",
        "colab_type": "text"
      },
      "source": [
        "<a href=\"https://colab.research.google.com/github/denzel2025/Data-Science-Git-Branch/blob/main/Untitled21.ipynb\" target=\"_parent\"><img src=\"https://colab.research.google.com/assets/colab-badge.svg\" alt=\"Open In Colab\"/></a>"
      ]
    },
    {
      "cell_type": "code",
      "execution_count": null,
      "metadata": {
        "colab": {
          "base_uri": "https://localhost:8080/"
        },
        "id": "Jnn8riWuR8iz",
        "outputId": "e2efa5d4-6277-4c56-ae5f-58a6973513bb"
      },
      "outputs": [
        {
          "output_type": "stream",
          "name": "stdout",
          "text": [
            "Enter name: olise\n",
            "Hello, olise!\n"
          ]
        }
      ],
      "source": [
        "def greet(name):\n",
        "  return f\"Hello, {name}!\"\n",
        "\n",
        "name=input(\"Enter name: \")\n",
        "print(greet(name))"
      ]
    },
    {
      "cell_type": "code",
      "source": [
        "#Abstract-Hiding details showing only what matters\n",
        "#Decomposition-Breaking problems into smaller reusable functions\n",
        "#Functions-Mini-programs: take inputs,return outputs\n",
        "#Doctsrings-\"Contracts\" that explains what a function does\n",
        "#Calling a function-Actually using it, like pressing a button"
      ],
      "metadata": {
        "id": "q3SdyvnaTBzr"
      },
      "execution_count": null,
      "outputs": []
    },
    {
      "cell_type": "code",
      "source": [
        "#is number even?\n",
        "def is_even(i):\n",
        "  \"\"\"Returns True if is even, False otherwise.\"\"\"\n",
        "  return i % 2 == 0\n",
        "\n",
        "print(is_even(6))"
      ],
      "metadata": {
        "colab": {
          "base_uri": "https://localhost:8080/"
        },
        "id": "HoDJ3yvoSSQ-",
        "outputId": "0337bcb6-d1d9-42c9-8d93-667004077906"
      },
      "execution_count": null,
      "outputs": [
        {
          "output_type": "stream",
          "name": "stdout",
          "text": [
            "True\n"
          ]
        }
      ]
    },
    {
      "cell_type": "code",
      "source": [
        "#quadratic equation\n",
        "def eval_quadratic (a, b, c, x):\n",
        "  return a*x**2 + b*x + c\n",
        "\n",
        "print(eval_quadratic(1, 1, 1, 1))"
      ],
      "metadata": {
        "colab": {
          "base_uri": "https://localhost:8080/"
        },
        "id": "ZnDJwQ_lUidL",
        "outputId": "cb588123-4c61-495c-a759-c318660f07eb"
      },
      "execution_count": null,
      "outputs": [
        {
          "output_type": "stream",
          "name": "stdout",
          "text": [
            "3\n"
          ]
        }
      ]
    },
    {
      "cell_type": "code",
      "source": [
        "#sum of odd numbers\n",
        "def sum_odd(a, b):\n",
        "  total = 0\n",
        "  for i in range(a, b+1):\n",
        "    if i % 2 == 1:\n",
        "      total += i\n",
        "  return total\n",
        "\n",
        "print(sum_odd(2, 7))"
      ],
      "metadata": {
        "colab": {
          "base_uri": "https://localhost:8080/"
        },
        "id": "8BH3T3i-WqGa",
        "outputId": "0b47a40d-e6b6-469d-ae78-1d3052a3a62b"
      },
      "execution_count": null,
      "outputs": [
        {
          "output_type": "stream",
          "name": "stdout",
          "text": [
            "15\n"
          ]
        }
      ]
    },
    {
      "cell_type": "code",
      "source": [
        "#sum of odd numbers\n",
        "def sum_odd(a, b):\n",
        "  total = 0\n",
        "  for i in range(a, b+1):\n",
        "    if i % 2 != 0:\n",
        "      total += i\n",
        "  return total\n",
        "\n",
        "print(sum_odd(2, 7))"
      ],
      "metadata": {
        "colab": {
          "base_uri": "https://localhost:8080/"
        },
        "id": "-kp_o9yRYfxm",
        "outputId": "8039e91f-d5a9-409a-dda2-8aa6b4f732d0"
      },
      "execution_count": null,
      "outputs": [
        {
          "output_type": "stream",
          "name": "stdout",
          "text": [
            "15\n"
          ]
        }
      ]
    },
    {
      "cell_type": "code",
      "source": [
        "#Is a string a palindrome?\n",
        "def is_palindrome(s):\n",
        "  for i in range(len(s)//2):\n",
        "    if s[i] != s[-(i+1)]:\n",
        "      return False\n",
        "  return True\n",
        "\n",
        "print(is_palindrome(\"radar\"))\n"
      ],
      "metadata": {
        "colab": {
          "base_uri": "https://localhost:8080/"
        },
        "id": "cOLYANgYZaOg",
        "outputId": "c5c1e774-3ba4-4a14-d2ca-b6bb243efa18"
      },
      "execution_count": null,
      "outputs": [
        {
          "output_type": "stream",
          "name": "stdout",
          "text": [
            "True\n"
          ]
        }
      ]
    },
    {
      "cell_type": "code",
      "source": [
        "def areaofcircle(r):\n",
        "  return 3.14 * r**2\n",
        "\n",
        "print(areaofcircle(5))\n"
      ],
      "metadata": {
        "colab": {
          "base_uri": "https://localhost:8080/"
        },
        "id": "IZ-Xl2vUcfVB",
        "outputId": "978596a0-e48c-413d-a7e1-0fb7719eb9ba"
      },
      "execution_count": null,
      "outputs": [
        {
          "output_type": "stream",
          "name": "stdout",
          "text": [
            "78.5\n"
          ]
        }
      ]
    },
    {
      "cell_type": "code",
      "source": [
        "def areaofcircle(r):\n",
        "  \"\"\"define pi constant\"\"\"\n",
        "  const=3.142\n",
        "  \"\"\"calculate and return the area\"\"\"\n",
        "  return const*r**2\n",
        "\n",
        "#call the function passing a radius value\n",
        "areaofcircle(10)"
      ],
      "metadata": {
        "colab": {
          "base_uri": "https://localhost:8080/"
        },
        "id": "wKyjdfW9cwZE",
        "outputId": "77d37a66-db87-418e-eb12-d857bd201078"
      },
      "execution_count": null,
      "outputs": [
        {
          "output_type": "execute_result",
          "data": {
            "text/plain": [
              "314.2"
            ]
          },
          "metadata": {},
          "execution_count": 27
        }
      ]
    },
    {
      "cell_type": "code",
      "source": [
        "# a function to calculate the area of a circle\n",
        "\n",
        "def area_of_circle(radius):\n",
        "\n",
        "  pi=3.142\n",
        "\n",
        "  return pi * radius**2\n",
        "\n",
        "print(area_of_circle(5))"
      ],
      "metadata": {
        "colab": {
          "base_uri": "https://localhost:8080/"
        },
        "id": "Gtav6iRjgij6",
        "outputId": "4261bd68-9177-4c21-b85f-eaee59e2472f"
      },
      "execution_count": null,
      "outputs": [
        {
          "output_type": "stream",
          "name": "stdout",
          "text": [
            "78.55\n"
          ]
        }
      ]
    },
    {
      "cell_type": "code",
      "source": [
        "# a function to find a leap year\n",
        "\n",
        "def is_leap(year):\n",
        "  \"\"\"Returns True if the year is a leap year, False otherwise.\"\"\"\n",
        "  return (year % 4 == 0 and year % 100 != 0) or (year % 400 == 0)\n",
        "\n",
        "print(is_leap(2000))\n",
        "print(is_leap(1900))\n",
        "print(is_leap(2024))"
      ],
      "metadata": {
        "colab": {
          "base_uri": "https://localhost:8080/"
        },
        "id": "F2_4pDWMgsDT",
        "outputId": "db95a56c-6409-4fa3-bcec-39a2232adf30"
      },
      "execution_count": null,
      "outputs": [
        {
          "output_type": "stream",
          "name": "stdout",
          "text": [
            "True\n",
            "False\n",
            "True\n"
          ]
        }
      ]
    },
    {
      "cell_type": "code",
      "source": [
        "# a function that checks if a student passed based on score\n",
        "\n",
        "def check_pass(score, passing_score):\n",
        "  \"\"\"Checks if a student passed based on score.\"\"\"\n",
        "  return score >= passing_score\n",
        "\n",
        "student_score = 53\n",
        "pass_mark = 50\n",
        "if check_pass(student_score, pass_mark):\n",
        "  print(\"Student passed!\")\n",
        "else:\n",
        "  print(\"Student did not pass.\")"
      ],
      "metadata": {
        "colab": {
          "base_uri": "https://localhost:8080/"
        },
        "id": "pPpG2twGh2yz",
        "outputId": "f0576837-4c3d-48cc-fe96-5b37fcd68246"
      },
      "execution_count": null,
      "outputs": [
        {
          "output_type": "stream",
          "name": "stdout",
          "text": [
            "Student passed!\n"
          ]
        }
      ]
    },
    {
      "cell_type": "code",
      "source": [],
      "metadata": {
        "id": "PBiHmwVNjKRw"
      },
      "execution_count": null,
      "outputs": []
    }
  ]
}