{
  "nbformat": 4,
  "nbformat_minor": 0,
  "metadata": {
    "colab": {
      "provenance": [],
      "authorship_tag": "ABX9TyONcf2aOpcRiVmrCcsQR27d",
      "include_colab_link": true
    },
    "kernelspec": {
      "name": "python3",
      "display_name": "Python 3"
    },
    "language_info": {
      "name": "python"
    }
  },
  "cells": [
    {
      "cell_type": "markdown",
      "metadata": {
        "id": "view-in-github",
        "colab_type": "text"
      },
      "source": [
        "<a href=\"https://colab.research.google.com/github/denzel2025/Data-Science-Git-Branch/blob/main/Becoming_a_pro_in_python_functions.ipynb\" target=\"_parent\"><img src=\"https://colab.research.google.com/assets/colab-badge.svg\" alt=\"Open In Colab\"/></a>"
      ]
    },
    {
      "cell_type": "code",
      "execution_count": 2,
      "metadata": {
        "colab": {
          "base_uri": "https://localhost:8080/"
        },
        "id": "5DkOwR2nQJd8",
        "outputId": "8dcef264-8557-4ed5-a185-62f72ad8c3c6"
      },
      "outputs": [
        {
          "output_type": "stream",
          "name": "stdout",
          "text": [
            "Howdy!\n",
            "Howdy again!\n",
            "Hello there.\n",
            "Howdy!\n",
            "Howdy again!\n",
            "Hello there.\n",
            "Howdy!\n",
            "Howdy again!\n",
            "Hello there.\n"
          ]
        }
      ],
      "source": [
        "#Writing own function\n",
        "\n",
        "def hello():\n",
        "  print(\"Howdy!\")\n",
        "  print(\"Howdy again!\")\n",
        "  print(\"Hello there.\")\n",
        "\n",
        "hello()\n",
        "hello()\n",
        "hello()"
      ]
    },
    {
      "cell_type": "code",
      "source": [
        "#Parameters & Arguments\n",
        "\n",
        "def greet(name):\n",
        "  print(\"Hello, \" + name)\n",
        "\n",
        "greet(\"Alice\")\n",
        "greet(\"Bob\")"
      ],
      "metadata": {
        "colab": {
          "base_uri": "https://localhost:8080/"
        },
        "id": "TJ0rgiJ7Ui75",
        "outputId": "fb27be91-e520-4b7b-912d-98cdd279cde0"
      },
      "execution_count": 3,
      "outputs": [
        {
          "output_type": "stream",
          "name": "stdout",
          "text": [
            "Hello, Alice\n",
            "Hello, Bob\n"
          ]
        }
      ]
    },
    {
      "cell_type": "code",
      "source": [
        "def say_hello(name):\n",
        "  print(\"Hello, \" + name)\n",
        "\n",
        "say_hello(\"Jane\")"
      ],
      "metadata": {
        "colab": {
          "base_uri": "https://localhost:8080/"
        },
        "id": "wysX8hqeWaCa",
        "outputId": "fb2723a9-8e26-4a47-b70b-661a6e606358"
      },
      "execution_count": 5,
      "outputs": [
        {
          "output_type": "stream",
          "name": "stdout",
          "text": [
            "Hello, Jane\n"
          ]
        }
      ]
    },
    {
      "cell_type": "code",
      "source": [
        "#Return values\n",
        "def square(x):\n",
        "    return x * x\n",
        "\n",
        "result = square(4)\n",
        "print(result)"
      ],
      "metadata": {
        "colab": {
          "base_uri": "https://localhost:8080/"
        },
        "id": "I-vK0DGLXhjz",
        "outputId": "5de04a36-9bf0-4cd2-ca39-052326565020"
      },
      "execution_count": 6,
      "outputs": [
        {
          "output_type": "stream",
          "name": "stdout",
          "text": [
            "16\n"
          ]
        }
      ]
    },
    {
      "cell_type": "code",
      "source": [
        "def no_return():\n",
        "  print(\"Hi\")\n",
        "\n",
        "x = no_return()\n",
        "print(x)"
      ],
      "metadata": {
        "colab": {
          "base_uri": "https://localhost:8080/"
        },
        "id": "mOkl-WhoZQEj",
        "outputId": "af8d6b7e-0bbe-47c3-a43e-cdf414158766"
      },
      "execution_count": 7,
      "outputs": [
        {
          "output_type": "stream",
          "name": "stdout",
          "text": [
            "Hi\n",
            "None\n"
          ]
        }
      ]
    },
    {
      "cell_type": "code",
      "source": [
        "#The Call Stack\n",
        "def a():\n",
        "  print(\"a starts\")\n",
        "  b()\n",
        "  print(\"a ends\")\n",
        "\n",
        "def b():\n",
        "  print(\"b starts\")\n",
        "  c()\n",
        "  print(\"b ends\")\n",
        "\n",
        "def c():\n",
        "  print(\"c starts and ends\")\n",
        "\n",
        "a()"
      ],
      "metadata": {
        "colab": {
          "base_uri": "https://localhost:8080/"
        },
        "id": "5YnG-2fiaDzA",
        "outputId": "ee3acd1d-d8d3-4116-a991-49cc795c9916"
      },
      "execution_count": 9,
      "outputs": [
        {
          "output_type": "stream",
          "name": "stdout",
          "text": [
            "a starts\n",
            "b starts\n",
            "c starts and ends\n",
            "b ends\n",
            "a ends\n"
          ]
        }
      ]
    },
    {
      "cell_type": "code",
      "source": [
        "#Local and global variables\n",
        "#Variables inside functions = local\n",
        "#Variables outside = global\n",
        "def spam():\n",
        "  eggs = \"local eggs\"\n",
        "  print(eggs)\n",
        "\n",
        "eggs = \"global eggs\"\n",
        "spam()\n",
        "print(eggs)"
      ],
      "metadata": {
        "colab": {
          "base_uri": "https://localhost:8080/"
        },
        "id": "-jYTu1Ihbaa9",
        "outputId": "9dca8711-b1d5-4f01-eaa2-e76b75a739ef"
      },
      "execution_count": 10,
      "outputs": [
        {
          "output_type": "stream",
          "name": "stdout",
          "text": [
            "local eggs\n",
            "global eggs\n"
          ]
        }
      ]
    },
    {
      "cell_type": "code",
      "source": [
        "#Handling Errors with Try/Except\n",
        "#Without try:\n",
        "def divide(x):\n",
        "  return 10 / x\n",
        "\n",
        "divide(0)"
      ],
      "metadata": {
        "colab": {
          "base_uri": "https://localhost:8080/",
          "height": 297
        },
        "id": "-WRm4hA7dySE",
        "outputId": "b9d02d28-0586-439a-bd97-098117d3bf9d"
      },
      "execution_count": 11,
      "outputs": [
        {
          "output_type": "error",
          "ename": "ZeroDivisionError",
          "evalue": "division by zero",
          "traceback": [
            "\u001b[0;31m---------------------------------------------------------------------------\u001b[0m",
            "\u001b[0;31mZeroDivisionError\u001b[0m                         Traceback (most recent call last)",
            "\u001b[0;32m/tmp/ipython-input-11-1361420373.py\u001b[0m in \u001b[0;36m<cell line: 0>\u001b[0;34m()\u001b[0m\n\u001b[1;32m      4\u001b[0m   \u001b[0;32mreturn\u001b[0m \u001b[0;36m10\u001b[0m \u001b[0;34m/\u001b[0m \u001b[0mx\u001b[0m\u001b[0;34m\u001b[0m\u001b[0;34m\u001b[0m\u001b[0m\n\u001b[1;32m      5\u001b[0m \u001b[0;34m\u001b[0m\u001b[0m\n\u001b[0;32m----> 6\u001b[0;31m \u001b[0mdivide\u001b[0m\u001b[0;34m(\u001b[0m\u001b[0;36m0\u001b[0m\u001b[0;34m)\u001b[0m\u001b[0;34m\u001b[0m\u001b[0;34m\u001b[0m\u001b[0m\n\u001b[0m",
            "\u001b[0;32m/tmp/ipython-input-11-1361420373.py\u001b[0m in \u001b[0;36mdivide\u001b[0;34m(x)\u001b[0m\n\u001b[1;32m      2\u001b[0m \u001b[0;31m#Without try:\u001b[0m\u001b[0;34m\u001b[0m\u001b[0;34m\u001b[0m\u001b[0m\n\u001b[1;32m      3\u001b[0m \u001b[0;32mdef\u001b[0m \u001b[0mdivide\u001b[0m\u001b[0;34m(\u001b[0m\u001b[0mx\u001b[0m\u001b[0;34m)\u001b[0m\u001b[0;34m:\u001b[0m\u001b[0;34m\u001b[0m\u001b[0;34m\u001b[0m\u001b[0m\n\u001b[0;32m----> 4\u001b[0;31m   \u001b[0;32mreturn\u001b[0m \u001b[0;36m10\u001b[0m \u001b[0;34m/\u001b[0m \u001b[0mx\u001b[0m\u001b[0;34m\u001b[0m\u001b[0;34m\u001b[0m\u001b[0m\n\u001b[0m\u001b[1;32m      5\u001b[0m \u001b[0;34m\u001b[0m\u001b[0m\n\u001b[1;32m      6\u001b[0m \u001b[0mdivide\u001b[0m\u001b[0;34m(\u001b[0m\u001b[0;36m0\u001b[0m\u001b[0;34m)\u001b[0m\u001b[0;34m\u001b[0m\u001b[0;34m\u001b[0m\u001b[0m\n",
            "\u001b[0;31mZeroDivisionError\u001b[0m: division by zero"
          ]
        }
      ]
    },
    {
      "cell_type": "code",
      "source": [
        "#With Try\n",
        "def divide(x):\n",
        "  try:\n",
        "    return 10 / x\n",
        "  except ZeroDivisionError:\n",
        "    print(\"Cannot divide by zero\")\n",
        "    return None"
      ],
      "metadata": {
        "id": "2afbkk9we3__"
      },
      "execution_count": 14,
      "outputs": []
    },
    {
      "cell_type": "code",
      "source": [
        "#Live coding challange:Magic ball 8\n",
        "import random\n",
        "def get_answer(num):\n",
        "  if num == 1:\n",
        "    return \"It is certain\"\n",
        "  elif num == 2:\n",
        "    return \"Outlook not so good\"\n",
        "  else:\n",
        "    return \"Try again\"\n",
        "\n",
        "print(get_answer(random.randint(2, 4)))"
      ],
      "metadata": {
        "colab": {
          "base_uri": "https://localhost:8080/"
        },
        "id": "VGfJSmcafWbg",
        "outputId": "8f8c578e-d43d-40bd-a561-58d348ff3af4"
      },
      "execution_count": 33,
      "outputs": [
        {
          "output_type": "stream",
          "name": "stdout",
          "text": [
            "Outlook not so good\n"
          ]
        }
      ]
    },
    {
      "cell_type": "code",
      "source": [
        "#Mini Project:Collatz sequence\n",
        "def collatz(number):\n",
        "  if number % 2 == 0:\n",
        "    result = number // 2\n",
        "  else:\n",
        "    result = 3 * number + 1\n",
        "  print(result)\n",
        "  return result\n",
        "\n",
        "n = int(input(\"Enter a number: \"))\n",
        "while n != 1:\n",
        "  n = collatz(n)"
      ],
      "metadata": {
        "colab": {
          "base_uri": "https://localhost:8080/"
        },
        "id": "_rccsNx1g1Dd",
        "outputId": "2d14d306-f653-4d6e-d9c8-f29b7ea6bc00"
      },
      "execution_count": 37,
      "outputs": [
        {
          "output_type": "stream",
          "name": "stdout",
          "text": [
            "Enter a number: 6\n",
            "3\n",
            "10\n",
            "5\n",
            "16\n",
            "8\n",
            "4\n",
            "2\n",
            "1\n"
          ]
        }
      ]
    },
    {
      "cell_type": "code",
      "source": [
        "#Keyword Arguments and Default Values\n",
        "def greet(name, punctuation = \"!\"):\n",
        "  print(\"Hello, \" + name + punctuation)\n",
        "\n",
        "greet(\"Alice\")\n",
        "greet(\"Bob\", \".\")"
      ],
      "metadata": {
        "colab": {
          "base_uri": "https://localhost:8080/"
        },
        "id": "SOxzTJclkgOS",
        "outputId": "54e0c38f-960e-44a3-e5ef-01683478a08a"
      },
      "execution_count": 39,
      "outputs": [
        {
          "output_type": "stream",
          "name": "stdout",
          "text": [
            "Hello, Alice!\n",
            "Hello, Bob.\n"
          ]
        }
      ]
    },
    {
      "cell_type": "code",
      "source": [
        "#Final Bonus:Zigzag Animation Fun!\n",
        "import time\n",
        "indent = 0\n",
        "increasing = True\n",
        "\n",
        "try:\n",
        "  while True:\n",
        "    print(\" \" * indent + \"********\")\n",
        "    time.sleep(0.1)\n",
        "\n",
        "    if increasing:\n",
        "      indent += 1\n",
        "      if indent == 20:\n",
        "        increasing = False\n",
        "    else:\n",
        "      indent -= 1\n",
        "      if indent == 0:\n",
        "        increasing = True\n",
        "except KeyboardInterrupt:\n",
        "  print(\"Program stopped.\")"
      ],
      "metadata": {
        "colab": {
          "base_uri": "https://localhost:8080/"
        },
        "collapsed": true,
        "id": "byEHkyIUlsBh",
        "outputId": "c7ceeeb9-7826-4ec8-d6a0-e17e00ea806a"
      },
      "execution_count": 41,
      "outputs": [
        {
          "output_type": "stream",
          "name": "stdout",
          "text": [
            "********\n",
            " ********\n",
            "  ********\n",
            "   ********\n",
            "    ********\n",
            "     ********\n",
            "      ********\n",
            "       ********\n",
            "        ********\n",
            "         ********\n",
            "          ********\n",
            "           ********\n",
            "            ********\n",
            "             ********\n",
            "              ********\n",
            "               ********\n",
            "                ********\n",
            "                 ********\n",
            "                  ********\n",
            "                   ********\n",
            "                    ********\n",
            "                   ********\n",
            "                  ********\n",
            "                 ********\n",
            "                ********\n",
            "               ********\n",
            "              ********\n",
            "             ********\n",
            "            ********\n",
            "           ********\n",
            "          ********\n",
            "         ********\n",
            "        ********\n",
            "       ********\n",
            "      ********\n",
            "     ********\n",
            "    ********\n",
            "   ********\n",
            "  ********\n",
            " ********\n",
            "********\n",
            " ********\n",
            "  ********\n",
            "   ********\n",
            "    ********\n",
            "     ********\n",
            "      ********\n",
            "       ********\n",
            "        ********\n",
            "         ********\n",
            "          ********\n",
            "           ********\n",
            "            ********\n",
            "             ********\n",
            "              ********\n",
            "               ********\n",
            "                ********\n",
            "                 ********\n",
            "                  ********\n",
            "                   ********\n",
            "                    ********\n",
            "                   ********\n",
            "                  ********\n",
            "                 ********\n",
            "                ********\n",
            "               ********\n",
            "              ********\n",
            "             ********\n",
            "            ********\n",
            "           ********\n",
            "          ********\n",
            "         ********\n",
            "        ********\n",
            "       ********\n",
            "      ********\n",
            "     ********\n",
            "    ********\n",
            "   ********\n",
            "  ********\n",
            " ********\n",
            "********\n",
            " ********\n",
            "  ********\n",
            "   ********\n",
            "    ********\n",
            "     ********\n",
            "      ********\n",
            "       ********\n",
            "        ********\n",
            "         ********\n",
            "          ********\n",
            "           ********\n",
            "            ********\n",
            "             ********\n",
            "              ********\n",
            "               ********\n",
            "                ********\n",
            "                 ********\n",
            "                  ********\n",
            "                   ********\n",
            "                    ********\n",
            "                   ********\n",
            "                  ********\n",
            "                 ********\n",
            "                ********\n",
            "               ********\n",
            "              ********\n",
            "             ********\n",
            "            ********\n",
            "           ********\n",
            "          ********\n",
            "         ********\n",
            "        ********\n",
            "       ********\n",
            "      ********\n",
            "     ********\n",
            "    ********\n",
            "   ********\n",
            "  ********\n",
            " ********\n",
            "********\n",
            " ********\n",
            "  ********\n",
            "   ********\n",
            "    ********\n",
            "     ********\n",
            "      ********\n",
            "       ********\n",
            "        ********\n",
            "         ********\n",
            "          ********\n",
            "           ********\n",
            "            ********\n",
            "             ********\n",
            "              ********\n",
            "               ********\n",
            "                ********\n",
            "                 ********\n",
            "                  ********\n",
            "                   ********\n",
            "                    ********\n",
            "                   ********\n",
            "                  ********\n",
            "                 ********\n",
            "                ********\n",
            "               ********\n",
            "              ********\n",
            "             ********\n",
            "            ********\n",
            "           ********\n",
            "          ********\n",
            "         ********\n",
            "        ********\n",
            "       ********\n",
            "      ********\n",
            "     ********\n",
            "    ********\n",
            "   ********\n",
            "  ********\n",
            " ********\n",
            "********\n",
            " ********\n",
            "  ********\n",
            "   ********\n",
            "    ********\n",
            "     ********\n",
            "      ********\n",
            "       ********\n",
            "        ********\n",
            "         ********\n",
            "          ********\n",
            "           ********\n",
            "            ********\n",
            "             ********\n",
            "              ********\n",
            "               ********\n",
            "                ********\n",
            "                 ********\n",
            "                  ********\n",
            "                   ********\n",
            "                    ********\n",
            "                   ********\n",
            "                  ********\n",
            "                 ********\n",
            "                ********\n",
            "               ********\n",
            "              ********\n",
            "             ********\n",
            "            ********\n",
            "           ********\n",
            "          ********\n",
            "         ********\n",
            "        ********\n",
            "       ********\n",
            "      ********\n",
            "     ********\n",
            "    ********\n",
            "   ********\n",
            "  ********\n",
            " ********\n",
            "********\n",
            " ********\n",
            "  ********\n",
            "   ********\n",
            "    ********\n",
            "     ********\n",
            "      ********\n",
            "       ********\n",
            "        ********\n",
            "         ********\n",
            "          ********\n",
            "           ********\n",
            "            ********\n",
            "             ********\n",
            "              ********\n",
            "               ********\n",
            "                ********\n",
            "                 ********\n",
            "                  ********\n",
            "                   ********\n",
            "                    ********\n",
            "                   ********\n",
            "                  ********\n",
            "                 ********\n",
            "                ********\n",
            "               ********\n",
            "              ********\n",
            "             ********\n",
            "            ********\n",
            "           ********\n",
            "          ********\n",
            "         ********\n",
            "        ********\n",
            "       ********\n",
            "      ********\n",
            "     ********\n",
            "    ********\n",
            "   ********\n",
            "  ********\n",
            " ********\n",
            "********\n",
            " ********\n",
            "  ********\n",
            "   ********\n",
            "    ********\n",
            "     ********\n",
            "      ********\n",
            "       ********\n",
            "        ********\n",
            "         ********\n",
            "          ********\n",
            "           ********\n",
            "            ********\n",
            "             ********\n",
            "              ********\n",
            "               ********\n",
            "                ********\n",
            "                 ********\n",
            "                  ********\n",
            "                   ********\n",
            "                    ********\n",
            "                   ********\n",
            "                  ********\n",
            "                 ********\n",
            "                ********\n",
            "               ********\n",
            "              ********\n",
            "             ********\n",
            "            ********\n",
            "           ********\n",
            "          ********\n",
            "         ********\n",
            "        ********\n",
            "       ********\n",
            "      ********\n",
            "     ********\n",
            "    ********\n",
            "   ********\n",
            "  ********\n",
            " ********\n",
            "********\n",
            " ********\n",
            "  ********\n",
            "   ********\n",
            "    ********\n",
            "     ********\n",
            "      ********\n",
            "       ********\n",
            "        ********\n",
            "         ********\n",
            "          ********\n",
            "           ********\n",
            "            ********\n",
            "             ********\n",
            "              ********\n",
            "               ********\n",
            "                ********\n",
            "                 ********\n",
            "                  ********\n",
            "                   ********\n",
            "                    ********\n",
            "                   ********\n",
            "                  ********\n",
            "                 ********\n",
            "                ********\n",
            "               ********\n",
            "              ********\n",
            "             ********\n",
            "            ********\n",
            "           ********\n",
            "          ********\n",
            "         ********\n",
            "        ********\n",
            "       ********\n",
            "      ********\n",
            "     ********\n",
            "    ********\n",
            "   ********\n",
            "  ********\n",
            " ********\n",
            "********\n",
            " ********\n",
            "  ********\n",
            "   ********\n",
            "    ********\n",
            "     ********\n",
            "      ********\n",
            "       ********\n",
            "        ********\n",
            "         ********\n",
            "          ********\n",
            "           ********\n",
            "            ********\n",
            "             ********\n",
            "              ********\n",
            "               ********\n",
            "                ********\n",
            "                 ********\n",
            "                  ********\n",
            "                   ********\n",
            "                    ********\n",
            "                   ********\n",
            "                  ********\n",
            "                 ********\n",
            "                ********\n",
            "               ********\n",
            "              ********\n",
            "             ********\n",
            "            ********\n",
            "           ********\n",
            "          ********\n",
            "         ********\n",
            "        ********\n",
            "       ********\n",
            "      ********\n",
            "     ********\n",
            "    ********\n",
            "   ********\n",
            "  ********\n",
            " ********\n",
            "********\n",
            " ********\n",
            "  ********\n",
            "   ********\n",
            "    ********\n",
            "     ********\n",
            "      ********\n",
            "       ********\n",
            "        ********\n",
            "         ********\n",
            "          ********\n",
            "           ********\n",
            "            ********\n",
            "             ********\n",
            "              ********\n",
            "               ********\n",
            "                ********\n",
            "                 ********\n",
            "                  ********\n",
            "                   ********\n",
            "                    ********\n",
            "                   ********\n",
            "                  ********\n",
            "                 ********\n",
            "                ********\n",
            "               ********\n",
            "              ********\n",
            "             ********\n",
            "            ********\n",
            "           ********\n",
            "          ********\n",
            "         ********\n",
            "        ********\n",
            "       ********\n",
            "      ********\n",
            "     ********\n",
            "    ********\n",
            "   ********\n",
            "  ********\n",
            " ********\n",
            "********\n",
            " ********\n",
            "  ********\n",
            "   ********\n",
            "    ********\n",
            "     ********\n",
            "      ********\n",
            "       ********\n",
            "        ********\n",
            "         ********\n",
            "          ********\n",
            "           ********\n",
            "            ********\n",
            "             ********\n",
            "              ********\n",
            "               ********\n",
            "                ********\n",
            "                 ********\n",
            "                  ********\n",
            "                   ********\n",
            "                    ********\n",
            "                   ********\n",
            "                  ********\n",
            "                 ********\n",
            "                ********\n",
            "               ********\n",
            "              ********\n",
            "             ********\n",
            "            ********\n",
            "           ********\n",
            "          ********\n",
            "         ********\n",
            "        ********\n",
            "       ********\n",
            "      ********\n",
            "     ********\n",
            "    ********\n",
            "   ********\n",
            "  ********\n",
            " ********\n",
            "********\n",
            " ********\n",
            "  ********\n",
            "   ********\n",
            "    ********\n",
            "     ********\n",
            "      ********\n",
            "       ********\n",
            "        ********\n",
            "         ********\n",
            "          ********\n",
            "           ********\n",
            "            ********\n",
            "             ********\n",
            "              ********\n",
            "               ********\n",
            "                ********\n",
            "                 ********\n",
            "                  ********\n",
            "                   ********\n",
            "                    ********\n",
            "                   ********\n",
            "                  ********\n",
            "                 ********\n",
            "                ********\n",
            "               ********\n",
            "              ********\n",
            "             ********\n",
            "            ********\n",
            "           ********\n",
            "          ********\n",
            "         ********\n",
            "        ********\n",
            "       ********\n",
            "Program stopped.\n"
          ]
        }
      ]
    },
    {
      "cell_type": "code",
      "source": [
        "#Function - Code blopck you call with a name\n",
        "#Prameter - Input to a function\n",
        "#Argument - Actual value passsed in\n",
        "#Return - Value that comes out"
      ],
      "metadata": {
        "id": "FuodOUEvm4AT"
      },
      "execution_count": null,
      "outputs": []
    }
  ]
}